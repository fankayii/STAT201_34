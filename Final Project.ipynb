{
 "cells": [
  {
   "cell_type": "markdown",
   "id": "76f8ae88-35cb-4535-8b3d-da0db144534a",
   "metadata": {},
   "source": [
    "# **Theft in West Point Grey and Dunbar-Southlands**"
   ]
  },
  {
   "cell_type": "markdown",
   "id": "38c6c5b4-2d7e-469c-96dd-d0d0606aa6c8",
   "metadata": {},
   "source": [
    "**Group 34:** Andy Hu, Wendi Ke, CC Liang, and Mridul Manas"
   ]
  },
  {
   "cell_type": "markdown",
   "id": "b00fb3cd-fa1c-4723-94b3-6d11fd64ea36",
   "metadata": {},
   "source": [
    "<img src=\"https://raw.githubusercontent.com/fankayii/STAT201_34/main/images/theft.jpg\"/>"
   ]
  },
  {
   "cell_type": "markdown",
   "id": "253bd275-f1ba-41c8-916c-401019b8e30d",
   "metadata": {},
   "source": [
    "Source: https://raw.githubusercontent.com/fankayii/STAT201_34/main/images/theft.jpg"
   ]
  },
  {
   "cell_type": "markdown",
   "id": "514e0784-bdec-4bb1-9188-d2d57a31883b",
   "metadata": {},
   "source": [
    "# 1. Introduction\n",
    "Crime brings chills down everyone’s spines, with theft being the most common type of crime in Canada ([Government of Canada](https://www.justice.gc.ca/eng/cj-jp/state-etat/2019rpt-rap2019/p7.html)). Section 322 of the Canadian Criminal Code defines \"theft\" as \"fraudulently and without colour of right\" taking someone's property or converting its ownership ([Criminal Code](https://laws-lois.justice.gc.ca/eng/acts/c-46/section-322.html)). Understanding crime statistics is crucial to enhancing community relations, measuring prevention initiatives, and minimizing risks by making better decisions ([Vancouver Police Department](https://vpd.ca/crime-statistics/)). In this paper, we will study the proportion of theft crime in Dunbar-Southlands and West Point Grey, the two neighbourhoods closest to the University of British Columbia Vancouver campus ([UBC Vantage College](https://vantagecollege.ubc.ca/blog/your-guide-neighborhoods-vancouver)).\n",
    "\n",
    "### Research Question\n",
    "Is the proportion of theft occurring in the neighbourhood of West Point Grey higher than Dunbar-Southlands? \n",
    "\n",
    "### Variables\n",
    "The random variable of interest for comparing is the proportion of theft in the neighbourhoods of Dunbar-Southlands and West Point Grey. Of the response variable, differences in proportions is the location parameter and standard error is the scale parameter.\n",
    "\n",
    "### Hypotheses\n",
    "- Null Hypothesis $H_0$: There is no difference between the proportion of theft in the neighbourhoods of Dunbar-Southlands and West Point Grey.\n",
    "- Alternative Hypothesis $H_A$: The proportion of theft in West Point Grey is higher than in Dunbar-Southlands.\n",
    "\n",
    "| Null Hypothesis $H_0$ | Alternate Hypothesis $H_A$ |\n",
    "| --- | ----------- |\n",
    "|  $$H_0: p_w - p_d = 0$$ | $$H_A: p_w - p_d > 0$$ |\n",
    "\n",
    "### Dataset Description\n",
    "To conduct our research, we use the [Vancouver Police Department (VPD) crime data](https://geodash.vpd.ca/opendata/), which includes information on the different types of crimes in Vancouver from 2003 to 2023. We will be focusing on crimes within the last 5 complete years, 2018 to 2022, in the neighbourhoods of Dunbar-Southlands and West Point Grey in order to base our research upon more recent and prevalent information about contemporary crimes."
   ]
  },
  {
   "cell_type": "markdown",
   "id": "ff0eeabb-316e-4e2b-8c90-072b3e188416",
   "metadata": {},
   "source": [
    "# 2. Methods and Results"
   ]
  },
  {
   "cell_type": "markdown",
   "id": "bf858dc0-dc38-4856-a7ad-0486541fccb7",
   "metadata": {
    "tags": []
   },
   "source": [
    "### Exploratory Data Analysis"
   ]
  },
  {
   "cell_type": "markdown",
   "id": "47fa55f7-76f4-45db-9177-a6e23fb898e8",
   "metadata": {},
   "source": [
    "The `tidyverse`, `infer`, and `broom` packages allow us to clean and wrangle data, create visualizations, and make statistical inferences. "
   ]
  },
  {
   "cell_type": "code",
   "execution_count": 1,
   "id": "441c7a27-12cd-4c2d-a6f2-6c7de642313b",
   "metadata": {
    "vscode": {
     "languageId": "r"
    }
   },
   "outputs": [
    {
     "name": "stderr",
     "output_type": "stream",
     "text": [
      "── \u001b[1mAttaching packages\u001b[22m ─────────────────────────────────────── tidyverse 1.3.2 ──\n",
      "\u001b[32m✔\u001b[39m \u001b[34mggplot2\u001b[39m 3.3.6      \u001b[32m✔\u001b[39m \u001b[34mpurrr  \u001b[39m 0.3.4 \n",
      "\u001b[32m✔\u001b[39m \u001b[34mtibble \u001b[39m 3.1.8      \u001b[32m✔\u001b[39m \u001b[34mdplyr  \u001b[39m 1.0.10\n",
      "\u001b[32m✔\u001b[39m \u001b[34mtidyr  \u001b[39m 1.2.1      \u001b[32m✔\u001b[39m \u001b[34mstringr\u001b[39m 1.4.1 \n",
      "\u001b[32m✔\u001b[39m \u001b[34mreadr  \u001b[39m 2.1.2      \u001b[32m✔\u001b[39m \u001b[34mforcats\u001b[39m 0.5.2 \n",
      "── \u001b[1mConflicts\u001b[22m ────────────────────────────────────────── tidyverse_conflicts() ──\n",
      "\u001b[31m✖\u001b[39m \u001b[34mdplyr\u001b[39m::\u001b[32mfilter()\u001b[39m masks \u001b[34mstats\u001b[39m::filter()\n",
      "\u001b[31m✖\u001b[39m \u001b[34mdplyr\u001b[39m::\u001b[32mlag()\u001b[39m    masks \u001b[34mstats\u001b[39m::lag()\n"
     ]
    }
   ],
   "source": [
    "library(tidyverse)\n",
    "library(infer)\n",
    "library(broom)\n",
    "\n",
    "options(repr.plot.width = 10, repr.plot.height = 6)"
   ]
  },
  {
   "cell_type": "markdown",
   "id": "a4ab29ca-5a54-4971-81ce-c3474eb371f9",
   "metadata": {},
   "source": [
    "As we have uploaded the dataset to our GitHub repository, we can read the csv file from our GitHub link."
   ]
  },
  {
   "cell_type": "code",
   "execution_count": 2,
   "id": "6f8b708a-6ce7-42e5-8b26-9a57f10a83f9",
   "metadata": {
    "vscode": {
     "languageId": "r"
    }
   },
   "outputs": [
    {
     "data": {
      "text/html": [
       "<table class=\"dataframe\">\n",
       "<caption>A data.frame: 6 × 10</caption>\n",
       "<thead>\n",
       "\t<tr><th></th><th scope=col>TYPE</th><th scope=col>YEAR</th><th scope=col>MONTH</th><th scope=col>DAY</th><th scope=col>HOUR</th><th scope=col>MINUTE</th><th scope=col>HUNDRED_BLOCK</th><th scope=col>NEIGHBOURHOOD</th><th scope=col>X</th><th scope=col>Y</th></tr>\n",
       "\t<tr><th></th><th scope=col>&lt;chr&gt;</th><th scope=col>&lt;int&gt;</th><th scope=col>&lt;int&gt;</th><th scope=col>&lt;int&gt;</th><th scope=col>&lt;int&gt;</th><th scope=col>&lt;int&gt;</th><th scope=col>&lt;chr&gt;</th><th scope=col>&lt;chr&gt;</th><th scope=col>&lt;dbl&gt;</th><th scope=col>&lt;dbl&gt;</th></tr>\n",
       "</thead>\n",
       "<tbody>\n",
       "\t<tr><th scope=row>1</th><td>Theft from Vehicle</td><td>2008</td><td>12</td><td> 7</td><td>18</td><td> 0</td><td>11XX E HASTINGS ST</td><td>Strathcona</td><td>494141.1</td><td>5458690</td></tr>\n",
       "\t<tr><th scope=row>2</th><td>Theft from Vehicle</td><td>2009</td><td> 8</td><td>28</td><td>19</td><td> 0</td><td>11XX E HASTINGS ST</td><td>Strathcona</td><td>494141.1</td><td>5458690</td></tr>\n",
       "\t<tr><th scope=row>3</th><td>Theft from Vehicle</td><td>2012</td><td> 7</td><td>25</td><td>12</td><td> 0</td><td>11XX E HASTINGS ST</td><td>Strathcona</td><td>494141.1</td><td>5458690</td></tr>\n",
       "\t<tr><th scope=row>4</th><td>Theft from Vehicle</td><td>2014</td><td> 5</td><td> 8</td><td>12</td><td>49</td><td>11XX E HASTINGS ST</td><td>Strathcona</td><td>494141.1</td><td>5458690</td></tr>\n",
       "\t<tr><th scope=row>5</th><td>Theft from Vehicle</td><td>2014</td><td>10</td><td>19</td><td>18</td><td> 0</td><td>11XX E HASTINGS ST</td><td>Strathcona</td><td>494141.1</td><td>5458690</td></tr>\n",
       "\t<tr><th scope=row>6</th><td>Theft from Vehicle</td><td>2015</td><td> 2</td><td>18</td><td>18</td><td>30</td><td>11XX E HASTINGS ST</td><td>Strathcona</td><td>494141.1</td><td>5458690</td></tr>\n",
       "</tbody>\n",
       "</table>\n"
      ],
      "text/latex": [
       "A data.frame: 6 × 10\n",
       "\\begin{tabular}{r|llllllllll}\n",
       "  & TYPE & YEAR & MONTH & DAY & HOUR & MINUTE & HUNDRED\\_BLOCK & NEIGHBOURHOOD & X & Y\\\\\n",
       "  & <chr> & <int> & <int> & <int> & <int> & <int> & <chr> & <chr> & <dbl> & <dbl>\\\\\n",
       "\\hline\n",
       "\t1 & Theft from Vehicle & 2008 & 12 &  7 & 18 &  0 & 11XX E HASTINGS ST & Strathcona & 494141.1 & 5458690\\\\\n",
       "\t2 & Theft from Vehicle & 2009 &  8 & 28 & 19 &  0 & 11XX E HASTINGS ST & Strathcona & 494141.1 & 5458690\\\\\n",
       "\t3 & Theft from Vehicle & 2012 &  7 & 25 & 12 &  0 & 11XX E HASTINGS ST & Strathcona & 494141.1 & 5458690\\\\\n",
       "\t4 & Theft from Vehicle & 2014 &  5 &  8 & 12 & 49 & 11XX E HASTINGS ST & Strathcona & 494141.1 & 5458690\\\\\n",
       "\t5 & Theft from Vehicle & 2014 & 10 & 19 & 18 &  0 & 11XX E HASTINGS ST & Strathcona & 494141.1 & 5458690\\\\\n",
       "\t6 & Theft from Vehicle & 2015 &  2 & 18 & 18 & 30 & 11XX E HASTINGS ST & Strathcona & 494141.1 & 5458690\\\\\n",
       "\\end{tabular}\n"
      ],
      "text/markdown": [
       "\n",
       "A data.frame: 6 × 10\n",
       "\n",
       "| <!--/--> | TYPE &lt;chr&gt; | YEAR &lt;int&gt; | MONTH &lt;int&gt; | DAY &lt;int&gt; | HOUR &lt;int&gt; | MINUTE &lt;int&gt; | HUNDRED_BLOCK &lt;chr&gt; | NEIGHBOURHOOD &lt;chr&gt; | X &lt;dbl&gt; | Y &lt;dbl&gt; |\n",
       "|---|---|---|---|---|---|---|---|---|---|---|\n",
       "| 1 | Theft from Vehicle | 2008 | 12 |  7 | 18 |  0 | 11XX E HASTINGS ST | Strathcona | 494141.1 | 5458690 |\n",
       "| 2 | Theft from Vehicle | 2009 |  8 | 28 | 19 |  0 | 11XX E HASTINGS ST | Strathcona | 494141.1 | 5458690 |\n",
       "| 3 | Theft from Vehicle | 2012 |  7 | 25 | 12 |  0 | 11XX E HASTINGS ST | Strathcona | 494141.1 | 5458690 |\n",
       "| 4 | Theft from Vehicle | 2014 |  5 |  8 | 12 | 49 | 11XX E HASTINGS ST | Strathcona | 494141.1 | 5458690 |\n",
       "| 5 | Theft from Vehicle | 2014 | 10 | 19 | 18 |  0 | 11XX E HASTINGS ST | Strathcona | 494141.1 | 5458690 |\n",
       "| 6 | Theft from Vehicle | 2015 |  2 | 18 | 18 | 30 | 11XX E HASTINGS ST | Strathcona | 494141.1 | 5458690 |\n",
       "\n"
      ],
      "text/plain": [
       "  TYPE               YEAR MONTH DAY HOUR MINUTE HUNDRED_BLOCK     \n",
       "1 Theft from Vehicle 2008 12     7  18    0     11XX E HASTINGS ST\n",
       "2 Theft from Vehicle 2009  8    28  19    0     11XX E HASTINGS ST\n",
       "3 Theft from Vehicle 2012  7    25  12    0     11XX E HASTINGS ST\n",
       "4 Theft from Vehicle 2014  5     8  12   49     11XX E HASTINGS ST\n",
       "5 Theft from Vehicle 2014 10    19  18    0     11XX E HASTINGS ST\n",
       "6 Theft from Vehicle 2015  2    18  18   30     11XX E HASTINGS ST\n",
       "  NEIGHBOURHOOD X        Y      \n",
       "1 Strathcona    494141.1 5458690\n",
       "2 Strathcona    494141.1 5458690\n",
       "3 Strathcona    494141.1 5458690\n",
       "4 Strathcona    494141.1 5458690\n",
       "5 Strathcona    494141.1 5458690\n",
       "6 Strathcona    494141.1 5458690"
      ]
     },
     "metadata": {},
     "output_type": "display_data"
    }
   ],
   "source": [
    "crime <- read.csv(\"https://raw.githubusercontent.com/fankayii/STAT201_34/main/data/crime.csv\")\n",
    "head(crime)"
   ]
  },
  {
   "cell_type": "markdown",
   "id": "2b0cfe95-0b82-4ac7-8686-abda54e7d903",
   "metadata": {
    "jp-MarkdownHeadingCollapsed": true,
    "tags": []
   },
   "source": [
    "First, we check for any NA values in our dataset."
   ]
  },
  {
   "cell_type": "code",
   "execution_count": 5,
   "id": "301d1f2f-9fa8-4950-92e8-01d13e8f99a6",
   "metadata": {},
   "outputs": [
    {
     "name": "stdout",
     "output_type": "stream",
     "text": [
      "[1] 146\n"
     ]
    },
    {
     "data": {
      "text/html": [
       "<table class=\"dataframe\">\n",
       "<caption>A data.frame: 6 × 10</caption>\n",
       "<thead>\n",
       "\t<tr><th></th><th scope=col>TYPE</th><th scope=col>YEAR</th><th scope=col>MONTH</th><th scope=col>DAY</th><th scope=col>HOUR</th><th scope=col>MINUTE</th><th scope=col>HUNDRED_BLOCK</th><th scope=col>NEIGHBOURHOOD</th><th scope=col>X</th><th scope=col>Y</th></tr>\n",
       "\t<tr><th></th><th scope=col>&lt;chr&gt;</th><th scope=col>&lt;int&gt;</th><th scope=col>&lt;int&gt;</th><th scope=col>&lt;int&gt;</th><th scope=col>&lt;int&gt;</th><th scope=col>&lt;int&gt;</th><th scope=col>&lt;chr&gt;</th><th scope=col>&lt;chr&gt;</th><th scope=col>&lt;dbl&gt;</th><th scope=col>&lt;dbl&gt;</th></tr>\n",
       "</thead>\n",
       "<tbody>\n",
       "\t<tr><th scope=row>310264</th><td>Vehicle Collision or Pedestrian Struck (with Injury)</td><td>2003</td><td> 6</td><td>22</td><td>18</td><td>58</td><td>0X TERMINAL AV / QUEBEC ST              </td><td></td><td>NA</td><td>NA</td></tr>\n",
       "\t<tr><th scope=row>311248</th><td>Vehicle Collision or Pedestrian Struck (with Injury)</td><td>2004</td><td>11</td><td> 7</td><td>18</td><td>24</td><td>13XX PACIFIC BLVD / 198 DRAKE ST        </td><td></td><td>NA</td><td>NA</td></tr>\n",
       "\t<tr><th scope=row>311366</th><td>Vehicle Collision or Pedestrian Struck (with Injury)</td><td>2003</td><td> 9</td><td>20</td><td>17</td><td>15</td><td>14XX BLOCK S E MARINE DR                </td><td></td><td>NA</td><td>NA</td></tr>\n",
       "\t<tr><th scope=row>311484</th><td>Vehicle Collision or Pedestrian Struck (with Injury)</td><td>2003</td><td> 8</td><td>31</td><td>21</td><td> 3</td><td>14XX W KING EDWARD AV / GRANVILLE ST    </td><td></td><td>NA</td><td>NA</td></tr>\n",
       "\t<tr><th scope=row>311596</th><td>Vehicle Collision or Pedestrian Struck (with Injury)</td><td>2004</td><td>10</td><td> 5</td><td>17</td><td>56</td><td>15XX BLOCK W 70TH AV / 8600 GRANVILLE ST</td><td></td><td>NA</td><td>NA</td></tr>\n",
       "\t<tr><th scope=row>311649</th><td>Vehicle Collision or Pedestrian Struck (with Injury)</td><td>2003</td><td> 5</td><td>30</td><td>18</td><td> 0</td><td>15XX W 66TH AV / 8298 GRANVILLE ST      </td><td></td><td>NA</td><td>NA</td></tr>\n",
       "</tbody>\n",
       "</table>\n"
      ],
      "text/latex": [
       "A data.frame: 6 × 10\n",
       "\\begin{tabular}{r|llllllllll}\n",
       "  & TYPE & YEAR & MONTH & DAY & HOUR & MINUTE & HUNDRED\\_BLOCK & NEIGHBOURHOOD & X & Y\\\\\n",
       "  & <chr> & <int> & <int> & <int> & <int> & <int> & <chr> & <chr> & <dbl> & <dbl>\\\\\n",
       "\\hline\n",
       "\t310264 & Vehicle Collision or Pedestrian Struck (with Injury) & 2003 &  6 & 22 & 18 & 58 & 0X TERMINAL AV / QUEBEC ST               &  & NA & NA\\\\\n",
       "\t311248 & Vehicle Collision or Pedestrian Struck (with Injury) & 2004 & 11 &  7 & 18 & 24 & 13XX PACIFIC BLVD / 198 DRAKE ST         &  & NA & NA\\\\\n",
       "\t311366 & Vehicle Collision or Pedestrian Struck (with Injury) & 2003 &  9 & 20 & 17 & 15 & 14XX BLOCK S E MARINE DR                 &  & NA & NA\\\\\n",
       "\t311484 & Vehicle Collision or Pedestrian Struck (with Injury) & 2003 &  8 & 31 & 21 &  3 & 14XX W KING EDWARD AV / GRANVILLE ST     &  & NA & NA\\\\\n",
       "\t311596 & Vehicle Collision or Pedestrian Struck (with Injury) & 2004 & 10 &  5 & 17 & 56 & 15XX BLOCK W 70TH AV / 8600 GRANVILLE ST &  & NA & NA\\\\\n",
       "\t311649 & Vehicle Collision or Pedestrian Struck (with Injury) & 2003 &  5 & 30 & 18 &  0 & 15XX W 66TH AV / 8298 GRANVILLE ST       &  & NA & NA\\\\\n",
       "\\end{tabular}\n"
      ],
      "text/markdown": [
       "\n",
       "A data.frame: 6 × 10\n",
       "\n",
       "| <!--/--> | TYPE &lt;chr&gt; | YEAR &lt;int&gt; | MONTH &lt;int&gt; | DAY &lt;int&gt; | HOUR &lt;int&gt; | MINUTE &lt;int&gt; | HUNDRED_BLOCK &lt;chr&gt; | NEIGHBOURHOOD &lt;chr&gt; | X &lt;dbl&gt; | Y &lt;dbl&gt; |\n",
       "|---|---|---|---|---|---|---|---|---|---|---|\n",
       "| 310264 | Vehicle Collision or Pedestrian Struck (with Injury) | 2003 |  6 | 22 | 18 | 58 | 0X TERMINAL AV / QUEBEC ST               | <!----> | NA | NA |\n",
       "| 311248 | Vehicle Collision or Pedestrian Struck (with Injury) | 2004 | 11 |  7 | 18 | 24 | 13XX PACIFIC BLVD / 198 DRAKE ST         | <!----> | NA | NA |\n",
       "| 311366 | Vehicle Collision or Pedestrian Struck (with Injury) | 2003 |  9 | 20 | 17 | 15 | 14XX BLOCK S E MARINE DR                 | <!----> | NA | NA |\n",
       "| 311484 | Vehicle Collision or Pedestrian Struck (with Injury) | 2003 |  8 | 31 | 21 |  3 | 14XX W KING EDWARD AV / GRANVILLE ST     | <!----> | NA | NA |\n",
       "| 311596 | Vehicle Collision or Pedestrian Struck (with Injury) | 2004 | 10 |  5 | 17 | 56 | 15XX BLOCK W 70TH AV / 8600 GRANVILLE ST | <!----> | NA | NA |\n",
       "| 311649 | Vehicle Collision or Pedestrian Struck (with Injury) | 2003 |  5 | 30 | 18 |  0 | 15XX W 66TH AV / 8298 GRANVILLE ST       | <!----> | NA | NA |\n",
       "\n"
      ],
      "text/plain": [
       "       TYPE                                                 YEAR MONTH DAY HOUR\n",
       "310264 Vehicle Collision or Pedestrian Struck (with Injury) 2003  6    22  18  \n",
       "311248 Vehicle Collision or Pedestrian Struck (with Injury) 2004 11     7  18  \n",
       "311366 Vehicle Collision or Pedestrian Struck (with Injury) 2003  9    20  17  \n",
       "311484 Vehicle Collision or Pedestrian Struck (with Injury) 2003  8    31  21  \n",
       "311596 Vehicle Collision or Pedestrian Struck (with Injury) 2004 10     5  17  \n",
       "311649 Vehicle Collision or Pedestrian Struck (with Injury) 2003  5    30  18  \n",
       "       MINUTE HUNDRED_BLOCK                            NEIGHBOURHOOD X  Y \n",
       "310264 58     0X TERMINAL AV / QUEBEC ST                             NA NA\n",
       "311248 24     13XX PACIFIC BLVD / 198 DRAKE ST                       NA NA\n",
       "311366 15     14XX BLOCK S E MARINE DR                               NA NA\n",
       "311484  3     14XX W KING EDWARD AV / GRANVILLE ST                   NA NA\n",
       "311596 56     15XX BLOCK W 70TH AV / 8600 GRANVILLE ST               NA NA\n",
       "311649  0     15XX W 66TH AV / 8298 GRANVILLE ST                     NA NA"
      ]
     },
     "metadata": {},
     "output_type": "display_data"
    }
   ],
   "source": [
    "print(sum(is.na(crime)))\n",
    "head(crime[!complete.cases(crime), ])"
   ]
  },
  {
   "cell_type": "markdown",
   "id": "35a472de-e8c3-448c-a153-563a01bde26f",
   "metadata": {},
   "source": [
    "We demonstrated removing the 164 NA values from X and Y below, but we decide to ignore them for the analysis as they are not related."
   ]
  },
  {
   "cell_type": "code",
   "execution_count": null,
   "id": "fa7c2d27-8cc8-41b1-982d-813f437e9dd3",
   "metadata": {},
   "outputs": [],
   "source": [
    "na.omit(crime) %>% \n",
    "    head()"
   ]
  },
  {
   "cell_type": "markdown",
   "id": "a753d342-c112-4874-a876-b5ce639bb278",
   "metadata": {},
   "source": [
    "Next, we filter for our years and neighbourhoods of interest."
   ]
  },
  {
   "cell_type": "code",
   "execution_count": null,
   "id": "0f1c45b9-7bd9-4c2e-b57c-afac833585c1",
   "metadata": {},
   "outputs": [],
   "source": [
    "crime_overall_recent <- crime %>% \n",
    "    filter(YEAR >= 2018 & YEAR <= 2022) %>%\n",
    "    select(TYPE, NEIGHBOURHOOD)\n",
    "\n",
    "colnames(crime_overall_recent) <- c('type', 'neighbourhood')\n",
    "head(crime_overall_recent)"
   ]
  },
  {
   "cell_type": "markdown",
   "id": "ba86020a-97bc-4188-9761-4af22c9886f0",
   "metadata": {
    "tags": []
   },
   "source": [
    "To study theft crime proportions, we will also be grouping all the types of crime into exclusively one of `theft` or `not theft` using the `mutate` and `case_when` functions."
   ]
  },
  {
   "cell_type": "code",
   "execution_count": null,
   "id": "41bf40ce-b6f8-438e-a1f8-0612f2dadca8",
   "metadata": {},
   "outputs": [],
   "source": [
    "crime_overall <- crime_overall_recent %>%\n",
    "    mutate(type = case_when(\n",
    "    type %in% c(\"Other Theft\", \"Theft from Vehicle\", \"Theft of Bicycle\", \"Theft of Vehicle\") ~ \"theft\",\n",
    "    TRUE ~ \"not_theft\"))\n",
    "\n",
    "head(crime_overall)"
   ]
  },
  {
   "cell_type": "markdown",
   "id": "dbf03e06-7e01-4d80-88ef-8c43c6a69642",
   "metadata": {},
   "source": [
    "Let us visualize all our theft data below."
   ]
  },
  {
   "cell_type": "code",
   "execution_count": null,
   "id": "c6e39c1e-a3f5-489b-ba87-6bffcecfb675",
   "metadata": {},
   "outputs": [],
   "source": [
    "ggplot(crime_overall, aes(y = reorder(neighbourhood, -table(neighbourhood)[neighbourhood]), fill = type)) + \n",
    "    geom_bar() + \n",
    "    labs(x = \"Crime Count\",\n",
    "         y = \"Neighbourhood\",\n",
    "         fill = \"Type of Crime\",\n",
    "         title = \"Figure 1. Counts of Theft Crime in All of Vancouver\") + \n",
    "    scale_fill_manual(labels = c('Not Theft', 'Theft'), values = c(\"#56B4E9\", \"#009E73\")) + \n",
    "    theme(text = element_text(size = 12))"
   ]
  },
  {
   "cell_type": "markdown",
   "id": "767ceef7-7762-4077-a998-cd339f39f4fd",
   "metadata": {},
   "source": [
    "We quickly noticed Central Business District, the outlier, has way more crime (both theft and non-theft) than all other places in Vancouver. West Point Grey and Dunbar-Southlands have little crime in comparison, and their total crime count and proportion are pretty similar. Thus, it would be reasonable to use inference on these two neighbourhoods to find any statistical differences between the proportion of theft."
   ]
  },
  {
   "cell_type": "code",
   "execution_count": null,
   "id": "e2f84bda-c86f-4de7-bc9f-89f24b051e63",
   "metadata": {},
   "outputs": [],
   "source": [
    "crime_stats <- crime_overall %>%\n",
    "    group_by(neighbourhood, type) %>%\n",
    "    summarize(count = n(), .groups = 'drop') %>%\n",
    "    pivot_wider(names_from = type,\n",
    "                values_from = count) %>%\n",
    "    mutate(total_crime = not_theft + theft,\n",
    "           prop = theft / total_crime)\n",
    "\n",
    "crime_stats = crime_stats[-1, ]\n",
    "\n",
    "crime_stats %>%\n",
    "    filter(total_crime > 1700 & total_crime < 2400)"
   ]
  },
  {
   "cell_type": "markdown",
   "id": "a582312c-f72e-4b96-b467-d8c0a0ffc3fd",
   "metadata": {},
   "source": [
    "With some comparisons, we can see that West Point Grey and Dunbar-Southlands have a similar proportion of theft. Let us zoom in by filtering  for the two neighbourhoods."
   ]
  },
  {
   "cell_type": "code",
   "execution_count": null,
   "id": "7bb0a8a7-5fb6-467d-87ba-2b339951f523",
   "metadata": {
    "vscode": {
     "languageId": "r"
    }
   },
   "outputs": [],
   "source": [
    "crime_filtered <- crime_overall %>%\n",
    "    filter(neighbourhood %in% c(\"West Point Grey\",\"Dunbar-Southlands\"))\n",
    "\n",
    "head(crime_filtered)"
   ]
  },
  {
   "cell_type": "markdown",
   "id": "26cc2c42-9d0b-49dc-b04d-15c134a6a81e",
   "metadata": {},
   "source": [
    "We then compute some initial observations about the filtered data and tidy it."
   ]
  },
  {
   "cell_type": "code",
   "execution_count": null,
   "id": "f2ce1d2f-bdd9-4719-b743-2085347f2cf1",
   "metadata": {
    "vscode": {
     "languageId": "r"
    }
   },
   "outputs": [],
   "source": [
    "crime_type_pivot <- crime_filtered %>%\n",
    "    group_by(neighbourhood, type) %>%\n",
    "    summarize(count = n(), .groups = 'drop') %>%\n",
    "    pivot_wider(names_from = type,\n",
    "                values_from = count) %>%\n",
    "    mutate(total_crime = not_theft + theft,\n",
    "           prop = theft / total_crime)\n",
    "    \n",
    "crime_type_pivot"
   ]
  },
  {
   "cell_type": "markdown",
   "id": "22c95d9e-e7c2-4657-b6f4-153901e86422",
   "metadata": {},
   "source": [
    "**Table 1. Initial observations of the crime data**"
   ]
  },
  {
   "cell_type": "markdown",
   "id": "4881ac80-f39b-4ede-95e5-97a979bd7b61",
   "metadata": {},
   "source": [
    "We can zoom in on the two bars pertaining to West Point Grey and Dunbar-Southlands as follows."
   ]
  },
  {
   "cell_type": "code",
   "execution_count": null,
   "id": "4bab5d05-0105-422d-aa37-b728e2fac1c8",
   "metadata": {},
   "outputs": [],
   "source": [
    "ggplot(crime_filtered, aes(x = neighbourhood, fill = type)) + \n",
    "    geom_bar() + \n",
    "    labs(x = \"Neighbourhood\",\n",
    "         y = \"Crime Count\",\n",
    "         fill = \"Type of Crime\",\n",
    "         title = \"Figure 2. Counts of Theft Crime in West Point Grey and Dunbar-Southlands\") + \n",
    "    scale_fill_manual(labels = c('Not Theft', 'Theft'), values = c(\"#56B4E9\", \"#009E73\")) + \n",
    "    theme(text = element_text(size = 12))"
   ]
  },
  {
   "cell_type": "markdown",
   "id": "ce30d774-9a76-476d-ad43-3730789bc7ae",
   "metadata": {},
   "source": [
    "From the plot and table, we observe that the proportion of theft crime are similar for the two neighbourhoods. West Point Grey is slightly higher in proportions though Dunbar-Southlands having a greater count. Also, for both neighbourhoods, theft is the majority type of crime."
   ]
  },
  {
   "cell_type": "markdown",
   "id": "17dba279-be8a-443e-b311-2138be745b1a",
   "metadata": {},
   "source": [
    "Let us calculate more sample estimates so that we retain only the required information, and also calculate the observed test statistic $\\hat{p}_1-\\hat{p}_0$, which is the proportion of theft in West Point Grey subtracted by the proportion of theft in Dunbar-Southlands."
   ]
  },
  {
   "cell_type": "code",
   "execution_count": null,
   "id": "af3166cd-50c2-49d2-a10f-eb668e2887a8",
   "metadata": {
    "vscode": {
     "languageId": "r"
    }
   },
   "outputs": [],
   "source": [
    "crime_estimates <- crime_type_pivot %>%\n",
    "    select(neighbourhood, total_crime, prop) %>%\n",
    "    pivot_wider(names_from = neighbourhood, values_from = c(total_crime, prop))\n",
    "\n",
    "colnames(crime_estimates) <- c('n_ds', 'n_wpg', 'p_ds', 'p_wpg')\n",
    "\n",
    "crime_estimates <- crime_estimates %>%\n",
    "    mutate(prop_diff = p_wpg - p_ds)\n",
    "\n",
    "crime_estimates"
   ]
  },
  {
   "cell_type": "markdown",
   "id": "09145ebb-081e-4af6-94ff-50808154923b",
   "metadata": {},
   "source": [
    "**Table 2. Crime estimates**"
   ]
  },
  {
   "cell_type": "markdown",
   "id": "d69a10a6-524c-47c1-8a94-c7aec6784caa",
   "metadata": {},
   "source": [
    "Based on the difference in proportions of 0.008251004 and the plot, we cannot easily conclude anything significant about the difference in proportions of theft in both neighbourhoods, meaning that we will have to make use of some statistical analysis."
   ]
  },
  {
   "cell_type": "markdown",
   "id": "0574aa04-e067-4e96-a331-d9908da5a134",
   "metadata": {},
   "source": [
    "### Methods\n",
    "\n",
    "We will be using both asymptotics and bootstrapping to conduct our research to discover whether West Point Grey has a higher proportion of theft compared to Dunbar-Southlands. \n",
    "\n",
    "For asymptotics, we rely on the Central Limit Theorem because proportions distribution is not normal. Therefore, we need to check for the large enough sample size condition, such that `n(1-p) >= 10` and `np >= 10`. We also need to assume that the sample is random and independent. By carrying out a two-sample independent z-test, we will use the following test statistic:\n",
    "\n",
    "$$\n",
    "Z = \\frac{\\hat{p}_1 - \\hat{p}_2}{\\sqrt{\\hat{p}(1-\\hat{p})\\left(\\frac{1}{n_1} + \\frac{1}{n_2}\\right)}}.\n",
    "$$\n",
    "\n",
    "For the bootstrapping approach, we will set the seed to make our analysis reproducible due to randomness introduce through bootstrapping. Afterwards, we will take a large number of bootstrap samples from our crime sample dataset to create a bootstrap distribution for a difference in proportions.\n",
    "\n",
    "For both approaches, we can find the p-value to check for any statistically significant findings to decide whether we can reject the null hypothesis or not under a significance level of $\\alpha = 0.05$. This also means a confidence level of 95< which we can construct using both methods to capture with a certain degree of confidence that the true difference in proportions falls within the interval."
   ]
  },
  {
   "cell_type": "markdown",
   "id": "b8941b6c-4425-42e9-bb3a-a1b0ea4332f6",
   "metadata": {
    "tags": []
   },
   "source": [
    "### Results Using Asymptotics\n",
    "\n",
    "We can conduct a two-sample z-test to calculate the proportion differences. Recall that we have already stored the counts and proportions of crime in both neighbourhoods in the data frame `crime_estimates`.\n",
    "\n"
   ]
  },
  {
   "cell_type": "code",
   "execution_count": null,
   "id": "79ecd78f-ed13-4ae2-be9c-44347a87cec7",
   "metadata": {},
   "outputs": [],
   "source": [
    "crime_estimates"
   ]
  },
  {
   "cell_type": "markdown",
   "id": "005b3b3c-a3dc-45bc-a6e0-fef818159ce3",
   "metadata": {},
   "source": [
    "**Table 2. Crime estimates**"
   ]
  },
  {
   "cell_type": "markdown",
   "id": "4a5ae5c2-187e-451c-a5d5-0eb881abe012",
   "metadata": {},
   "source": [
    "Since we are using theory-based methods, we have to make sure that \n",
    "`np >= 10` and `n(1-p) >= 10` for both neighbourhoods. We have that $2165*0.5773672 \\approx 1250 \\geq 10$ and $2165*(1-0.0.5773672) \\approx 915 \\geq 10$ for Dunbar-Southlands. Likewise for West Point Grey, $1933*0.5856182 \\approx 1130 \\geq 10$ and \n",
    "$1933*0.5856182 \\approx 800 \\geq 10$. Aside from satisfying the 'success-failure' condition for a large enough sample size, We assume that the sample dataset is random and the data are independent of each other, so we can use the Central Limit Theorem.\n",
    "\n",
    "We proceed to calculate the null distribution standard error by first calculating a pooled proportion. "
   ]
  },
  {
   "cell_type": "code",
   "execution_count": null,
   "id": "8176e126-7c41-4ad0-8a2a-b2d2a744069f",
   "metadata": {},
   "outputs": [],
   "source": [
    "crime_asymptotics <- crime_estimates %>%\n",
    "    mutate(pooled_proportion = (n_ds*p_ds + n_wpg*p_wpg) / (n_ds + n_wpg),\n",
    "           null_std_error = sqrt(pooled_proportion * (1-pooled_proportion) * (1/n_ds + 1/n_wpg)))\n",
    "\n",
    "crime_asymptotics"
   ]
  },
  {
   "cell_type": "markdown",
   "id": "d3e700e3-2c85-4db5-a0a3-415dd33c6671",
   "metadata": {},
   "source": [
    "**Table 3. Parameters calculated from asymptotics**"
   ]
  },
  {
   "cell_type": "markdown",
   "id": "87f7dc59-0df6-41ef-9c48-26ae2e735424",
   "metadata": {},
   "source": [
    "We can now easily find a 95% confidence interval using asymptotics."
   ]
  },
  {
   "cell_type": "code",
   "execution_count": null,
   "id": "84bba57f-3364-4165-9903-a7d24fce708b",
   "metadata": {},
   "outputs": [],
   "source": [
    "obs_prop_diff_asymptotics <- crime_asymptotics$prop_diff\n",
    "null_std_error <- crime_asymptotics$null_std_error\n",
    "\n",
    "prop_ci_asymptotics <- tibble(\n",
    "    lower_ci = qnorm(0.025, obs_prop_diff_asymptotics, null_std_error),\n",
    "    upper_ci = qnorm(0.975, obs_prop_diff_asymptotics, null_std_error))\n",
    "\n",
    "prop_ci_asymptotics"
   ]
  },
  {
   "cell_type": "markdown",
   "id": "9ba47482-5ffc-41f8-a4df-0e802848f157",
   "metadata": {},
   "source": [
    "**Table 4. Asymptotics Confidence Interval**"
   ]
  },
  {
   "cell_type": "markdown",
   "id": "ff7d0a9e-d422-4cb4-8b23-b2e0cafb8d57",
   "metadata": {},
   "source": [
    "We note that 0 is included in the interval, meaning that is is likely that we fail to reject the null hypothesis. We can also visualize this confidence interval."
   ]
  },
  {
   "cell_type": "code",
   "execution_count": null,
   "id": "7fe179ff-e6e2-4680-8a8a-bbf3e15c1c79",
   "metadata": {},
   "outputs": [],
   "source": [
    "x = seq(-0.1, 0.1, by = 0.001)\n",
    "y <- dnorm(x, 0, null_std_error)\n",
    "normal_data <- tibble(x, y)\n",
    "\n",
    "normal_data %>%\n",
    "    ggplot(aes(x, y)) + \n",
    "    geom_line(color = 'red', lwd = 2) + \n",
    "    shade_confidence_interval(endpoints = prop_ci_asymptotics) + \n",
    "    labs(x = \"Difference in Proportions\",\n",
    "         y = \"Density\",\n",
    "         title = \"Figure 3. Visualizing the 95% Confidence Interval Using a Normal Distribution\")+ \n",
    "    theme(text = element_text(size = 12))"
   ]
  },
  {
   "cell_type": "markdown",
   "id": "e6a826cd-bfe8-4dc7-af2e-f4acf0543409",
   "metadata": {},
   "source": [
    "We are 95% confident that the true difference in proportions is captured by the confidence interval created using asymptotics."
   ]
  },
  {
   "cell_type": "markdown",
   "id": "9642826a-5464-4fb9-9af7-34b17841210d",
   "metadata": {},
   "source": [
    "Finally, we will obtain the p-value."
   ]
  },
  {
   "cell_type": "code",
   "execution_count": null,
   "id": "38df2fa4-74b7-4dd6-91ca-959ba7d68179",
   "metadata": {},
   "outputs": [],
   "source": [
    "p_value_asymptotics <- pnorm(obs_prop_diff_asymptotics, 0, null_std_error, lower.tail=F)\n",
    "p_value_asymptotics"
   ]
  },
  {
   "cell_type": "markdown",
   "id": "ebb6108a-92ed-4ece-ad59-7ef5333f6d26",
   "metadata": {},
   "source": [
    "Clearly, the p-value above is greater than the significance level we set at 0.05, indicating that we fail to reject the null hypothesis.\n",
    "We can visualize this result with a plot."
   ]
  },
  {
   "cell_type": "code",
   "execution_count": null,
   "id": "bdbdb320-cc73-4b34-a38c-01e2bcb43e70",
   "metadata": {},
   "outputs": [],
   "source": [
    "normal_data %>%\n",
    "    ggplot(aes(x, y)) + \n",
    "    geom_line(color = 'red', lwd = 2) + \n",
    "    geom_ribbon(aes(xmin = obs_prop_diff_asymptotics,\n",
    "                    xmax = max(x)),\n",
    "                    alpha = 0.2,\n",
    "                    fill = 'blue') + \n",
    "    geom_vline(xintercept = obs_prop_diff_asymptotics,\n",
    "               lwd = 1, alpha = 0.5, color = 'blue', linetype = 'dashed') + \n",
    "    labs(x = \"Difference in Proportions\",\n",
    "         y = \"Density\",\n",
    "         title = \"Figure 4. Visualizing the p-value Using a Normal Distribution\") + \n",
    "    theme(text = element_text(size = 12))"
   ]
  },
  {
   "cell_type": "markdown",
   "id": "47d3d8a5-7299-4838-92a1-e8bd0a7f0d50",
   "metadata": {},
   "source": [
    "In addition, we can use `prop.test` to check our answer."
   ]
  },
  {
   "cell_type": "code",
   "execution_count": null,
   "id": "e3ff8d87",
   "metadata": {
    "vscode": {
     "languageId": "r"
    }
   },
   "outputs": [],
   "source": [
    "c_wpg <- crime_estimates$n_wpg * crime_estimates$p_wpg\n",
    "c_ds <- crime_estimates$n_ds * crime_estimates$p_ds\n",
    "\n",
    "prop_test <- tidy(\n",
    "    prop.test(x = c(c_wpg, c_ds),\n",
    "              n = c(crime_estimates$n_wpg, crime_estimates$n_ds),\n",
    "              correct = FALSE,\n",
    "              alternative = \"greater\"))\n",
    "prop_test"
   ]
  },
  {
   "cell_type": "markdown",
   "id": "5a18a52d-ce05-4f93-90de-91b9d40c3b0e",
   "metadata": {},
   "source": [
    "The p-value using asymptotics and prop.test gives us the same result, yet we expect it to be slightly different from using the infer package."
   ]
  },
  {
   "cell_type": "markdown",
   "id": "529d9121",
   "metadata": {},
   "source": [
    "### Results Using the Infer Package for Bootstrapping"
   ]
  },
  {
   "cell_type": "markdown",
   "id": "e13c1dcb-cc59-4832-a732-a90a6035af92",
   "metadata": {},
   "source": [
    "We will first obtain the null model using the infer package after setting the seed to make the analysis reproducible. We first specify our response variable of `type` and explanatory variable of `neighbourhood`. Assuming the samples are independent, we generate replicates of shuffled data with the `permute` argument. Recall that we are calculating a difference in proportions of West Point Grey subtracted by Dunbar-Southlands."
   ]
  },
  {
   "cell_type": "code",
   "execution_count": null,
   "id": "0fd5d436",
   "metadata": {
    "vscode": {
     "languageId": "r"
    }
   },
   "outputs": [],
   "source": [
    "set.seed(1)\n",
    "\n",
    "null_model <- crime_filtered %>%\n",
    "    specify(type ~ neighbourhood, success = \"theft\") %>%\n",
    "    hypothesise(null = \"independence\") %>%\n",
    "    generate(reps = 2000, type = \"permute\") %>%\n",
    "    calculate(stat = \"diff in props\", order = c(\"West Point Grey\", \"Dunbar-Southlands\"))\n",
    "head(null_model)"
   ]
  },
  {
   "cell_type": "markdown",
   "id": "cf323c38-041a-405e-b6c1-c696f2ea457f",
   "metadata": {},
   "source": [
    "The shaded portion represents the 95% confidence interval using the percentile method, while the other uses the standard error theory-based method.\n",
    "\n",
    "Now that we have calculated the results for our research, let us summarize them in two tables. The first one shows the confidence intervals using both methods, while the latter shows the p-values of the different approaches.We can quickly calculate the observed difference in theft proportions using the infer package, which should be the same as the value from the `crime_estimates` data frame."
   ]
  },
  {
   "cell_type": "code",
   "execution_count": null,
   "id": "b5816ba9-4cc6-4969-b0cd-dba1192f04f0",
   "metadata": {},
   "outputs": [],
   "source": [
    "crime_estimates"
   ]
  },
  {
   "cell_type": "markdown",
   "id": "9c95e955-0b64-49f5-bca7-ee630165e2e7",
   "metadata": {},
   "source": [
    "**Table 2. Crime estimates**"
   ]
  },
  {
   "cell_type": "code",
   "execution_count": null,
   "id": "526d80bd-eb9d-41f2-8ff1-b8f8574753c4",
   "metadata": {},
   "outputs": [],
   "source": [
    "obs_prop_diff <- crime_filtered %>%\n",
    "    specify(type ~ neighbourhood, success = \"theft\") %>%\n",
    "    calculate(stat = \"diff in props\", order = c(\"West Point Grey\", \"Dunbar-Southlands\")) %>%\n",
    "    pull()\n",
    "obs_prop_diff"
   ]
  },
  {
   "cell_type": "markdown",
   "id": "9b1c79be-f484-4984-ae51-1b2dd7423fb6",
   "metadata": {},
   "source": [
    "As expected, the observed difference in proportions do match, so we can move onto visualizing the simulation-based null distribution."
   ]
  },
  {
   "cell_type": "code",
   "execution_count": null,
   "id": "4858c5d5-fc9b-4b70-b40b-32238412608a",
   "metadata": {},
   "outputs": [],
   "source": [
    "theft_result_plot <- \n",
    "   null_model %>%\n",
    "   visualize() + \n",
    "   shade_p_value(obs_stat = obs_prop_diff, direction = \"right\") +\n",
    "   labs(x = \"Difference in Proportions\",\n",
    "        y = \"Count\",\n",
    "       title = \"Figure 5. Simulation-Based Null Distribution\") + \n",
    "    theme(text = element_text(size = 12))\n",
    "theft_result_plot"
   ]
  },
  {
   "cell_type": "markdown",
   "id": "259bb7d7-f46c-4749-a694-dafa07205148",
   "metadata": {},
   "source": [
    "We can compute the p_value using `get_p_value`."
   ]
  },
  {
   "cell_type": "code",
   "execution_count": null,
   "id": "8d0b7af8-0230-4301-ad6d-667b29539d22",
   "metadata": {},
   "outputs": [],
   "source": [
    "p_value_infer <- null_model %>%\n",
    "    get_p_value(obs_stat = obs_prop_diff, direction = \"right\") %>%\n",
    "    pull()\n",
    "p_value_infer "
   ]
  },
  {
   "cell_type": "markdown",
   "id": "226e0f0b-3adc-45d0-98dc-70c89a218fad",
   "metadata": {},
   "source": [
    "Now, we will jump from conducting the hypothesis test to calculating a 95% confidence interval using the percentile and standard error method by bootstrapping from our crime sample."
   ]
  },
  {
   "cell_type": "code",
   "execution_count": null,
   "id": "604a3e70",
   "metadata": {
    "vscode": {
     "languageId": "r"
    }
   },
   "outputs": [],
   "source": [
    "bootstrap_distribution <- crime_filtered %>%\n",
    "    specify(type ~ neighbourhood, success = \"theft\") %>%\n",
    "    generate(reps = 2000, type = \"bootstrap\") %>%\n",
    "    calculate(stat = \"diff in props\", order = c(\"West Point Grey\", \"Dunbar-Southlands\"))\n",
    "\n",
    "percentile_ci <- bootstrap_distribution %>%\n",
    "    get_confidence_interval(level = 0.95, type = 'percentile')\n",
    "\n",
    "se_ci <- bootstrap_distribution %>% \n",
    "  get_confidence_interval(level = 0.95, type = \"se\", \n",
    "                          point_estimate = obs_prop_diff)\n",
    "\n",
    "visualize(bootstrap_distribution) + \n",
    "    shade_confidence_interval(endpoints = percentile_ci) + \n",
    "    labs(x = \"Difference in Proportions\",\n",
    "         y = \"Count\",\n",
    "         title = \"Figure 6. Simulation-Based Bootstrap Distribution with 95% Confidence Interval Shaded\") + \n",
    "    theme(text = element_text(size = 12)) + \n",
    "    geom_vline(xintercept = pull(se_ci[1]), linetype = 'dashed', lwd = 2, colour = 'red') + \n",
    "    geom_vline(xintercept = pull(se_ci[2]), linetype = 'dashed', lwd = 2, colour = 'red')"
   ]
  },
  {
   "cell_type": "markdown",
   "id": "9ce940ab-66a7-4e3b-8320-460b7368fdac",
   "metadata": {},
   "source": [
    "The shaded portion represents the 95% confidence interval using the percentile method, while the other uses the standard error theory-based method."
   ]
  },
  {
   "cell_type": "markdown",
   "id": "0c3d74ad-4b80-4815-ab47-48e67652717c",
   "metadata": {},
   "source": [
    "Now that we have calculated the results for our research, let us summarize them in two tables. The first one shows the confidence intervals using both methods, while the latter shows the p-values of the different approaches."
   ]
  },
  {
   "cell_type": "code",
   "execution_count": null,
   "id": "bfc1a093-0bd2-4bf6-90ce-c0bf29f01157",
   "metadata": {},
   "outputs": [],
   "source": [
    "types <- tibble(type = c(\"asymptotics\", \"bootstrap_percentile\", \"bootstrap_se\"))\n",
    "combined_ci <- rbind(prop_ci_asymptotics,\n",
    "                  percentile_ci,\n",
    "                  se_ci)\n",
    "\n",
    "cbind(types, combined_ci)"
   ]
  },
  {
   "cell_type": "markdown",
   "id": "7f436115-30a1-49aa-a2b4-98f32cc410e1",
   "metadata": {},
   "source": [
    "**Table 5. Confidence interval comparison**"
   ]
  },
  {
   "cell_type": "code",
   "execution_count": null,
   "id": "98918d75-bcfa-41ab-a3d3-7d8007fcc87c",
   "metadata": {},
   "outputs": [],
   "source": [
    "p_types <- tibble(type = c(\"asymptotics\", \"bootstrap\"))\n",
    "combined_p <- tibble(p_value = c(p_value_asymptotics, p_value_infer))\n",
    "\n",
    "cbind(p_types, combined_p)"
   ]
  },
  {
   "cell_type": "markdown",
   "id": "388465f0-51d6-47c2-8b1c-f4771423f978",
   "metadata": {},
   "source": [
    "**Table 6. P-value comparison**"
   ]
  },
  {
   "cell_type": "markdown",
   "id": "d490096e-5554-4ccc-a4a4-6ae5872f8efa",
   "metadata": {},
   "source": [
    "Doing a quick comparison, we see that each of the 95% confidence intervals capture 0, and that all the intervals produced by the different methods have little deviation. We can then say across all 95% confidence intervals that could be calculated, we can expect that 95% of the intervals contain the true difference in theft crime proportions. Similarly, the p-value of using asymptotics and bootstrapping are both at approximately 0.3, which is significantly greater than the 5% significance level, so we fail to reject the null hypothesis. In other words, we do not have enough evidence to demonstrate that West Point Grey has a higher theft rate than Dunbar-Southlands, resulting in the possibility of committing a Type II Error."
   ]
  },
  {
   "cell_type": "markdown",
   "id": "663958e1-5c44-49c9-8ec0-e2ac9490b9b9",
   "metadata": {},
   "source": [
    "Since both asymptotics and bootstrapping gave similar confidence interval and p-values, either method works for us. Although bootstrapping is very versatile and can be applied without any assumptions and conditions, asymptotics is preferred. With a large sample size of over 1000 observations, theory-based method is not only accurate but also computationally inexpensive with only a few mathematicall calculations."
   ]
  },
  {
   "cell_type": "markdown",
   "id": "b9835cb6-a830-4957-b3b9-cf997d0b701f",
   "metadata": {},
   "source": [
    "# 3. Discussion\n",
    "\n",
    "### Summary\n",
    "In our study of determining whether or not there is a statistically significant difference in the proportion of theft crime occurring in West Point Grey against Dunbar-Southlands, we fail to reject the null hypotehsis stating there is no difference between the neighbourhoods at a significance level of 5%. Originally, we expected that West Point Grey to have a higher proportion of theft compared to Dunbar-Southlands as population density would be higher closer to campus, leading to a higher theft rate. However, both asymptotic analysis based upon the Central Limit Theorem and bootstrap analysis fail to reject the null hypothesis. We obtained confidence intervals containing the value of 0, or no difference, and achieved p-values of approximately 0.3. This means that using both the theory-based approach and simulation-based approach gave us the same conclusion, so we can be relatively confident in our answer.\n",
    "\n",
    "### Significance\n",
    "Our findings could impact residents living in either neighbourhoods, if not both, to be more proactive and aware of theft in their area and enforce relevant safety measures. Since we specifically targetted the neighbourhoods of West Point Grey and Dunbar-Southlands, two of the most popular neighbourhoods for off-campus housing for University of British Columbia students, then these students can become more informed on the theft proportions in these places. However, since we discovered no statistical significance between the two neighbourhoods in terms of theft proportion, then individuals should not be too wary of living in either neighbourhood.\n",
    "\n",
    "### Further Questions\n",
    "One drawback of our study is that while big data may explain differences in the danger of theft and support governmental measures, it cannot explain individual cases or provide detailed plan of how to minimize the risks. Furthermore, a challenge we face is how to extrapolate our analysis to predict future crime rates, as that is the only important information for reducing crimes. Despite not finding any statistical difference between the proportion of theft in West Point Grey and Dunbar-Southlands, we have further questions regarding the underlying motivations behind theft and what features cause a difference in theft between different neighbourhoods. Not only that, our research raises further questions into proportions of different crime not limited to just theft and not theft, such as homicides or residential break-ins. "
   ]
  },
  {
   "cell_type": "markdown",
   "id": "8c238a14-3b0b-43af-847c-8abe722ca278",
   "metadata": {},
   "source": [
    "# 4. References\n",
    "Branch, Legislative Services. “Consolidated Federal Laws of Canada, Criminal Code.” Criminal Code, 27 July 2023, [laws-lois.justice.gc.ca/eng/acts/c-46/section-322.html](laws-lois.justice.gc.ca/eng/acts/c-46/section-322.html). \n",
    "\n",
    "Crime Statistics. “Crime Statistics.” Vancouver Police Department, 19 July 2023, [vpd.ca/crime-statistics/](vpd.ca/crime-statistics/). \n",
    "\n",
    "Government of Canada, Department of Justice. “State of the Criminal Justice System - 2019 Report.” Results by Outcome, 7 July 2021, [www.justice.gc.ca/eng/cj-jp/state-etat/2019rpt-rap2019/p7.html](www.justice.gc.ca/eng/cj-jp/state-etat/2019rpt-rap2019/p7.html). \n",
    "\n",
    "UBC. “Your Guide to Neighborhoods in Vancouver: UBC Vantage College.” Your Guide to Neighborhoods in Vancouver | UBC Vantage College, [vantagecollege.ubc.ca/blog/your-guide-neighborhoods-vancouver](vantagecollege.ubc.ca/blog/your-guide-neighborhoods-vancouver). Accessed 30 July 2023. \n",
    "\n",
    "Vancouver Police Department. “Vancouver Police Department Crime Data.” Accessed 30 July 2023. "
   ]
  }
 ],
 "metadata": {
  "kernelspec": {
   "display_name": "R",
   "language": "R",
   "name": "ir"
  },
  "language_info": {
   "codemirror_mode": "r",
   "file_extension": ".r",
   "mimetype": "text/x-r-source",
   "name": "R",
   "pygments_lexer": "r",
   "version": "4.1.3"
  }
 },
 "nbformat": 4,
 "nbformat_minor": 5
}
