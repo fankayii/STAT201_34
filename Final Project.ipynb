{
 "cells": [
  {
   "cell_type": "markdown",
   "id": "76f8ae88-35cb-4535-8b3d-da0db144534a",
   "metadata": {},
   "source": [
    "# **Is the proportion of theft occurring in the neighbourhood of West Point Grey higher than Dunbar-Southlands?**"
   ]
  },
  {
   "cell_type": "markdown",
   "id": "38c6c5b4-2d7e-469c-96dd-d0d0606aa6c8",
   "metadata": {},
   "source": [
    "By Group 34: Andy Hu, Wendi Ke, CC Liang, and Mridul Manas"
   ]
  },
  {
   "cell_type": "markdown",
   "id": "514e0784-bdec-4bb1-9188-d2d57a31883b",
   "metadata": {},
   "source": [
    "# Introduction\n",
    "Crime brings chills down everyone’s spines, with theft being the most common type of crime in Canada ([Government of Canada](https://www.justice.gc.ca/eng/cj-jp/state-etat/2019rpt-rap2019/p7.html)). Section 322 of the Canadian Criminal Code defines \"theft\" as \"fraudulently and without colour of right\" taking someone's property or converting its ownership ([Criminal Code](https://laws-lois.justice.gc.ca/eng/acts/c-46/section-322.html)). Understanding crime statistics is crucial to enhancing community relations, measuring prevention initiatives, and minimizing risks by making better decisions ([Vancouver Police Department](https://vpd.ca/crime-statistics/)). In this paper, we will study the population of theft crime in Dunbar-Southlands and West Point Grey, the two neighbourhoods closest to the UBC Vancouver campus ([UBC Vantage College](https://vantagecollege.ubc.ca/blog/your-guide-neighborhoods-vancouver)).\n",
    "\n",
    "\n",
    "### Research Question\n",
    "Is the proportion of theft occurring in the neighbourhood of West Point Grey higher than Dunbar-Southlands? \n",
    "\n",
    "### Variables\n",
    "The random variable of interest for comparing is the proportion of theft in the neighbourhoods of Dunbar-Southlands and West Point Grey. Of the response variable, differences in proportions is the location parameter and standard error is the scale parameter.\n",
    "\n",
    "### Hypotheses\n",
    "- Null Hypothesis $H_0$: There is no difference between the proportion of theft in the neighbourhoods of Dunbar-Southlands and West Point Grey; $H_0: p_w - p_d = 0$\n",
    "- Alternative Hypothesis $H_A$: The proportion of theft in West Point Grey is higher than in Dunbar-Southlands; $H_A: p_w - p_d > 0$\n",
    "\n",
    "### Dataset Description\n",
    "To conduct our research, we use the [Vancouver Police Department (VPD) crime data](https://geodash.vpd.ca/opendata/), which includes information on the different types of crimes occurring at specific geographical locations from 2003 to 2023. We will be primarily focusing on crimes within the last 5 years, 2018 to 2022, for the neighbourhoods of Dunbar-Southlands and West Point Grey in order to base our research upon more recent and prevalent information about contemporary crimes."
   ]
  },
  {
   "cell_type": "markdown",
   "id": "ff0eeabb-316e-4e2b-8c90-072b3e188416",
   "metadata": {},
   "source": [
    "# Methods and Results\n",
    "We will be using both asymptotics and bootstrapping to conduct our research to discover whether West Point Grey has a higher proportion of theft compared to Dunbar-Southlands. \n",
    "\n",
    "For asymptotics, we must rely on the Central Limit Theorem because proportions do not follow a random distribution and so the distribution is clearly non-normal, since the random variable is between zero and one. Thus, we rely on the CLT, which for our case, states that the distribution of sample proportions will approach a normal distribution as we increase the sample size and number of total samples. For this approach, we will also assume that the sample was randomly drawn from the population and that the sample values are independent of each other, meaning that the chance of committing one crime does not directly correlate with the chance of another crime occuring. We must also ensure that our sample size is large enough, such that `n(1-p) >= 10` and `np >= 10`. Using the central limit theorem, we are then able to work under the assumption that the sampling distribution of proportions follows a normal distribution centered around the sample proportion and that its standard error follows as $\\sqrt{\\frac{\\hat{p}(1-\\hat{p})}{n}}$. Since we are comparing a difference in proportions, we will carry a two-sample independent z-test using the following test statistic: \n",
    "$$\n",
    "Z = \\frac{\\hat{p}_1 - \\hat{p}_2}{\\sqrt{\\hat{p}(1-\\hat{p})\\left(\\frac{1}{n_1} + \\frac{1}{n_2}\\right)}}.\n",
    "$$\n",
    "\n",
    "For the bootstrapping approach, we will first set the seed because we will be introducing randomness through bootstrapping, and we want to ensure that our results are reproducible. Afterwards, we will take a large number of bootstrap samples from our crime sample dataset to create a bootstrap distribution for a difference in proportions, upon which we can find a 95% confidence interval to quantify the errors of our sample estimates as well as p-value\n",
    "\n",
    "For both approaches, we can find the p-value, and check for any statistically significant findings to decide whether or not to reject the null hypothesis or fail to reject the null hypothesis. \n",
    "\n",
    "First, we start by loading the packages and dataset, and proceed to tidy it. "
   ]
  },
  {
   "cell_type": "markdown",
   "id": "47fa55f7-76f4-45db-9177-a6e23fb898e8",
   "metadata": {},
   "source": [
    "### Loading Packages\n",
    "The `tideverse`, `infer`, and `broom` packages allow us to clean and wrangle tidy data, create visualizations, and make meaningful statistical inferences. We also set the default plot width and height and load colour-blind-friendly colour palettes."
   ]
  },
  {
   "cell_type": "code",
   "execution_count": 1,
   "id": "441c7a27-12cd-4c2d-a6f2-6c7de642313b",
   "metadata": {
    "vscode": {
     "languageId": "r"
    }
   },
   "outputs": [
    {
     "name": "stderr",
     "output_type": "stream",
     "text": [
      "── \u001b[1mAttaching packages\u001b[22m ─────────────────────────────────────── tidyverse 1.3.2 ──\n",
      "\u001b[32m✔\u001b[39m \u001b[34mggplot2\u001b[39m 3.3.6      \u001b[32m✔\u001b[39m \u001b[34mpurrr  \u001b[39m 0.3.4 \n",
      "\u001b[32m✔\u001b[39m \u001b[34mtibble \u001b[39m 3.1.8      \u001b[32m✔\u001b[39m \u001b[34mdplyr  \u001b[39m 1.0.10\n",
      "\u001b[32m✔\u001b[39m \u001b[34mtidyr  \u001b[39m 1.2.1      \u001b[32m✔\u001b[39m \u001b[34mstringr\u001b[39m 1.4.1 \n",
      "\u001b[32m✔\u001b[39m \u001b[34mreadr  \u001b[39m 2.1.2      \u001b[32m✔\u001b[39m \u001b[34mforcats\u001b[39m 0.5.2 \n",
      "── \u001b[1mConflicts\u001b[22m ────────────────────────────────────────── tidyverse_conflicts() ──\n",
      "\u001b[31m✖\u001b[39m \u001b[34mdplyr\u001b[39m::\u001b[32mfilter()\u001b[39m masks \u001b[34mstats\u001b[39m::filter()\n",
      "\u001b[31m✖\u001b[39m \u001b[34mdplyr\u001b[39m::\u001b[32mlag()\u001b[39m    masks \u001b[34mstats\u001b[39m::lag()\n"
     ]
    }
   ],
   "source": [
    "library(tidyverse)\n",
    "library(infer)\n",
    "library(broom)\n",
    "\n",
    "options(repr.plot.width = 10, repr.plot.height = 6)\n",
    "palette <- c(\"#999999\", \"#E69F00\", \"#56B4E9\", \"#009E73\", \"#F0E442\", \"#0072B2\", \"#D55E00\", \"#CC79A7\", \"#000000\", \"#E69F00\", \n",
    "    \"#56B4E9\", \"#009E73\", \"#F0E442\", \"#0072B2\", \"#D55E00\", \"#CC79A7\")"
   ]
  },
  {
   "cell_type": "markdown",
   "id": "a4ab29ca-5a54-4971-81ce-c3474eb371f9",
   "metadata": {},
   "source": [
    "### Loading the Dataset\n",
    "As we have uploaded the dataset to our GitHub repository, we can read the csv file right from our GitHub link."
   ]
  },
  {
   "cell_type": "code",
   "execution_count": 2,
   "id": "6f8b708a-6ce7-42e5-8b26-9a57f10a83f9",
   "metadata": {
    "vscode": {
     "languageId": "r"
    }
   },
   "outputs": [
    {
     "data": {
      "text/html": [
       "<table class=\"dataframe\">\n",
       "<caption>A data.frame: 6 × 10</caption>\n",
       "<thead>\n",
       "\t<tr><th></th><th scope=col>TYPE</th><th scope=col>YEAR</th><th scope=col>MONTH</th><th scope=col>DAY</th><th scope=col>HOUR</th><th scope=col>MINUTE</th><th scope=col>HUNDRED_BLOCK</th><th scope=col>NEIGHBOURHOOD</th><th scope=col>X</th><th scope=col>Y</th></tr>\n",
       "\t<tr><th></th><th scope=col>&lt;chr&gt;</th><th scope=col>&lt;int&gt;</th><th scope=col>&lt;int&gt;</th><th scope=col>&lt;int&gt;</th><th scope=col>&lt;int&gt;</th><th scope=col>&lt;int&gt;</th><th scope=col>&lt;chr&gt;</th><th scope=col>&lt;chr&gt;</th><th scope=col>&lt;dbl&gt;</th><th scope=col>&lt;dbl&gt;</th></tr>\n",
       "</thead>\n",
       "<tbody>\n",
       "\t<tr><th scope=row>1</th><td>Theft from Vehicle</td><td>2008</td><td>12</td><td> 7</td><td>18</td><td> 0</td><td>11XX E HASTINGS ST</td><td>Strathcona</td><td>494141.1</td><td>5458690</td></tr>\n",
       "\t<tr><th scope=row>2</th><td>Theft from Vehicle</td><td>2009</td><td> 8</td><td>28</td><td>19</td><td> 0</td><td>11XX E HASTINGS ST</td><td>Strathcona</td><td>494141.1</td><td>5458690</td></tr>\n",
       "\t<tr><th scope=row>3</th><td>Theft from Vehicle</td><td>2012</td><td> 7</td><td>25</td><td>12</td><td> 0</td><td>11XX E HASTINGS ST</td><td>Strathcona</td><td>494141.1</td><td>5458690</td></tr>\n",
       "\t<tr><th scope=row>4</th><td>Theft from Vehicle</td><td>2014</td><td> 5</td><td> 8</td><td>12</td><td>49</td><td>11XX E HASTINGS ST</td><td>Strathcona</td><td>494141.1</td><td>5458690</td></tr>\n",
       "\t<tr><th scope=row>5</th><td>Theft from Vehicle</td><td>2014</td><td>10</td><td>19</td><td>18</td><td> 0</td><td>11XX E HASTINGS ST</td><td>Strathcona</td><td>494141.1</td><td>5458690</td></tr>\n",
       "\t<tr><th scope=row>6</th><td>Theft from Vehicle</td><td>2015</td><td> 2</td><td>18</td><td>18</td><td>30</td><td>11XX E HASTINGS ST</td><td>Strathcona</td><td>494141.1</td><td>5458690</td></tr>\n",
       "</tbody>\n",
       "</table>\n"
      ],
      "text/latex": [
       "A data.frame: 6 × 10\n",
       "\\begin{tabular}{r|llllllllll}\n",
       "  & TYPE & YEAR & MONTH & DAY & HOUR & MINUTE & HUNDRED\\_BLOCK & NEIGHBOURHOOD & X & Y\\\\\n",
       "  & <chr> & <int> & <int> & <int> & <int> & <int> & <chr> & <chr> & <dbl> & <dbl>\\\\\n",
       "\\hline\n",
       "\t1 & Theft from Vehicle & 2008 & 12 &  7 & 18 &  0 & 11XX E HASTINGS ST & Strathcona & 494141.1 & 5458690\\\\\n",
       "\t2 & Theft from Vehicle & 2009 &  8 & 28 & 19 &  0 & 11XX E HASTINGS ST & Strathcona & 494141.1 & 5458690\\\\\n",
       "\t3 & Theft from Vehicle & 2012 &  7 & 25 & 12 &  0 & 11XX E HASTINGS ST & Strathcona & 494141.1 & 5458690\\\\\n",
       "\t4 & Theft from Vehicle & 2014 &  5 &  8 & 12 & 49 & 11XX E HASTINGS ST & Strathcona & 494141.1 & 5458690\\\\\n",
       "\t5 & Theft from Vehicle & 2014 & 10 & 19 & 18 &  0 & 11XX E HASTINGS ST & Strathcona & 494141.1 & 5458690\\\\\n",
       "\t6 & Theft from Vehicle & 2015 &  2 & 18 & 18 & 30 & 11XX E HASTINGS ST & Strathcona & 494141.1 & 5458690\\\\\n",
       "\\end{tabular}\n"
      ],
      "text/markdown": [
       "\n",
       "A data.frame: 6 × 10\n",
       "\n",
       "| <!--/--> | TYPE &lt;chr&gt; | YEAR &lt;int&gt; | MONTH &lt;int&gt; | DAY &lt;int&gt; | HOUR &lt;int&gt; | MINUTE &lt;int&gt; | HUNDRED_BLOCK &lt;chr&gt; | NEIGHBOURHOOD &lt;chr&gt; | X &lt;dbl&gt; | Y &lt;dbl&gt; |\n",
       "|---|---|---|---|---|---|---|---|---|---|---|\n",
       "| 1 | Theft from Vehicle | 2008 | 12 |  7 | 18 |  0 | 11XX E HASTINGS ST | Strathcona | 494141.1 | 5458690 |\n",
       "| 2 | Theft from Vehicle | 2009 |  8 | 28 | 19 |  0 | 11XX E HASTINGS ST | Strathcona | 494141.1 | 5458690 |\n",
       "| 3 | Theft from Vehicle | 2012 |  7 | 25 | 12 |  0 | 11XX E HASTINGS ST | Strathcona | 494141.1 | 5458690 |\n",
       "| 4 | Theft from Vehicle | 2014 |  5 |  8 | 12 | 49 | 11XX E HASTINGS ST | Strathcona | 494141.1 | 5458690 |\n",
       "| 5 | Theft from Vehicle | 2014 | 10 | 19 | 18 |  0 | 11XX E HASTINGS ST | Strathcona | 494141.1 | 5458690 |\n",
       "| 6 | Theft from Vehicle | 2015 |  2 | 18 | 18 | 30 | 11XX E HASTINGS ST | Strathcona | 494141.1 | 5458690 |\n",
       "\n"
      ],
      "text/plain": [
       "  TYPE               YEAR MONTH DAY HOUR MINUTE HUNDRED_BLOCK     \n",
       "1 Theft from Vehicle 2008 12     7  18    0     11XX E HASTINGS ST\n",
       "2 Theft from Vehicle 2009  8    28  19    0     11XX E HASTINGS ST\n",
       "3 Theft from Vehicle 2012  7    25  12    0     11XX E HASTINGS ST\n",
       "4 Theft from Vehicle 2014  5     8  12   49     11XX E HASTINGS ST\n",
       "5 Theft from Vehicle 2014 10    19  18    0     11XX E HASTINGS ST\n",
       "6 Theft from Vehicle 2015  2    18  18   30     11XX E HASTINGS ST\n",
       "  NEIGHBOURHOOD X        Y      \n",
       "1 Strathcona    494141.1 5458690\n",
       "2 Strathcona    494141.1 5458690\n",
       "3 Strathcona    494141.1 5458690\n",
       "4 Strathcona    494141.1 5458690\n",
       "5 Strathcona    494141.1 5458690\n",
       "6 Strathcona    494141.1 5458690"
      ]
     },
     "metadata": {},
     "output_type": "display_data"
    }
   ],
   "source": [
    "crime <- read.csv(\"https://raw.githubusercontent.com/fankayii/STAT201_34/main/crime.csv\")\n",
    "head(crime)"
   ]
  },
  {
   "cell_type": "markdown",
   "id": "2b0cfe95-0b82-4ac7-8686-abda54e7d903",
   "metadata": {
    "jp-MarkdownHeadingCollapsed": true,
    "tags": []
   },
   "source": [
    "### Exploratory Data Analysis\n",
    "First, we check for any NA values in our dataset."
   ]
  },
  {
   "cell_type": "code",
   "execution_count": 3,
   "id": "301d1f2f-9fa8-4950-92e8-01d13e8f99a6",
   "metadata": {},
   "outputs": [
    {
     "name": "stdout",
     "output_type": "stream",
     "text": [
      "[1] 146\n"
     ]
    }
   ],
   "source": [
    "print(sum(is.na(crime)))"
   ]
  },
  {
   "cell_type": "markdown",
   "id": "35a472de-e8c3-448c-a153-563a01bde26f",
   "metadata": {},
   "source": [
    "We discover that our dataset contains 146 NA values. Thankfully, when we `filter` for  years 2018 to 2022 (the most recent five years) and the two neighbourhoods of interest, West Point Grey and Dunbar-Southlands, the filtering will automatically drop the NA values for us."
   ]
  },
  {
   "cell_type": "code",
   "execution_count": 4,
   "id": "7bb0a8a7-5fb6-467d-87ba-2b339951f523",
   "metadata": {
    "vscode": {
     "languageId": "r"
    }
   },
   "outputs": [
    {
     "data": {
      "text/html": [
       "<table class=\"dataframe\">\n",
       "<caption>A data.frame: 6 × 2</caption>\n",
       "<thead>\n",
       "\t<tr><th></th><th scope=col>type</th><th scope=col>neighbourhood</th></tr>\n",
       "\t<tr><th></th><th scope=col>&lt;chr&gt;</th><th scope=col>&lt;chr&gt;</th></tr>\n",
       "</thead>\n",
       "<tbody>\n",
       "\t<tr><th scope=row>1</th><td>Theft from Vehicle</td><td>West Point Grey</td></tr>\n",
       "\t<tr><th scope=row>2</th><td>Theft from Vehicle</td><td>West Point Grey</td></tr>\n",
       "\t<tr><th scope=row>3</th><td>Theft from Vehicle</td><td>West Point Grey</td></tr>\n",
       "\t<tr><th scope=row>4</th><td>Theft from Vehicle</td><td>West Point Grey</td></tr>\n",
       "\t<tr><th scope=row>5</th><td>Theft from Vehicle</td><td>West Point Grey</td></tr>\n",
       "\t<tr><th scope=row>6</th><td>Theft from Vehicle</td><td>West Point Grey</td></tr>\n",
       "</tbody>\n",
       "</table>\n"
      ],
      "text/latex": [
       "A data.frame: 6 × 2\n",
       "\\begin{tabular}{r|ll}\n",
       "  & type & neighbourhood\\\\\n",
       "  & <chr> & <chr>\\\\\n",
       "\\hline\n",
       "\t1 & Theft from Vehicle & West Point Grey\\\\\n",
       "\t2 & Theft from Vehicle & West Point Grey\\\\\n",
       "\t3 & Theft from Vehicle & West Point Grey\\\\\n",
       "\t4 & Theft from Vehicle & West Point Grey\\\\\n",
       "\t5 & Theft from Vehicle & West Point Grey\\\\\n",
       "\t6 & Theft from Vehicle & West Point Grey\\\\\n",
       "\\end{tabular}\n"
      ],
      "text/markdown": [
       "\n",
       "A data.frame: 6 × 2\n",
       "\n",
       "| <!--/--> | type &lt;chr&gt; | neighbourhood &lt;chr&gt; |\n",
       "|---|---|---|\n",
       "| 1 | Theft from Vehicle | West Point Grey |\n",
       "| 2 | Theft from Vehicle | West Point Grey |\n",
       "| 3 | Theft from Vehicle | West Point Grey |\n",
       "| 4 | Theft from Vehicle | West Point Grey |\n",
       "| 5 | Theft from Vehicle | West Point Grey |\n",
       "| 6 | Theft from Vehicle | West Point Grey |\n",
       "\n"
      ],
      "text/plain": [
       "  type               neighbourhood  \n",
       "1 Theft from Vehicle West Point Grey\n",
       "2 Theft from Vehicle West Point Grey\n",
       "3 Theft from Vehicle West Point Grey\n",
       "4 Theft from Vehicle West Point Grey\n",
       "5 Theft from Vehicle West Point Grey\n",
       "6 Theft from Vehicle West Point Grey"
      ]
     },
     "metadata": {},
     "output_type": "display_data"
    }
   ],
   "source": [
    "crime_recent_5_years <- crime %>%\n",
    "    filter(YEAR>=2018 & YEAR<=2022) %>%\n",
    "    filter(NEIGHBOURHOOD %in% c(\"West Point Grey\",\"Dunbar-Southlands\")) %>%\n",
    "    select(TYPE,NEIGHBOURHOOD)\n",
    "\n",
    "colnames(crime_recent_5_years) <- c('type', 'neighbourhood')\n",
    "head(crime_recent_5_years)"
   ]
  },
  {
   "cell_type": "markdown",
   "id": "8fe066f3-6868-4028-ab5c-1ecd94bfd535",
   "metadata": {},
   "source": [
    "Following, We transform the data such that we group our crimes by 'theft' and 'not theft' using the R functions `mutate` and `case_when`."
   ]
  },
  {
   "cell_type": "code",
   "execution_count": 5,
   "id": "7de436f8",
   "metadata": {
    "vscode": {
     "languageId": "r"
    }
   },
   "outputs": [
    {
     "data": {
      "text/html": [
       "<table class=\"dataframe\">\n",
       "<caption>A data.frame: 6 × 2</caption>\n",
       "<thead>\n",
       "\t<tr><th></th><th scope=col>type</th><th scope=col>neighbourhood</th></tr>\n",
       "\t<tr><th></th><th scope=col>&lt;chr&gt;</th><th scope=col>&lt;chr&gt;</th></tr>\n",
       "</thead>\n",
       "<tbody>\n",
       "\t<tr><th scope=row>1</th><td>theft</td><td>West Point Grey</td></tr>\n",
       "\t<tr><th scope=row>2</th><td>theft</td><td>West Point Grey</td></tr>\n",
       "\t<tr><th scope=row>3</th><td>theft</td><td>West Point Grey</td></tr>\n",
       "\t<tr><th scope=row>4</th><td>theft</td><td>West Point Grey</td></tr>\n",
       "\t<tr><th scope=row>5</th><td>theft</td><td>West Point Grey</td></tr>\n",
       "\t<tr><th scope=row>6</th><td>theft</td><td>West Point Grey</td></tr>\n",
       "</tbody>\n",
       "</table>\n"
      ],
      "text/latex": [
       "A data.frame: 6 × 2\n",
       "\\begin{tabular}{r|ll}\n",
       "  & type & neighbourhood\\\\\n",
       "  & <chr> & <chr>\\\\\n",
       "\\hline\n",
       "\t1 & theft & West Point Grey\\\\\n",
       "\t2 & theft & West Point Grey\\\\\n",
       "\t3 & theft & West Point Grey\\\\\n",
       "\t4 & theft & West Point Grey\\\\\n",
       "\t5 & theft & West Point Grey\\\\\n",
       "\t6 & theft & West Point Grey\\\\\n",
       "\\end{tabular}\n"
      ],
      "text/markdown": [
       "\n",
       "A data.frame: 6 × 2\n",
       "\n",
       "| <!--/--> | type &lt;chr&gt; | neighbourhood &lt;chr&gt; |\n",
       "|---|---|---|\n",
       "| 1 | theft | West Point Grey |\n",
       "| 2 | theft | West Point Grey |\n",
       "| 3 | theft | West Point Grey |\n",
       "| 4 | theft | West Point Grey |\n",
       "| 5 | theft | West Point Grey |\n",
       "| 6 | theft | West Point Grey |\n",
       "\n"
      ],
      "text/plain": [
       "  type  neighbourhood  \n",
       "1 theft West Point Grey\n",
       "2 theft West Point Grey\n",
       "3 theft West Point Grey\n",
       "4 theft West Point Grey\n",
       "5 theft West Point Grey\n",
       "6 theft West Point Grey"
      ]
     },
     "metadata": {},
     "output_type": "display_data"
    }
   ],
   "source": [
    "crime_transform <- crime_recent_5_years %>%\n",
    "  mutate(type = case_when(\n",
    "    type %in% c(\"Other Theft\", \"Theft from Vehicle\", \"Theft of Bicycle\", \"Theft of Vehicle\") ~ \"theft\",\n",
    "    TRUE ~ \"not_theft\"\n",
    "  ))\n",
    "head(crime_transform)"
   ]
  },
  {
   "cell_type": "markdown",
   "id": "26cc2c42-9d0b-49dc-b04d-15c134a6a81e",
   "metadata": {},
   "source": [
    "Our data is now tidy and in the format we would like. We can now compute some initial observations about the data."
   ]
  },
  {
   "cell_type": "code",
   "execution_count": 20,
   "id": "f2ce1d2f-bdd9-4719-b743-2085347f2cf1",
   "metadata": {
    "vscode": {
     "languageId": "r"
    }
   },
   "outputs": [
    {
     "data": {
      "text/html": [
       "<table class=\"dataframe\">\n",
       "<caption>A tibble: 2 × 5</caption>\n",
       "<thead>\n",
       "\t<tr><th scope=col>neighbourhood</th><th scope=col>not_theft</th><th scope=col>theft</th><th scope=col>total_crime</th><th scope=col>prop</th></tr>\n",
       "\t<tr><th scope=col>&lt;chr&gt;</th><th scope=col>&lt;int&gt;</th><th scope=col>&lt;int&gt;</th><th scope=col>&lt;int&gt;</th><th scope=col>&lt;dbl&gt;</th></tr>\n",
       "</thead>\n",
       "<tbody>\n",
       "\t<tr><td>Dunbar-Southlands</td><td>915</td><td>1250</td><td>2165</td><td>0.5773672</td></tr>\n",
       "\t<tr><td>West Point Grey  </td><td>801</td><td>1132</td><td>1933</td><td>0.5856182</td></tr>\n",
       "</tbody>\n",
       "</table>\n"
      ],
      "text/latex": [
       "A tibble: 2 × 5\n",
       "\\begin{tabular}{lllll}\n",
       " neighbourhood & not\\_theft & theft & total\\_crime & prop\\\\\n",
       " <chr> & <int> & <int> & <int> & <dbl>\\\\\n",
       "\\hline\n",
       "\t Dunbar-Southlands & 915 & 1250 & 2165 & 0.5773672\\\\\n",
       "\t West Point Grey   & 801 & 1132 & 1933 & 0.5856182\\\\\n",
       "\\end{tabular}\n"
      ],
      "text/markdown": [
       "\n",
       "A tibble: 2 × 5\n",
       "\n",
       "| neighbourhood &lt;chr&gt; | not_theft &lt;int&gt; | theft &lt;int&gt; | total_crime &lt;int&gt; | prop &lt;dbl&gt; |\n",
       "|---|---|---|---|---|\n",
       "| Dunbar-Southlands | 915 | 1250 | 2165 | 0.5773672 |\n",
       "| West Point Grey   | 801 | 1132 | 1933 | 0.5856182 |\n",
       "\n"
      ],
      "text/plain": [
       "  neighbourhood     not_theft theft total_crime prop     \n",
       "1 Dunbar-Southlands 915       1250  2165        0.5773672\n",
       "2 West Point Grey   801       1132  1933        0.5856182"
      ]
     },
     "metadata": {},
     "output_type": "display_data"
    }
   ],
   "source": [
    "crime_type_pivot <- crime_transform %>%\n",
    "    group_by(neighbourhood, type) %>%\n",
    "    summarize(count = n(), .groups = 'drop') %>%\n",
    "    pivot_wider(names_from = type,\n",
    "                values_from = count) %>%\n",
    "    mutate(total_crime = not_theft + theft,\n",
    "           prop = theft / total_crime)\n",
    "    \n",
    "head(crime_type_pivot)"
   ]
  },
  {
   "cell_type": "markdown",
   "id": "17dba279-be8a-443e-b311-2138be745b1a",
   "metadata": {},
   "source": [
    "Let us tidy this even further so that we retain only the required information, and also calculate the observed test statistic $\\hat{p}_1-\\hat{p}_0$, which is the proportion of theft in West Point Grey subtracted by the proportion of theft in Dunbar-Southlands."
   ]
  },
  {
   "cell_type": "code",
   "execution_count": 12,
   "id": "db5e01e7-16b3-491d-a8e6-b5a2e0309dcf",
   "metadata": {
    "vscode": {
     "languageId": "r"
    }
   },
   "outputs": [
    {
     "data": {
      "text/html": [
       "<table class=\"dataframe\">\n",
       "<caption>A tibble: 1 × 5</caption>\n",
       "<thead>\n",
       "\t<tr><th scope=col>n_ds</th><th scope=col>n_wpg</th><th scope=col>p_ds</th><th scope=col>p_wpg</th><th scope=col>prop_diff</th></tr>\n",
       "\t<tr><th scope=col>&lt;int&gt;</th><th scope=col>&lt;int&gt;</th><th scope=col>&lt;dbl&gt;</th><th scope=col>&lt;dbl&gt;</th><th scope=col>&lt;dbl&gt;</th></tr>\n",
       "</thead>\n",
       "<tbody>\n",
       "\t<tr><td>2165</td><td>1933</td><td>0.5773672</td><td>0.5856182</td><td>0.008251004</td></tr>\n",
       "</tbody>\n",
       "</table>\n"
      ],
      "text/latex": [
       "A tibble: 1 × 5\n",
       "\\begin{tabular}{lllll}\n",
       " n\\_ds & n\\_wpg & p\\_ds & p\\_wpg & prop\\_diff\\\\\n",
       " <int> & <int> & <dbl> & <dbl> & <dbl>\\\\\n",
       "\\hline\n",
       "\t 2165 & 1933 & 0.5773672 & 0.5856182 & 0.008251004\\\\\n",
       "\\end{tabular}\n"
      ],
      "text/markdown": [
       "\n",
       "A tibble: 1 × 5\n",
       "\n",
       "| n_ds &lt;int&gt; | n_wpg &lt;int&gt; | p_ds &lt;dbl&gt; | p_wpg &lt;dbl&gt; | prop_diff &lt;dbl&gt; |\n",
       "|---|---|---|---|---|\n",
       "| 2165 | 1933 | 0.5773672 | 0.5856182 | 0.008251004 |\n",
       "\n"
      ],
      "text/plain": [
       "  n_ds n_wpg p_ds      p_wpg     prop_diff  \n",
       "1 2165 1933  0.5773672 0.5856182 0.008251004"
      ]
     },
     "metadata": {},
     "output_type": "display_data"
    }
   ],
   "source": [
    "crime_estimates <- crime_summary |>\n",
    "    select(neighbourhood, total_crime, prop) |>\n",
    "    pivot_wider(names_from = neighbourhood, values_from=c(total_crime, prop))\n",
    "\n",
    "colnames(crime_estimates) <- c('n_ds', 'n_wpg', 'p_ds', 'p_wpg')\n",
    "\n",
    "crime_estimates <- crime_estimates |>\n",
    "    mutate(prop_diff = p_wpg - p_ds)\n",
    "\n",
    "crime_estimates"
   ]
  },
  {
   "cell_type": "code",
   "execution_count": null,
   "id": "67cbd206-ea44-4622-b8aa-a5b788009156",
   "metadata": {},
   "outputs": [],
   "source": [
    "# p = (n_ds*p_ds + n_wpg*p_wpg) / (n_ds + n_wpg),\n",
    "#            null_std_error = sqrt(p*(1-p)*(1/n_ds + 1/n_wpg))"
   ]
  },
  {
   "cell_type": "markdown",
   "id": "95764527-e76e-4086-8e60-2ec558e38a5a",
   "metadata": {},
   "source": [
    "### Visualization"
   ]
  },
  {
   "cell_type": "markdown",
   "id": "6bc0a161-3459-48a6-8454-206d281121df",
   "metadata": {},
   "source": [
    "Let us explore the relationship between our categorical variables `type` and `neighbourhood`. "
   ]
  },
  {
   "cell_type": "code",
   "execution_count": 27,
   "id": "3051ca70-bc74-44c1-b460-d664f2c61316",
   "metadata": {},
   "outputs": [
    {
     "data": {
      "application/pdf": "[encoded data removed]",
      "image/jpeg": "[encoded data removed]",
      "image/png": "[encoded data removed]",
      "image/svg+xml": [
       "<?xml version=\"1.0\" encoding=\"UTF-8\"?>\n",
       "<svg xmlns=\"http://www.w3.org/2000/svg\" xmlns:xlink=\"http://www.w3.org/1999/xlink\" width=\"720pt\" height=\"432pt\" viewBox=\"0 0 720 432\" version=\"1.1\">\n",
       "<defs>\n",
       "<g>\n",
       "<symbol overflow=\"visible\" id=\"glyph0-0\">\n",
       "<path style=\"stroke:none;\" d=\"M 0.296875 0 L 0.296875 -5.859375 L 2.625 -5.859375 L 2.625 0 Z M 0.578125 -0.296875 L 2.34375 -0.296875 L 2.34375 -5.578125 L 0.578125 -5.578125 Z M 0.578125 -0.296875 \"/>\n",
       "</symbol>\n",
       "<symbol overflow=\"visible\" id=\"glyph0-1\">\n",
       "<path style=\"stroke:none;\" d=\"M 4.546875 -3.03125 C 4.546875 -2.445312 4.488281 -1.957031 4.375 -1.5625 C 4.269531 -1.164062 4.117188 -0.84375 3.921875 -0.59375 C 3.734375 -0.351562 3.507812 -0.179688 3.25 -0.078125 C 3 0.0234375 2.726562 0.078125 2.4375 0.078125 C 2.144531 0.078125 1.867188 0.0234375 1.609375 -0.078125 C 1.359375 -0.179688 1.140625 -0.351562 0.953125 -0.59375 C 0.765625 -0.84375 0.613281 -1.164062 0.5 -1.5625 C 0.394531 -1.957031 0.34375 -2.445312 0.34375 -3.03125 C 0.34375 -3.632812 0.394531 -4.132812 0.5 -4.53125 C 0.613281 -4.9375 0.765625 -5.257812 0.953125 -5.5 C 1.140625 -5.738281 1.359375 -5.90625 1.609375 -6 C 1.867188 -6.09375 2.15625 -6.140625 2.46875 -6.140625 C 2.75 -6.140625 3.015625 -6.09375 3.265625 -6 C 3.523438 -5.90625 3.75 -5.738281 3.9375 -5.5 C 4.125 -5.257812 4.269531 -4.9375 4.375 -4.53125 C 4.488281 -4.132812 4.546875 -3.632812 4.546875 -3.03125 Z M 3.765625 -3.03125 C 3.765625 -3.507812 3.734375 -3.90625 3.671875 -4.21875 C 3.617188 -4.539062 3.535156 -4.796875 3.421875 -4.984375 C 3.304688 -5.179688 3.164062 -5.316406 3 -5.390625 C 2.84375 -5.472656 2.664062 -5.515625 2.46875 -5.515625 C 2.25 -5.515625 2.054688 -5.472656 1.890625 -5.390625 C 1.722656 -5.316406 1.582031 -5.179688 1.46875 -4.984375 C 1.351562 -4.796875 1.265625 -4.539062 1.203125 -4.21875 C 1.148438 -3.90625 1.125 -3.507812 1.125 -3.03125 C 1.125 -2.5625 1.148438 -2.164062 1.203125 -1.84375 C 1.265625 -1.53125 1.351562 -1.273438 1.46875 -1.078125 C 1.582031 -0.890625 1.71875 -0.753906 1.875 -0.671875 C 2.039062 -0.585938 2.226562 -0.546875 2.4375 -0.546875 C 2.644531 -0.546875 2.828125 -0.585938 2.984375 -0.671875 C 3.148438 -0.753906 3.289062 -0.890625 3.40625 -1.078125 C 3.519531 -1.273438 3.609375 -1.53125 3.671875 -1.84375 C 3.734375 -2.164062 3.765625 -2.5625 3.765625 -3.03125 Z M 3.765625 -3.03125 \"/>\n",
       "</symbol>\n",
       "<symbol overflow=\"visible\" id=\"glyph0-2\">\n",
       "<path style=\"stroke:none;\" d=\"M 4.515625 -1.96875 C 4.515625 -1.664062 4.46875 -1.390625 4.375 -1.140625 C 4.289062 -0.890625 4.15625 -0.671875 3.96875 -0.484375 C 3.789062 -0.304688 3.566406 -0.164062 3.296875 -0.0625 C 3.035156 0.03125 2.726562 0.078125 2.375 0.078125 C 2.0625 0.078125 1.785156 0.0390625 1.546875 -0.03125 C 1.304688 -0.101562 1.101562 -0.203125 0.9375 -0.328125 C 0.78125 -0.460938 0.648438 -0.613281 0.546875 -0.78125 C 0.453125 -0.957031 0.390625 -1.148438 0.359375 -1.359375 L 1.140625 -1.4375 C 1.171875 -1.320312 1.210938 -1.210938 1.265625 -1.109375 C 1.328125 -1.003906 1.40625 -0.910156 1.5 -0.828125 C 1.601562 -0.742188 1.722656 -0.675781 1.859375 -0.625 C 2.003906 -0.570312 2.179688 -0.546875 2.390625 -0.546875 C 2.585938 -0.546875 2.769531 -0.578125 2.9375 -0.640625 C 3.101562 -0.703125 3.242188 -0.789062 3.359375 -0.90625 C 3.472656 -1.03125 3.5625 -1.175781 3.625 -1.34375 C 3.6875 -1.519531 3.71875 -1.722656 3.71875 -1.953125 C 3.71875 -2.140625 3.6875 -2.3125 3.625 -2.46875 C 3.570312 -2.625 3.488281 -2.757812 3.375 -2.875 C 3.257812 -2.988281 3.117188 -3.078125 2.953125 -3.140625 C 2.796875 -3.203125 2.613281 -3.234375 2.40625 -3.234375 C 2.28125 -3.234375 2.160156 -3.21875 2.046875 -3.1875 C 1.941406 -3.164062 1.84375 -3.132812 1.75 -3.09375 C 1.65625 -3.0625 1.570312 -3.015625 1.5 -2.953125 C 1.425781 -2.898438 1.351562 -2.847656 1.28125 -2.796875 L 0.53125 -2.796875 L 0.734375 -6.046875 L 4.171875 -6.046875 L 4.171875 -5.390625 L 1.4375 -5.390625 L 1.3125 -3.46875 C 1.457031 -3.582031 1.628906 -3.675781 1.828125 -3.75 C 2.035156 -3.820312 2.28125 -3.859375 2.5625 -3.859375 C 2.863281 -3.859375 3.132812 -3.8125 3.375 -3.71875 C 3.613281 -3.632812 3.816406 -3.503906 3.984375 -3.328125 C 4.160156 -3.160156 4.289062 -2.960938 4.375 -2.734375 C 4.46875 -2.503906 4.515625 -2.25 4.515625 -1.96875 Z M 4.515625 -1.96875 \"/>\n",
       "</symbol>\n",
       "<symbol overflow=\"visible\" id=\"glyph0-3\">\n",
       "<path style=\"stroke:none;\" d=\"M 0.671875 0 L 0.671875 -0.65625 L 2.21875 -0.65625 L 2.21875 -5.3125 L 0.84375 -4.34375 L 0.84375 -5.0625 L 2.28125 -6.046875 L 2.984375 -6.046875 L 2.984375 -0.65625 L 4.46875 -0.65625 L 4.46875 0 Z M 0.671875 0 \"/>\n",
       "</symbol>\n",
       "<symbol overflow=\"visible\" id=\"glyph0-4\">\n",
       "<path style=\"stroke:none;\" d=\"M 0.4375 0 L 0.4375 -0.546875 C 0.582031 -0.878906 0.757812 -1.171875 0.96875 -1.421875 C 1.1875 -1.679688 1.410156 -1.914062 1.640625 -2.125 C 1.867188 -2.332031 2.097656 -2.523438 2.328125 -2.703125 C 2.554688 -2.878906 2.757812 -3.054688 2.9375 -3.234375 C 3.125 -3.410156 3.273438 -3.597656 3.390625 -3.796875 C 3.503906 -3.992188 3.5625 -4.210938 3.5625 -4.453125 C 3.5625 -4.628906 3.535156 -4.78125 3.484375 -4.90625 C 3.429688 -5.039062 3.351562 -5.148438 3.25 -5.234375 C 3.15625 -5.328125 3.039062 -5.394531 2.90625 -5.4375 C 2.769531 -5.476562 2.617188 -5.5 2.453125 -5.5 C 2.296875 -5.5 2.148438 -5.476562 2.015625 -5.4375 C 1.878906 -5.394531 1.757812 -5.332031 1.65625 -5.25 C 1.550781 -5.164062 1.460938 -5.054688 1.390625 -4.921875 C 1.328125 -4.796875 1.285156 -4.648438 1.265625 -4.484375 L 0.484375 -4.5625 C 0.503906 -4.78125 0.5625 -4.984375 0.65625 -5.171875 C 0.75 -5.359375 0.878906 -5.523438 1.046875 -5.671875 C 1.210938 -5.816406 1.410156 -5.929688 1.640625 -6.015625 C 1.878906 -6.097656 2.148438 -6.140625 2.453125 -6.140625 C 2.753906 -6.140625 3.019531 -6.101562 3.25 -6.03125 C 3.488281 -5.957031 3.6875 -5.847656 3.84375 -5.703125 C 4.007812 -5.566406 4.132812 -5.394531 4.21875 -5.1875 C 4.3125 -4.988281 4.359375 -4.753906 4.359375 -4.484375 C 4.359375 -4.273438 4.320312 -4.078125 4.25 -3.890625 C 4.175781 -3.710938 4.078125 -3.539062 3.953125 -3.375 C 3.828125 -3.207031 3.6875 -3.046875 3.53125 -2.890625 C 3.375 -2.742188 3.207031 -2.59375 3.03125 -2.4375 C 2.851562 -2.289062 2.675781 -2.144531 2.5 -2 C 2.320312 -1.863281 2.15625 -1.722656 2 -1.578125 C 1.84375 -1.429688 1.703125 -1.28125 1.578125 -1.125 C 1.453125 -0.976562 1.359375 -0.820312 1.296875 -0.65625 L 4.453125 -0.65625 L 4.453125 0 Z M 0.4375 0 \"/>\n",
       "</symbol>\n",
       "<symbol overflow=\"visible\" id=\"glyph0-5\">\n",
       "<path style=\"stroke:none;\" d=\"M 5.9375 -3.09375 C 5.9375 -2.582031 5.859375 -2.132812 5.703125 -1.75 C 5.554688 -1.363281 5.347656 -1.039062 5.078125 -0.78125 C 4.816406 -0.53125 4.503906 -0.335938 4.140625 -0.203125 C 3.785156 -0.0664062 3.398438 0 2.984375 0 L 0.71875 0 L 0.71875 -6.046875 L 2.71875 -6.046875 C 3.1875 -6.046875 3.617188 -5.988281 4.015625 -5.875 C 4.410156 -5.757812 4.75 -5.582031 5.03125 -5.34375 C 5.3125 -5.101562 5.53125 -4.796875 5.6875 -4.421875 C 5.851562 -4.046875 5.9375 -3.601562 5.9375 -3.09375 Z M 5.109375 -3.09375 C 5.109375 -3.5 5.046875 -3.847656 4.921875 -4.140625 C 4.804688 -4.429688 4.644531 -4.671875 4.4375 -4.859375 C 4.226562 -5.046875 3.972656 -5.179688 3.671875 -5.265625 C 3.378906 -5.347656 3.054688 -5.390625 2.703125 -5.390625 L 1.546875 -5.390625 L 1.546875 -0.65625 L 2.890625 -0.65625 C 3.210938 -0.65625 3.503906 -0.707031 3.765625 -0.8125 C 4.035156 -0.914062 4.269531 -1.066406 4.46875 -1.265625 C 4.664062 -1.472656 4.820312 -1.726562 4.9375 -2.03125 C 5.050781 -2.332031 5.109375 -2.6875 5.109375 -3.09375 Z M 5.109375 -3.09375 \"/>\n",
       "</symbol>\n",
       "<symbol overflow=\"visible\" id=\"glyph0-6\">\n",
       "<path style=\"stroke:none;\" d=\"M 1.34375 -4.640625 L 1.34375 -1.703125 C 1.34375 -1.472656 1.359375 -1.28125 1.390625 -1.125 C 1.429688 -0.976562 1.488281 -0.859375 1.5625 -0.765625 C 1.632812 -0.671875 1.726562 -0.601562 1.84375 -0.5625 C 1.96875 -0.53125 2.125 -0.515625 2.3125 -0.515625 C 2.488281 -0.515625 2.648438 -0.546875 2.796875 -0.609375 C 2.953125 -0.671875 3.082031 -0.757812 3.1875 -0.875 C 3.289062 -1 3.367188 -1.148438 3.421875 -1.328125 C 3.484375 -1.515625 3.515625 -1.722656 3.515625 -1.953125 L 3.515625 -4.640625 L 4.28125 -4.640625 L 4.28125 -1 C 4.28125 -0.894531 4.28125 -0.789062 4.28125 -0.6875 C 4.28125 -0.582031 4.28125 -0.476562 4.28125 -0.375 C 4.289062 -0.28125 4.296875 -0.195312 4.296875 -0.125 C 4.296875 -0.0625 4.300781 -0.0195312 4.3125 0 L 3.578125 0 C 3.578125 -0.0078125 3.570312 -0.046875 3.5625 -0.109375 C 3.5625 -0.171875 3.554688 -0.242188 3.546875 -0.328125 C 3.546875 -0.410156 3.546875 -0.492188 3.546875 -0.578125 C 3.546875 -0.660156 3.546875 -0.734375 3.546875 -0.796875 L 3.53125 -0.796875 C 3.457031 -0.660156 3.375 -0.535156 3.28125 -0.421875 C 3.195312 -0.316406 3.09375 -0.222656 2.96875 -0.140625 C 2.851562 -0.0664062 2.71875 -0.015625 2.5625 0.015625 C 2.414062 0.0546875 2.242188 0.078125 2.046875 0.078125 C 1.785156 0.078125 1.5625 0.046875 1.375 -0.015625 C 1.1875 -0.078125 1.03125 -0.171875 0.90625 -0.296875 C 0.789062 -0.429688 0.707031 -0.597656 0.65625 -0.796875 C 0.601562 -1.003906 0.578125 -1.253906 0.578125 -1.546875 L 0.578125 -4.640625 Z M 1.34375 -4.640625 \"/>\n",
       "</symbol>\n",
       "<symbol overflow=\"visible\" id=\"glyph0-7\">\n",
       "<path style=\"stroke:none;\" d=\"M 3.546875 0 L 3.546875 -2.953125 C 3.546875 -3.171875 3.523438 -3.351562 3.484375 -3.5 C 3.453125 -3.65625 3.398438 -3.78125 3.328125 -3.875 C 3.253906 -3.96875 3.15625 -4.035156 3.03125 -4.078125 C 2.914062 -4.117188 2.765625 -4.140625 2.578125 -4.140625 C 2.398438 -4.140625 2.238281 -4.101562 2.09375 -4.03125 C 1.945312 -3.96875 1.820312 -3.875 1.71875 -3.75 C 1.613281 -3.632812 1.53125 -3.488281 1.46875 -3.3125 C 1.414062 -3.132812 1.390625 -2.925781 1.390625 -2.6875 L 1.390625 0 L 0.609375 0 L 0.609375 -3.65625 C 0.609375 -3.75 0.609375 -3.847656 0.609375 -3.953125 C 0.609375 -4.066406 0.601562 -4.171875 0.59375 -4.265625 C 0.59375 -4.359375 0.59375 -4.441406 0.59375 -4.515625 C 0.59375 -4.585938 0.585938 -4.628906 0.578125 -4.640625 L 1.3125 -4.640625 C 1.3125 -4.628906 1.3125 -4.59375 1.3125 -4.53125 C 1.320312 -4.46875 1.328125 -4.394531 1.328125 -4.3125 C 1.335938 -4.226562 1.34375 -4.144531 1.34375 -4.0625 C 1.34375 -3.976562 1.34375 -3.910156 1.34375 -3.859375 L 1.359375 -3.859375 C 1.429688 -3.992188 1.507812 -4.113281 1.59375 -4.21875 C 1.6875 -4.320312 1.789062 -4.410156 1.90625 -4.484375 C 2.03125 -4.566406 2.164062 -4.628906 2.3125 -4.671875 C 2.46875 -4.710938 2.644531 -4.734375 2.84375 -4.734375 C 3.101562 -4.734375 3.328125 -4.703125 3.515625 -4.640625 C 3.703125 -4.578125 3.851562 -4.476562 3.96875 -4.34375 C 4.09375 -4.21875 4.179688 -4.050781 4.234375 -3.84375 C 4.296875 -3.632812 4.328125 -3.382812 4.328125 -3.09375 L 4.328125 0 Z M 3.546875 0 \"/>\n",
       "</symbol>\n",
       "<symbol overflow=\"visible\" id=\"glyph0-8\">\n",
       "<path style=\"stroke:none;\" d=\"M 4.515625 -2.34375 C 4.515625 -0.726562 3.945312 0.078125 2.8125 0.078125 C 2.457031 0.078125 2.160156 0.015625 1.921875 -0.109375 C 1.691406 -0.234375 1.503906 -0.4375 1.359375 -0.71875 C 1.359375 -0.644531 1.351562 -0.566406 1.34375 -0.484375 C 1.34375 -0.410156 1.335938 -0.335938 1.328125 -0.265625 C 1.328125 -0.191406 1.320312 -0.128906 1.3125 -0.078125 C 1.3125 -0.0351562 1.3125 -0.0078125 1.3125 0 L 0.5625 0 C 0.570312 -0.0195312 0.578125 -0.0625 0.578125 -0.125 C 0.578125 -0.1875 0.578125 -0.257812 0.578125 -0.34375 C 0.585938 -0.4375 0.59375 -0.535156 0.59375 -0.640625 C 0.59375 -0.742188 0.59375 -0.847656 0.59375 -0.953125 L 0.59375 -6.375 L 1.359375 -6.375 L 1.359375 -4.5625 C 1.359375 -4.46875 1.359375 -4.378906 1.359375 -4.296875 C 1.359375 -4.222656 1.359375 -4.160156 1.359375 -4.109375 C 1.359375 -4.035156 1.351562 -3.96875 1.34375 -3.90625 L 1.359375 -3.90625 C 1.503906 -4.195312 1.695312 -4.40625 1.9375 -4.53125 C 2.175781 -4.664062 2.46875 -4.734375 2.8125 -4.734375 C 3.394531 -4.734375 3.820312 -4.535156 4.09375 -4.140625 C 4.375 -3.742188 4.515625 -3.144531 4.515625 -2.34375 Z M 3.71875 -2.3125 C 3.71875 -2.632812 3.695312 -2.910156 3.65625 -3.140625 C 3.613281 -3.367188 3.546875 -3.554688 3.453125 -3.703125 C 3.367188 -3.859375 3.253906 -3.96875 3.109375 -4.03125 C 2.972656 -4.101562 2.804688 -4.140625 2.609375 -4.140625 C 2.410156 -4.140625 2.234375 -4.101562 2.078125 -4.03125 C 1.921875 -3.96875 1.789062 -3.863281 1.6875 -3.71875 C 1.582031 -3.570312 1.5 -3.378906 1.4375 -3.140625 C 1.382812 -2.898438 1.359375 -2.609375 1.359375 -2.265625 C 1.359375 -1.941406 1.382812 -1.664062 1.4375 -1.4375 C 1.5 -1.207031 1.582031 -1.019531 1.6875 -0.875 C 1.789062 -0.738281 1.921875 -0.640625 2.078125 -0.578125 C 2.234375 -0.515625 2.410156 -0.484375 2.609375 -0.484375 C 2.796875 -0.484375 2.957031 -0.515625 3.09375 -0.578125 C 3.226562 -0.648438 3.34375 -0.757812 3.4375 -0.90625 C 3.53125 -1.050781 3.597656 -1.238281 3.640625 -1.46875 C 3.691406 -1.707031 3.71875 -1.988281 3.71875 -2.3125 Z M 3.71875 -2.3125 \"/>\n",
       "</symbol>\n",
       "<symbol overflow=\"visible\" id=\"glyph0-9\">\n",
       "<path style=\"stroke:none;\" d=\"M 1.78125 0.078125 C 1.3125 0.078125 0.957031 -0.0390625 0.71875 -0.28125 C 0.488281 -0.53125 0.375 -0.867188 0.375 -1.296875 C 0.375 -1.597656 0.429688 -1.847656 0.546875 -2.046875 C 0.660156 -2.242188 0.8125 -2.398438 1 -2.515625 C 1.1875 -2.628906 1.398438 -2.707031 1.640625 -2.75 C 1.878906 -2.789062 2.125 -2.8125 2.375 -2.8125 L 3.421875 -2.828125 L 3.421875 -3.09375 C 3.421875 -3.28125 3.398438 -3.441406 3.359375 -3.578125 C 3.316406 -3.710938 3.253906 -3.820312 3.171875 -3.90625 C 3.085938 -3.988281 2.984375 -4.046875 2.859375 -4.078125 C 2.742188 -4.117188 2.597656 -4.140625 2.421875 -4.140625 C 2.273438 -4.140625 2.140625 -4.128906 2.015625 -4.109375 C 1.898438 -4.085938 1.796875 -4.046875 1.703125 -3.984375 C 1.617188 -3.929688 1.546875 -3.859375 1.484375 -3.765625 C 1.429688 -3.671875 1.398438 -3.550781 1.390625 -3.40625 L 0.578125 -3.484375 C 0.609375 -3.660156 0.660156 -3.828125 0.734375 -3.984375 C 0.816406 -4.140625 0.929688 -4.269531 1.078125 -4.375 C 1.234375 -4.488281 1.421875 -4.578125 1.640625 -4.640625 C 1.859375 -4.703125 2.125 -4.734375 2.4375 -4.734375 C 3.019531 -4.734375 3.457031 -4.597656 3.75 -4.328125 C 4.050781 -4.066406 4.203125 -3.679688 4.203125 -3.171875 L 4.203125 -1.171875 C 4.203125 -0.941406 4.234375 -0.769531 4.296875 -0.65625 C 4.359375 -0.539062 4.472656 -0.484375 4.640625 -0.484375 C 4.679688 -0.484375 4.722656 -0.484375 4.765625 -0.484375 C 4.804688 -0.492188 4.847656 -0.5 4.890625 -0.5 L 4.890625 -0.03125 C 4.796875 0 4.695312 0.0195312 4.59375 0.03125 C 4.5 0.0390625 4.398438 0.046875 4.296875 0.046875 C 4.148438 0.046875 4.023438 0.0234375 3.921875 -0.015625 C 3.816406 -0.0546875 3.726562 -0.113281 3.65625 -0.1875 C 3.59375 -0.269531 3.546875 -0.367188 3.515625 -0.484375 C 3.484375 -0.597656 3.460938 -0.734375 3.453125 -0.890625 L 3.421875 -0.890625 C 3.335938 -0.742188 3.242188 -0.609375 3.140625 -0.484375 C 3.046875 -0.367188 2.929688 -0.265625 2.796875 -0.171875 C 2.671875 -0.0859375 2.523438 -0.0234375 2.359375 0.015625 C 2.191406 0.0546875 2 0.078125 1.78125 0.078125 Z M 1.953125 -0.5 C 2.203125 -0.5 2.414062 -0.539062 2.59375 -0.625 C 2.78125 -0.71875 2.9375 -0.832031 3.0625 -0.96875 C 3.1875 -1.113281 3.273438 -1.269531 3.328125 -1.4375 C 3.390625 -1.601562 3.421875 -1.757812 3.421875 -1.90625 L 3.421875 -2.296875 L 2.578125 -2.28125 C 2.390625 -2.269531 2.207031 -2.253906 2.03125 -2.234375 C 1.863281 -2.210938 1.710938 -2.164062 1.578125 -2.09375 C 1.453125 -2.019531 1.351562 -1.914062 1.28125 -1.78125 C 1.207031 -1.65625 1.171875 -1.488281 1.171875 -1.28125 C 1.171875 -1.03125 1.238281 -0.835938 1.375 -0.703125 C 1.507812 -0.566406 1.703125 -0.5 1.953125 -0.5 Z M 1.953125 -0.5 \"/>\n",
       "</symbol>\n",
       "<symbol overflow=\"visible\" id=\"glyph0-10\">\n",
       "<path style=\"stroke:none;\" d=\"M 0.609375 0 L 0.609375 -3.5625 C 0.609375 -3.664062 0.609375 -3.765625 0.609375 -3.859375 C 0.609375 -3.960938 0.601562 -4.0625 0.59375 -4.15625 C 0.59375 -4.25 0.59375 -4.335938 0.59375 -4.421875 C 0.59375 -4.503906 0.585938 -4.578125 0.578125 -4.640625 L 1.3125 -4.640625 C 1.3125 -4.578125 1.3125 -4.503906 1.3125 -4.421875 C 1.320312 -4.335938 1.328125 -4.25 1.328125 -4.15625 C 1.335938 -4.070312 1.34375 -3.988281 1.34375 -3.90625 C 1.34375 -3.820312 1.34375 -3.753906 1.34375 -3.703125 L 1.359375 -3.703125 C 1.421875 -3.878906 1.476562 -4.03125 1.53125 -4.15625 C 1.59375 -4.289062 1.664062 -4.398438 1.75 -4.484375 C 1.832031 -4.566406 1.929688 -4.628906 2.046875 -4.671875 C 2.160156 -4.710938 2.300781 -4.734375 2.46875 -4.734375 C 2.53125 -4.734375 2.585938 -4.726562 2.640625 -4.71875 C 2.703125 -4.707031 2.75 -4.695312 2.78125 -4.6875 L 2.78125 -3.984375 C 2.726562 -3.992188 2.664062 -4.003906 2.59375 -4.015625 C 2.53125 -4.023438 2.457031 -4.03125 2.375 -4.03125 C 2.195312 -4.03125 2.046875 -3.988281 1.921875 -3.90625 C 1.796875 -3.820312 1.691406 -3.707031 1.609375 -3.5625 C 1.535156 -3.425781 1.476562 -3.257812 1.4375 -3.0625 C 1.40625 -2.863281 1.390625 -2.648438 1.390625 -2.421875 L 1.390625 0 Z M 0.609375 0 \"/>\n",
       "</symbol>\n",
       "<symbol overflow=\"visible\" id=\"glyph0-11\">\n",
       "<path style=\"stroke:none;\" d=\"M 0.390625 -2 L 0.390625 -2.6875 L 2.53125 -2.6875 L 2.53125 -2 Z M 0.390625 -2 \"/>\n",
       "</symbol>\n",
       "<symbol overflow=\"visible\" id=\"glyph0-12\">\n",
       "<path style=\"stroke:none;\" d=\"M 5.46875 -1.671875 C 5.46875 -1.410156 5.414062 -1.171875 5.3125 -0.953125 C 5.21875 -0.742188 5.066406 -0.5625 4.859375 -0.40625 C 4.648438 -0.25 4.390625 -0.128906 4.078125 -0.046875 C 3.765625 0.0351562 3.394531 0.078125 2.96875 0.078125 C 2.207031 0.078125 1.617188 -0.0507812 1.203125 -0.3125 C 0.785156 -0.570312 0.519531 -0.953125 0.40625 -1.453125 L 1.1875 -1.609375 C 1.226562 -1.453125 1.289062 -1.304688 1.375 -1.171875 C 1.457031 -1.046875 1.566406 -0.9375 1.703125 -0.84375 C 1.847656 -0.75 2.023438 -0.675781 2.234375 -0.625 C 2.453125 -0.570312 2.707031 -0.546875 3 -0.546875 C 3.238281 -0.546875 3.457031 -0.566406 3.65625 -0.609375 C 3.863281 -0.648438 4.039062 -0.710938 4.1875 -0.796875 C 4.332031 -0.890625 4.445312 -1.003906 4.53125 -1.140625 C 4.613281 -1.273438 4.65625 -1.4375 4.65625 -1.625 C 4.65625 -1.820312 4.609375 -1.984375 4.515625 -2.109375 C 4.421875 -2.234375 4.289062 -2.332031 4.125 -2.40625 C 3.96875 -2.488281 3.773438 -2.554688 3.546875 -2.609375 C 3.328125 -2.671875 3.078125 -2.734375 2.796875 -2.796875 C 2.628906 -2.828125 2.457031 -2.863281 2.28125 -2.90625 C 2.113281 -2.957031 1.953125 -3.015625 1.796875 -3.078125 C 1.640625 -3.140625 1.492188 -3.210938 1.359375 -3.296875 C 1.222656 -3.378906 1.101562 -3.476562 1 -3.59375 C 0.90625 -3.707031 0.828125 -3.835938 0.765625 -3.984375 C 0.710938 -4.140625 0.6875 -4.316406 0.6875 -4.515625 C 0.6875 -4.804688 0.742188 -5.050781 0.859375 -5.25 C 0.972656 -5.457031 1.132812 -5.628906 1.34375 -5.765625 C 1.550781 -5.898438 1.789062 -5.992188 2.0625 -6.046875 C 2.34375 -6.109375 2.648438 -6.140625 2.984375 -6.140625 C 3.359375 -6.140625 3.675781 -6.109375 3.9375 -6.046875 C 4.207031 -5.992188 4.429688 -5.90625 4.609375 -5.78125 C 4.796875 -5.664062 4.941406 -5.519531 5.046875 -5.34375 C 5.160156 -5.175781 5.253906 -4.976562 5.328125 -4.75 L 4.515625 -4.609375 C 4.472656 -4.753906 4.414062 -4.882812 4.34375 -5 C 4.269531 -5.113281 4.171875 -5.207031 4.046875 -5.28125 C 3.921875 -5.363281 3.769531 -5.425781 3.59375 -5.46875 C 3.414062 -5.507812 3.207031 -5.53125 2.96875 -5.53125 C 2.6875 -5.53125 2.453125 -5.503906 2.265625 -5.453125 C 2.078125 -5.398438 1.921875 -5.328125 1.796875 -5.234375 C 1.679688 -5.148438 1.597656 -5.050781 1.546875 -4.9375 C 1.503906 -4.820312 1.484375 -4.695312 1.484375 -4.5625 C 1.484375 -4.382812 1.523438 -4.238281 1.609375 -4.125 C 1.703125 -4.007812 1.828125 -3.910156 1.984375 -3.828125 C 2.140625 -3.753906 2.316406 -3.691406 2.515625 -3.640625 C 2.722656 -3.585938 2.941406 -3.535156 3.171875 -3.484375 C 3.359375 -3.441406 3.539062 -3.394531 3.71875 -3.34375 C 3.90625 -3.300781 4.082031 -3.25 4.25 -3.1875 C 4.425781 -3.125 4.585938 -3.050781 4.734375 -2.96875 C 4.878906 -2.894531 5.003906 -2.796875 5.109375 -2.671875 C 5.222656 -2.546875 5.3125 -2.398438 5.375 -2.234375 C 5.4375 -2.078125 5.46875 -1.890625 5.46875 -1.671875 Z M 5.46875 -1.671875 \"/>\n",
       "</symbol>\n",
       "<symbol overflow=\"visible\" id=\"glyph0-13\">\n",
       "<path style=\"stroke:none;\" d=\"M 4.515625 -2.328125 C 4.515625 -1.515625 4.335938 -0.910156 3.984375 -0.515625 C 3.628906 -0.117188 3.109375 0.078125 2.421875 0.078125 C 2.097656 0.078125 1.804688 0.03125 1.546875 -0.0625 C 1.296875 -0.15625 1.082031 -0.300781 0.90625 -0.5 C 0.738281 -0.707031 0.609375 -0.960938 0.515625 -1.265625 C 0.421875 -1.566406 0.375 -1.921875 0.375 -2.328125 C 0.375 -3.929688 1.066406 -4.734375 2.453125 -4.734375 C 2.816406 -4.734375 3.128906 -4.679688 3.390625 -4.578125 C 3.648438 -4.484375 3.863281 -4.332031 4.03125 -4.125 C 4.195312 -3.925781 4.316406 -3.675781 4.390625 -3.375 C 4.472656 -3.070312 4.515625 -2.722656 4.515625 -2.328125 Z M 3.71875 -2.328125 C 3.71875 -2.691406 3.6875 -2.988281 3.625 -3.21875 C 3.570312 -3.457031 3.488281 -3.644531 3.375 -3.78125 C 3.269531 -3.925781 3.140625 -4.023438 2.984375 -4.078125 C 2.828125 -4.128906 2.65625 -4.15625 2.46875 -4.15625 C 2.269531 -4.15625 2.085938 -4.125 1.921875 -4.0625 C 1.765625 -4.007812 1.628906 -3.910156 1.515625 -3.765625 C 1.410156 -3.628906 1.328125 -3.441406 1.265625 -3.203125 C 1.210938 -2.972656 1.1875 -2.679688 1.1875 -2.328125 C 1.1875 -1.960938 1.21875 -1.660156 1.28125 -1.421875 C 1.34375 -1.191406 1.425781 -1.003906 1.53125 -0.859375 C 1.644531 -0.722656 1.773438 -0.625 1.921875 -0.5625 C 2.078125 -0.507812 2.242188 -0.484375 2.421875 -0.484375 C 2.617188 -0.484375 2.796875 -0.507812 2.953125 -0.5625 C 3.117188 -0.625 3.253906 -0.722656 3.359375 -0.859375 C 3.472656 -1.003906 3.5625 -1.191406 3.625 -1.421875 C 3.6875 -1.660156 3.71875 -1.960938 3.71875 -2.328125 Z M 3.71875 -2.328125 \"/>\n",
       "</symbol>\n",
       "<symbol overflow=\"visible\" id=\"glyph0-14\">\n",
       "<path style=\"stroke:none;\" d=\"M 2.375 -0.03125 C 2.257812 0 2.140625 0.0195312 2.015625 0.03125 C 1.898438 0.0507812 1.757812 0.0625 1.59375 0.0625 C 0.976562 0.0625 0.671875 -0.285156 0.671875 -0.984375 L 0.671875 -4.078125 L 0.140625 -4.078125 L 0.140625 -4.640625 L 0.703125 -4.640625 L 0.921875 -5.6875 L 1.4375 -5.6875 L 1.4375 -4.640625 L 2.296875 -4.640625 L 2.296875 -4.078125 L 1.4375 -4.078125 L 1.4375 -1.15625 C 1.4375 -0.925781 1.472656 -0.765625 1.546875 -0.671875 C 1.617188 -0.585938 1.75 -0.546875 1.9375 -0.546875 C 2.007812 -0.546875 2.078125 -0.550781 2.140625 -0.5625 C 2.210938 -0.570312 2.289062 -0.585938 2.375 -0.609375 Z M 2.375 -0.03125 \"/>\n",
       "</symbol>\n",
       "<symbol overflow=\"visible\" id=\"glyph0-15\">\n",
       "<path style=\"stroke:none;\" d=\"M 1.359375 -3.859375 C 1.441406 -4.015625 1.535156 -4.144531 1.640625 -4.25 C 1.742188 -4.363281 1.851562 -4.457031 1.96875 -4.53125 C 2.09375 -4.601562 2.222656 -4.65625 2.359375 -4.6875 C 2.503906 -4.71875 2.664062 -4.734375 2.84375 -4.734375 C 3.144531 -4.734375 3.390625 -4.691406 3.578125 -4.609375 C 3.765625 -4.535156 3.914062 -4.425781 4.03125 -4.28125 C 4.144531 -4.132812 4.222656 -3.957031 4.265625 -3.75 C 4.304688 -3.550781 4.328125 -3.332031 4.328125 -3.09375 L 4.328125 0 L 3.546875 0 L 3.546875 -2.953125 C 3.546875 -3.148438 3.53125 -3.320312 3.5 -3.46875 C 3.476562 -3.613281 3.429688 -3.734375 3.359375 -3.828125 C 3.296875 -3.929688 3.203125 -4.007812 3.078125 -4.0625 C 2.953125 -4.113281 2.785156 -4.140625 2.578125 -4.140625 C 2.398438 -4.140625 2.238281 -4.101562 2.09375 -4.03125 C 1.945312 -3.96875 1.820312 -3.875 1.71875 -3.75 C 1.613281 -3.632812 1.53125 -3.488281 1.46875 -3.3125 C 1.414062 -3.144531 1.390625 -2.953125 1.390625 -2.734375 L 1.390625 0 L 0.609375 0 L 0.609375 -6.375 L 1.390625 -6.375 L 1.390625 -4.71875 C 1.390625 -4.625 1.382812 -4.53125 1.375 -4.4375 C 1.375 -4.34375 1.367188 -4.253906 1.359375 -4.171875 C 1.359375 -4.085938 1.359375 -4.019531 1.359375 -3.96875 C 1.359375 -3.914062 1.351562 -3.878906 1.34375 -3.859375 Z M 1.359375 -3.859375 \"/>\n",
       "</symbol>\n",
       "<symbol overflow=\"visible\" id=\"glyph0-16\">\n",
       "<path style=\"stroke:none;\" d=\"M 0.59375 0 L 0.59375 -6.375 L 1.359375 -6.375 L 1.359375 0 Z M 0.59375 0 \"/>\n",
       "</symbol>\n",
       "<symbol overflow=\"visible\" id=\"glyph0-17\">\n",
       "<path style=\"stroke:none;\" d=\"M 3.53125 -0.75 C 3.382812 -0.445312 3.191406 -0.234375 2.953125 -0.109375 C 2.722656 0.015625 2.429688 0.078125 2.078125 0.078125 C 1.492188 0.078125 1.0625 -0.113281 0.78125 -0.5 C 0.507812 -0.894531 0.375 -1.492188 0.375 -2.296875 C 0.375 -3.921875 0.941406 -4.734375 2.078125 -4.734375 C 2.429688 -4.734375 2.722656 -4.664062 2.953125 -4.53125 C 3.191406 -4.40625 3.382812 -4.203125 3.53125 -3.921875 C 3.53125 -3.953125 3.53125 -4 3.53125 -4.0625 C 3.53125 -4.125 3.53125 -4.1875 3.53125 -4.25 C 3.53125 -4.320312 3.53125 -4.382812 3.53125 -4.4375 C 3.53125 -4.5 3.53125 -4.546875 3.53125 -4.578125 L 3.53125 -6.375 L 4.296875 -6.375 L 4.296875 -0.953125 C 4.296875 -0.847656 4.296875 -0.742188 4.296875 -0.640625 C 4.296875 -0.535156 4.296875 -0.4375 4.296875 -0.34375 C 4.304688 -0.257812 4.3125 -0.1875 4.3125 -0.125 C 4.320312 -0.0625 4.328125 -0.0195312 4.328125 0 L 3.59375 0 C 3.582031 -0.03125 3.570312 -0.0703125 3.5625 -0.125 C 3.5625 -0.175781 3.554688 -0.234375 3.546875 -0.296875 C 3.546875 -0.367188 3.546875 -0.441406 3.546875 -0.515625 C 3.546875 -0.597656 3.546875 -0.675781 3.546875 -0.75 Z M 1.1875 -2.328125 C 1.1875 -2.003906 1.203125 -1.726562 1.234375 -1.5 C 1.273438 -1.269531 1.335938 -1.082031 1.421875 -0.9375 C 1.515625 -0.789062 1.628906 -0.679688 1.765625 -0.609375 C 1.910156 -0.546875 2.082031 -0.515625 2.28125 -0.515625 C 2.476562 -0.515625 2.65625 -0.546875 2.8125 -0.609375 C 2.96875 -0.671875 3.097656 -0.773438 3.203125 -0.921875 C 3.304688 -1.078125 3.382812 -1.269531 3.4375 -1.5 C 3.5 -1.738281 3.53125 -2.03125 3.53125 -2.375 C 3.53125 -2.707031 3.5 -2.988281 3.4375 -3.21875 C 3.382812 -3.445312 3.304688 -3.628906 3.203125 -3.765625 C 3.097656 -3.910156 2.96875 -4.007812 2.8125 -4.0625 C 2.65625 -4.125 2.476562 -4.15625 2.28125 -4.15625 C 2.09375 -4.15625 1.929688 -4.125 1.796875 -4.0625 C 1.660156 -4 1.546875 -3.894531 1.453125 -3.75 C 1.359375 -3.601562 1.289062 -3.410156 1.25 -3.171875 C 1.207031 -2.941406 1.1875 -2.660156 1.1875 -2.328125 Z M 1.1875 -2.328125 \"/>\n",
       "</symbol>\n",
       "<symbol overflow=\"visible\" id=\"glyph0-18\">\n",
       "<path style=\"stroke:none;\" d=\"M 4.078125 -1.28125 C 4.078125 -1.0625 4.035156 -0.867188 3.953125 -0.703125 C 3.867188 -0.535156 3.742188 -0.390625 3.578125 -0.265625 C 3.421875 -0.148438 3.222656 -0.0625 2.984375 0 C 2.753906 0.0507812 2.488281 0.078125 2.1875 0.078125 C 1.925781 0.078125 1.6875 0.0546875 1.46875 0.015625 C 1.25 -0.015625 1.054688 -0.078125 0.890625 -0.171875 C 0.734375 -0.265625 0.597656 -0.382812 0.484375 -0.53125 C 0.378906 -0.6875 0.300781 -0.875 0.25 -1.09375 L 0.921875 -1.21875 C 0.992188 -0.96875 1.128906 -0.785156 1.328125 -0.671875 C 1.535156 -0.554688 1.820312 -0.5 2.1875 -0.5 C 2.351562 -0.5 2.503906 -0.507812 2.640625 -0.53125 C 2.785156 -0.5625 2.90625 -0.601562 3 -0.65625 C 3.101562 -0.707031 3.179688 -0.78125 3.234375 -0.875 C 3.296875 -0.96875 3.328125 -1.082031 3.328125 -1.21875 C 3.328125 -1.363281 3.289062 -1.476562 3.21875 -1.5625 C 3.15625 -1.65625 3.066406 -1.734375 2.953125 -1.796875 C 2.835938 -1.859375 2.695312 -1.910156 2.53125 -1.953125 C 2.363281 -1.992188 2.175781 -2.039062 1.96875 -2.09375 C 1.789062 -2.144531 1.609375 -2.203125 1.421875 -2.265625 C 1.234375 -2.328125 1.066406 -2.40625 0.921875 -2.5 C 0.773438 -2.601562 0.65625 -2.726562 0.5625 -2.875 C 0.46875 -3.019531 0.421875 -3.203125 0.421875 -3.421875 C 0.421875 -3.847656 0.570312 -4.171875 0.875 -4.390625 C 1.175781 -4.609375 1.617188 -4.71875 2.203125 -4.71875 C 2.710938 -4.71875 3.117188 -4.625 3.421875 -4.4375 C 3.722656 -4.257812 3.914062 -3.972656 4 -3.578125 L 3.296875 -3.5 C 3.273438 -3.613281 3.226562 -3.710938 3.15625 -3.796875 C 3.09375 -3.878906 3.007812 -3.945312 2.90625 -4 C 2.8125 -4.050781 2.703125 -4.085938 2.578125 -4.109375 C 2.460938 -4.128906 2.335938 -4.140625 2.203125 -4.140625 C 1.847656 -4.140625 1.585938 -4.082031 1.421875 -3.96875 C 1.265625 -3.863281 1.1875 -3.707031 1.1875 -3.5 C 1.1875 -3.375 1.210938 -3.269531 1.265625 -3.1875 C 1.328125 -3.101562 1.414062 -3.03125 1.53125 -2.96875 C 1.644531 -2.914062 1.773438 -2.867188 1.921875 -2.828125 C 2.078125 -2.785156 2.25 -2.742188 2.4375 -2.703125 C 2.5625 -2.671875 2.6875 -2.632812 2.8125 -2.59375 C 2.945312 -2.5625 3.070312 -2.519531 3.1875 -2.46875 C 3.3125 -2.414062 3.425781 -2.351562 3.53125 -2.28125 C 3.644531 -2.21875 3.738281 -2.140625 3.8125 -2.046875 C 3.894531 -1.953125 3.957031 -1.84375 4 -1.71875 C 4.050781 -1.59375 4.078125 -1.445312 4.078125 -1.28125 Z M 4.078125 -1.28125 \"/>\n",
       "</symbol>\n",
       "<symbol overflow=\"visible\" id=\"glyph0-19\">\n",
       "<path style=\"stroke:none;\" d=\"M 6.484375 0 L 5.515625 0 L 4.46875 -3.84375 C 4.4375 -3.945312 4.398438 -4.070312 4.359375 -4.21875 C 4.328125 -4.375 4.296875 -4.519531 4.265625 -4.65625 C 4.234375 -4.8125 4.195312 -4.972656 4.15625 -5.140625 C 4.125 -4.972656 4.09375 -4.8125 4.0625 -4.65625 C 4.019531 -4.519531 3.984375 -4.375 3.953125 -4.21875 C 3.921875 -4.070312 3.890625 -3.945312 3.859375 -3.84375 L 2.796875 0 L 1.828125 0 L 0.03125 -6.046875 L 0.890625 -6.046875 L 1.984375 -2.203125 C 2.023438 -2.023438 2.066406 -1.847656 2.109375 -1.671875 C 2.160156 -1.492188 2.203125 -1.332031 2.234375 -1.1875 C 2.273438 -1.019531 2.3125 -0.863281 2.34375 -0.71875 C 2.382812 -0.914062 2.425781 -1.113281 2.46875 -1.3125 C 2.488281 -1.382812 2.507812 -1.460938 2.53125 -1.546875 C 2.550781 -1.640625 2.570312 -1.726562 2.59375 -1.8125 C 2.613281 -1.90625 2.632812 -1.988281 2.65625 -2.0625 C 2.675781 -2.144531 2.695312 -2.21875 2.71875 -2.28125 L 3.765625 -6.046875 L 4.546875 -6.046875 L 5.609375 -2.28125 C 5.617188 -2.21875 5.632812 -2.144531 5.65625 -2.0625 C 5.6875 -1.988281 5.710938 -1.910156 5.734375 -1.828125 C 5.753906 -1.742188 5.769531 -1.65625 5.78125 -1.5625 C 5.800781 -1.476562 5.820312 -1.394531 5.84375 -1.3125 C 5.894531 -1.113281 5.941406 -0.914062 5.984375 -0.71875 C 5.984375 -0.71875 5.992188 -0.765625 6.015625 -0.859375 C 6.046875 -0.960938 6.078125 -1.085938 6.109375 -1.234375 C 6.140625 -1.390625 6.175781 -1.550781 6.21875 -1.71875 C 6.257812 -1.894531 6.300781 -2.054688 6.34375 -2.203125 L 7.421875 -6.046875 L 8.265625 -6.046875 Z M 6.484375 0 \"/>\n",
       "</symbol>\n",
       "<symbol overflow=\"visible\" id=\"glyph0-20\">\n",
       "<path style=\"stroke:none;\" d=\"M 1.1875 -2.15625 C 1.1875 -1.914062 1.207031 -1.691406 1.25 -1.484375 C 1.300781 -1.285156 1.378906 -1.109375 1.484375 -0.953125 C 1.597656 -0.804688 1.734375 -0.691406 1.890625 -0.609375 C 2.054688 -0.535156 2.253906 -0.5 2.484375 -0.5 C 2.816406 -0.5 3.082031 -0.5625 3.28125 -0.6875 C 3.488281 -0.820312 3.628906 -0.992188 3.703125 -1.203125 L 4.375 -1.015625 C 4.320312 -0.890625 4.253906 -0.757812 4.171875 -0.625 C 4.085938 -0.488281 3.972656 -0.367188 3.828125 -0.265625 C 3.679688 -0.160156 3.5 -0.078125 3.28125 -0.015625 C 3.0625 0.046875 2.796875 0.078125 2.484375 0.078125 C 1.796875 0.078125 1.269531 -0.125 0.90625 -0.53125 C 0.550781 -0.9375 0.375 -1.546875 0.375 -2.359375 C 0.375 -2.785156 0.425781 -3.148438 0.53125 -3.453125 C 0.644531 -3.753906 0.796875 -4 0.984375 -4.1875 C 1.171875 -4.382812 1.390625 -4.523438 1.640625 -4.609375 C 1.890625 -4.691406 2.160156 -4.734375 2.453125 -4.734375 C 2.835938 -4.734375 3.160156 -4.671875 3.421875 -4.546875 C 3.691406 -4.421875 3.90625 -4.242188 4.0625 -4.015625 C 4.21875 -3.796875 4.328125 -3.535156 4.390625 -3.234375 C 4.460938 -2.929688 4.5 -2.609375 4.5 -2.265625 L 4.5 -2.15625 Z M 3.703125 -2.75 C 3.660156 -3.238281 3.535156 -3.59375 3.328125 -3.8125 C 3.117188 -4.039062 2.820312 -4.15625 2.4375 -4.15625 C 2.3125 -4.15625 2.175781 -4.132812 2.03125 -4.09375 C 1.894531 -4.050781 1.765625 -3.976562 1.640625 -3.875 C 1.515625 -3.769531 1.410156 -3.625 1.328125 -3.4375 C 1.253906 -3.257812 1.207031 -3.03125 1.1875 -2.75 Z M 3.703125 -2.75 \"/>\n",
       "</symbol>\n",
       "<symbol overflow=\"visible\" id=\"glyph0-21\">\n",
       "<path style=\"stroke:none;\" d=\"\"/>\n",
       "</symbol>\n",
       "<symbol overflow=\"visible\" id=\"glyph0-22\">\n",
       "<path style=\"stroke:none;\" d=\"M 5.40625 -4.234375 C 5.40625 -3.960938 5.359375 -3.710938 5.265625 -3.484375 C 5.179688 -3.265625 5.050781 -3.070312 4.875 -2.90625 C 4.707031 -2.738281 4.492188 -2.601562 4.234375 -2.5 C 3.972656 -2.40625 3.664062 -2.359375 3.3125 -2.359375 L 1.546875 -2.359375 L 1.546875 0 L 0.71875 0 L 0.71875 -6.046875 L 3.265625 -6.046875 C 3.628906 -6.046875 3.941406 -6.003906 4.203125 -5.921875 C 4.472656 -5.835938 4.695312 -5.710938 4.875 -5.546875 C 5.050781 -5.390625 5.179688 -5.195312 5.265625 -4.96875 C 5.359375 -4.75 5.40625 -4.503906 5.40625 -4.234375 Z M 4.578125 -4.21875 C 4.578125 -4.601562 4.457031 -4.894531 4.21875 -5.09375 C 3.988281 -5.289062 3.640625 -5.390625 3.171875 -5.390625 L 1.546875 -5.390625 L 1.546875 -3 L 3.203125 -3 C 3.671875 -3 4.015625 -3.101562 4.234375 -3.3125 C 4.460938 -3.53125 4.578125 -3.832031 4.578125 -4.21875 Z M 4.578125 -4.21875 \"/>\n",
       "</symbol>\n",
       "<symbol overflow=\"visible\" id=\"glyph0-23\">\n",
       "<path style=\"stroke:none;\" d=\"M 0.59375 -5.640625 L 0.59375 -6.375 L 1.359375 -6.375 L 1.359375 -5.640625 Z M 0.59375 0 L 0.59375 -4.640625 L 1.359375 -4.640625 L 1.359375 0 Z M 0.59375 0 \"/>\n",
       "</symbol>\n",
       "<symbol overflow=\"visible\" id=\"glyph0-24\">\n",
       "<path style=\"stroke:none;\" d=\"M 0.4375 -3.046875 C 0.4375 -3.523438 0.5 -3.953125 0.625 -4.328125 C 0.757812 -4.710938 0.953125 -5.035156 1.203125 -5.296875 C 1.453125 -5.566406 1.765625 -5.773438 2.140625 -5.921875 C 2.515625 -6.066406 2.953125 -6.140625 3.453125 -6.140625 C 3.828125 -6.140625 4.15625 -6.101562 4.4375 -6.03125 C 4.71875 -5.96875 4.957031 -5.875 5.15625 -5.75 C 5.363281 -5.632812 5.539062 -5.488281 5.6875 -5.3125 C 5.832031 -5.132812 5.953125 -4.9375 6.046875 -4.71875 L 5.265625 -4.484375 C 5.191406 -4.628906 5.101562 -4.765625 5 -4.890625 C 4.894531 -5.015625 4.769531 -5.117188 4.625 -5.203125 C 4.476562 -5.285156 4.304688 -5.347656 4.109375 -5.390625 C 3.910156 -5.441406 3.6875 -5.46875 3.4375 -5.46875 C 3.0625 -5.46875 2.738281 -5.410156 2.46875 -5.296875 C 2.207031 -5.179688 1.984375 -5.019531 1.796875 -4.8125 C 1.617188 -4.601562 1.488281 -4.347656 1.40625 -4.046875 C 1.320312 -3.742188 1.28125 -3.410156 1.28125 -3.046875 C 1.28125 -2.691406 1.328125 -2.363281 1.421875 -2.0625 C 1.515625 -1.757812 1.65625 -1.492188 1.84375 -1.265625 C 2.03125 -1.046875 2.257812 -0.875 2.53125 -0.75 C 2.8125 -0.632812 3.128906 -0.578125 3.484375 -0.578125 C 3.722656 -0.578125 3.941406 -0.597656 4.140625 -0.640625 C 4.347656 -0.679688 4.53125 -0.734375 4.6875 -0.796875 C 4.851562 -0.859375 5 -0.925781 5.125 -1 C 5.25 -1.082031 5.347656 -1.164062 5.421875 -1.25 L 5.421875 -2.34375 L 3.625 -2.34375 L 3.625 -3.03125 L 6.1875 -3.03125 L 6.1875 -0.9375 C 6.050781 -0.800781 5.890625 -0.671875 5.703125 -0.546875 C 5.523438 -0.421875 5.320312 -0.3125 5.09375 -0.21875 C 4.875 -0.125 4.628906 -0.0507812 4.359375 0 C 4.085938 0.0507812 3.796875 0.078125 3.484375 0.078125 C 2.984375 0.078125 2.539062 0.00390625 2.15625 -0.140625 C 1.769531 -0.296875 1.453125 -0.515625 1.203125 -0.796875 C 0.953125 -1.078125 0.757812 -1.410156 0.625 -1.796875 C 0.5 -2.179688 0.4375 -2.597656 0.4375 -3.046875 Z M 0.4375 -3.046875 \"/>\n",
       "</symbol>\n",
       "<symbol overflow=\"visible\" id=\"glyph0-25\">\n",
       "<path style=\"stroke:none;\" d=\"M 2.59375 0 C 2.488281 0.28125 2.378906 0.53125 2.265625 0.75 C 2.148438 0.976562 2.019531 1.171875 1.875 1.328125 C 1.738281 1.492188 1.582031 1.617188 1.40625 1.703125 C 1.238281 1.785156 1.046875 1.828125 0.828125 1.828125 C 0.722656 1.828125 0.628906 1.820312 0.546875 1.8125 C 0.460938 1.8125 0.375 1.800781 0.28125 1.78125 L 0.28125 1.203125 C 0.34375 1.210938 0.40625 1.21875 0.46875 1.21875 C 0.539062 1.21875 0.601562 1.21875 0.65625 1.21875 C 0.875 1.21875 1.082031 1.132812 1.28125 0.96875 C 1.476562 0.800781 1.648438 0.53125 1.796875 0.15625 L 1.859375 -0.015625 L 0.015625 -4.640625 L 0.84375 -4.640625 L 1.828125 -2.078125 C 1.859375 -2.003906 1.894531 -1.898438 1.9375 -1.765625 C 1.976562 -1.640625 2.019531 -1.507812 2.0625 -1.375 C 2.113281 -1.25 2.15625 -1.132812 2.1875 -1.03125 C 2.21875 -0.925781 2.238281 -0.863281 2.25 -0.84375 C 2.257812 -0.875 2.28125 -0.9375 2.3125 -1.03125 C 2.34375 -1.125 2.378906 -1.226562 2.421875 -1.34375 C 2.460938 -1.457031 2.503906 -1.570312 2.546875 -1.6875 C 2.585938 -1.800781 2.625 -1.90625 2.65625 -2 L 3.5625 -4.640625 L 4.375 -4.640625 Z M 2.59375 0 \"/>\n",
       "</symbol>\n",
       "<symbol overflow=\"visible\" id=\"glyph0-26\">\n",
       "<path style=\"stroke:none;\" d=\"M 4.640625 0 L 1.40625 -5.15625 C 1.414062 -5.007812 1.425781 -4.867188 1.4375 -4.734375 C 1.4375 -4.617188 1.4375 -4.492188 1.4375 -4.359375 C 1.445312 -4.234375 1.453125 -4.117188 1.453125 -4.015625 L 1.453125 0 L 0.71875 0 L 0.71875 -6.046875 L 1.671875 -6.046875 L 4.953125 -0.859375 C 4.941406 -1.003906 4.929688 -1.144531 4.921875 -1.28125 C 4.910156 -1.40625 4.898438 -1.535156 4.890625 -1.671875 C 4.890625 -1.816406 4.890625 -1.953125 4.890625 -2.078125 L 4.890625 -6.046875 L 5.640625 -6.046875 L 5.640625 0 Z M 4.640625 0 \"/>\n",
       "</symbol>\n",
       "<symbol overflow=\"visible\" id=\"glyph0-27\">\n",
       "<path style=\"stroke:none;\" d=\"M 3.09375 -5.375 L 3.09375 0 L 2.28125 0 L 2.28125 -5.375 L 0.203125 -5.375 L 0.203125 -6.046875 L 5.171875 -6.046875 L 5.171875 -5.375 Z M 3.09375 -5.375 \"/>\n",
       "</symbol>\n",
       "<symbol overflow=\"visible\" id=\"glyph0-28\">\n",
       "<path style=\"stroke:none;\" d=\"M 1.546875 -4.078125 L 1.546875 0 L 0.78125 0 L 0.78125 -4.078125 L 0.125 -4.078125 L 0.125 -4.640625 L 0.78125 -4.640625 L 0.78125 -5.171875 C 0.78125 -5.335938 0.796875 -5.492188 0.828125 -5.640625 C 0.859375 -5.785156 0.914062 -5.910156 1 -6.015625 C 1.082031 -6.128906 1.195312 -6.210938 1.34375 -6.265625 C 1.488281 -6.328125 1.675781 -6.359375 1.90625 -6.359375 C 2 -6.359375 2.09375 -6.351562 2.1875 -6.34375 C 2.289062 -6.34375 2.378906 -6.332031 2.453125 -6.3125 L 2.453125 -5.71875 C 2.410156 -5.726562 2.351562 -5.738281 2.28125 -5.75 C 2.21875 -5.757812 2.160156 -5.765625 2.109375 -5.765625 C 1.992188 -5.765625 1.898438 -5.75 1.828125 -5.71875 C 1.753906 -5.6875 1.695312 -5.640625 1.65625 -5.578125 C 1.613281 -5.515625 1.582031 -5.441406 1.5625 -5.359375 C 1.550781 -5.273438 1.546875 -5.175781 1.546875 -5.0625 L 1.546875 -4.640625 L 2.453125 -4.640625 L 2.453125 -4.078125 Z M 1.546875 -4.078125 \"/>\n",
       "</symbol>\n",
       "<symbol overflow=\"visible\" id=\"glyph1-0\">\n",
       "<path style=\"stroke:none;\" d=\"M 0.359375 0 L 0.359375 -7.328125 L 3.28125 -7.328125 L 3.28125 0 Z M 0.734375 -0.359375 L 2.921875 -0.359375 L 2.921875 -6.96875 L 0.734375 -6.96875 Z M 0.734375 -0.359375 \"/>\n",
       "</symbol>\n",
       "<symbol overflow=\"visible\" id=\"glyph1-1\">\n",
       "<path style=\"stroke:none;\" d=\"M 5.8125 0 L 1.765625 -6.453125 C 1.765625 -6.273438 1.769531 -6.097656 1.78125 -5.921875 C 1.789062 -5.773438 1.796875 -5.617188 1.796875 -5.453125 C 1.804688 -5.296875 1.8125 -5.15625 1.8125 -5.03125 L 1.8125 0 L 0.90625 0 L 0.90625 -7.5625 L 2.09375 -7.5625 L 6.1875 -1.078125 C 6.175781 -1.253906 6.164062 -1.429688 6.15625 -1.609375 C 6.144531 -1.753906 6.132812 -1.914062 6.125 -2.09375 C 6.125 -2.269531 6.125 -2.441406 6.125 -2.609375 L 6.125 -7.5625 L 7.046875 -7.5625 L 7.046875 0 Z M 5.8125 0 \"/>\n",
       "</symbol>\n",
       "<symbol overflow=\"visible\" id=\"glyph1-2\">\n",
       "<path style=\"stroke:none;\" d=\"M 1.484375 -2.703125 C 1.484375 -2.398438 1.515625 -2.117188 1.578125 -1.859375 C 1.640625 -1.609375 1.734375 -1.390625 1.859375 -1.203125 C 1.992188 -1.015625 2.160156 -0.867188 2.359375 -0.765625 C 2.566406 -0.671875 2.816406 -0.625 3.109375 -0.625 C 3.523438 -0.625 3.859375 -0.707031 4.109375 -0.875 C 4.359375 -1.039062 4.53125 -1.253906 4.625 -1.515625 L 5.46875 -1.265625 C 5.40625 -1.109375 5.316406 -0.945312 5.203125 -0.78125 C 5.097656 -0.613281 4.953125 -0.460938 4.765625 -0.328125 C 4.585938 -0.203125 4.363281 -0.0976562 4.09375 -0.015625 C 3.820312 0.0664062 3.492188 0.109375 3.109375 0.109375 C 2.242188 0.109375 1.585938 -0.144531 1.140625 -0.65625 C 0.691406 -1.164062 0.46875 -1.925781 0.46875 -2.9375 C 0.46875 -3.488281 0.535156 -3.953125 0.671875 -4.328125 C 0.804688 -4.703125 0.988281 -5.007812 1.21875 -5.25 C 1.457031 -5.488281 1.734375 -5.660156 2.046875 -5.765625 C 2.367188 -5.867188 2.707031 -5.921875 3.0625 -5.921875 C 3.550781 -5.921875 3.957031 -5.84375 4.28125 -5.6875 C 4.613281 -5.53125 4.878906 -5.3125 5.078125 -5.03125 C 5.273438 -4.75 5.414062 -4.421875 5.5 -4.046875 C 5.582031 -3.671875 5.625 -3.265625 5.625 -2.828125 L 5.625 -2.703125 Z M 4.625 -3.4375 C 4.570312 -4.050781 4.414062 -4.5 4.15625 -4.78125 C 3.90625 -5.0625 3.535156 -5.203125 3.046875 -5.203125 C 2.890625 -5.203125 2.722656 -5.175781 2.546875 -5.125 C 2.367188 -5.070312 2.203125 -4.976562 2.046875 -4.84375 C 1.898438 -4.71875 1.773438 -4.539062 1.671875 -4.3125 C 1.566406 -4.082031 1.507812 -3.789062 1.5 -3.4375 Z M 4.625 -3.4375 \"/>\n",
       "</symbol>\n",
       "<symbol overflow=\"visible\" id=\"glyph1-3\">\n",
       "<path style=\"stroke:none;\" d=\"M 0.734375 -7.046875 L 0.734375 -7.96875 L 1.703125 -7.96875 L 1.703125 -7.046875 Z M 0.734375 0 L 0.734375 -5.8125 L 1.703125 -5.8125 L 1.703125 0 Z M 0.734375 0 \"/>\n",
       "</symbol>\n",
       "<symbol overflow=\"visible\" id=\"glyph1-4\">\n",
       "<path style=\"stroke:none;\" d=\"M 2.9375 2.28125 C 2.601562 2.28125 2.304688 2.242188 2.046875 2.171875 C 1.796875 2.109375 1.578125 2.015625 1.390625 1.890625 C 1.210938 1.765625 1.066406 1.613281 0.953125 1.4375 C 0.835938 1.257812 0.753906 1.0625 0.703125 0.84375 L 1.671875 0.703125 C 1.734375 0.972656 1.875 1.179688 2.09375 1.328125 C 2.320312 1.472656 2.613281 1.546875 2.96875 1.546875 C 3.1875 1.546875 3.382812 1.515625 3.5625 1.453125 C 3.738281 1.390625 3.890625 1.289062 4.015625 1.15625 C 4.148438 1.03125 4.25 0.859375 4.3125 0.640625 C 4.382812 0.421875 4.421875 0.160156 4.421875 -0.140625 L 4.421875 -1.078125 L 4.40625 -1.078125 C 4.332031 -0.929688 4.242188 -0.789062 4.140625 -0.65625 C 4.035156 -0.519531 3.90625 -0.398438 3.75 -0.296875 C 3.601562 -0.191406 3.425781 -0.109375 3.21875 -0.046875 C 3.019531 0.015625 2.789062 0.046875 2.53125 0.046875 C 2.164062 0.046875 1.847656 -0.015625 1.578125 -0.140625 C 1.316406 -0.265625 1.101562 -0.445312 0.9375 -0.6875 C 0.769531 -0.9375 0.648438 -1.242188 0.578125 -1.609375 C 0.503906 -1.984375 0.46875 -2.410156 0.46875 -2.890625 C 0.46875 -3.359375 0.503906 -3.773438 0.578125 -4.140625 C 0.648438 -4.515625 0.773438 -4.832031 0.953125 -5.09375 C 1.128906 -5.351562 1.351562 -5.550781 1.625 -5.6875 C 1.90625 -5.832031 2.242188 -5.90625 2.640625 -5.90625 C 3.054688 -5.90625 3.414062 -5.8125 3.71875 -5.625 C 4.019531 -5.4375 4.253906 -5.164062 4.421875 -4.8125 C 4.421875 -4.90625 4.421875 -5.003906 4.421875 -5.109375 C 4.429688 -5.222656 4.4375 -5.328125 4.4375 -5.421875 C 4.445312 -5.523438 4.457031 -5.613281 4.46875 -5.6875 C 4.476562 -5.757812 4.484375 -5.800781 4.484375 -5.8125 L 5.40625 -5.8125 C 5.40625 -5.78125 5.398438 -5.722656 5.390625 -5.640625 C 5.390625 -5.566406 5.382812 -5.472656 5.375 -5.359375 C 5.375 -5.253906 5.375 -5.132812 5.375 -5 C 5.375 -4.875 5.375 -4.742188 5.375 -4.609375 L 5.375 -0.171875 C 5.375 0.640625 5.171875 1.25 4.765625 1.65625 C 4.367188 2.070312 3.757812 2.28125 2.9375 2.28125 Z M 4.421875 -2.90625 C 4.421875 -3.3125 4.375 -3.65625 4.28125 -3.9375 C 4.195312 -4.226562 4.082031 -4.460938 3.9375 -4.640625 C 3.789062 -4.828125 3.625 -4.960938 3.4375 -5.046875 C 3.257812 -5.140625 3.070312 -5.1875 2.875 -5.1875 C 2.632812 -5.1875 2.425781 -5.140625 2.25 -5.046875 C 2.070312 -4.960938 1.921875 -4.828125 1.796875 -4.640625 C 1.679688 -4.460938 1.597656 -4.226562 1.546875 -3.9375 C 1.492188 -3.644531 1.46875 -3.300781 1.46875 -2.90625 C 1.46875 -2.488281 1.492188 -2.132812 1.546875 -1.84375 C 1.597656 -1.5625 1.679688 -1.332031 1.796875 -1.15625 C 1.910156 -0.976562 2.054688 -0.851562 2.234375 -0.78125 C 2.410156 -0.707031 2.617188 -0.671875 2.859375 -0.671875 C 3.054688 -0.671875 3.242188 -0.710938 3.421875 -0.796875 C 3.609375 -0.878906 3.773438 -1.007812 3.921875 -1.1875 C 4.066406 -1.363281 4.1875 -1.59375 4.28125 -1.875 C 4.375 -2.15625 4.421875 -2.5 4.421875 -2.90625 Z M 4.421875 -2.90625 \"/>\n",
       "</symbol>\n",
       "<symbol overflow=\"visible\" id=\"glyph1-5\">\n",
       "<path style=\"stroke:none;\" d=\"M 1.703125 -4.8125 C 1.804688 -5.007812 1.921875 -5.175781 2.046875 -5.3125 C 2.171875 -5.457031 2.304688 -5.570312 2.453125 -5.65625 C 2.609375 -5.75 2.773438 -5.816406 2.953125 -5.859375 C 3.140625 -5.898438 3.34375 -5.921875 3.5625 -5.921875 C 3.9375 -5.921875 4.238281 -5.867188 4.46875 -5.765625 C 4.707031 -5.671875 4.894531 -5.53125 5.03125 -5.34375 C 5.175781 -5.164062 5.273438 -4.953125 5.328125 -4.703125 C 5.378906 -4.453125 5.40625 -4.175781 5.40625 -3.875 L 5.40625 0 L 4.4375 0 L 4.4375 -3.6875 C 4.4375 -3.9375 4.421875 -4.148438 4.390625 -4.328125 C 4.359375 -4.515625 4.296875 -4.671875 4.203125 -4.796875 C 4.117188 -4.921875 4 -5.015625 3.84375 -5.078125 C 3.6875 -5.140625 3.484375 -5.171875 3.234375 -5.171875 C 3.003906 -5.171875 2.796875 -5.128906 2.609375 -5.046875 C 2.429688 -4.960938 2.273438 -4.84375 2.140625 -4.6875 C 2.003906 -4.539062 1.898438 -4.359375 1.828125 -4.140625 C 1.765625 -3.929688 1.734375 -3.691406 1.734375 -3.421875 L 1.734375 0 L 0.765625 0 L 0.765625 -7.96875 L 1.734375 -7.96875 L 1.734375 -5.890625 C 1.734375 -5.773438 1.726562 -5.65625 1.71875 -5.53125 C 1.71875 -5.414062 1.710938 -5.304688 1.703125 -5.203125 C 1.703125 -5.109375 1.695312 -5.023438 1.6875 -4.953125 C 1.6875 -4.890625 1.6875 -4.84375 1.6875 -4.8125 Z M 1.703125 -4.8125 \"/>\n",
       "</symbol>\n",
       "<symbol overflow=\"visible\" id=\"glyph1-6\">\n",
       "<path style=\"stroke:none;\" d=\"M 5.65625 -2.9375 C 5.65625 -0.90625 4.941406 0.109375 3.515625 0.109375 C 3.078125 0.109375 2.710938 0.03125 2.421875 -0.125 C 2.128906 -0.289062 1.890625 -0.550781 1.703125 -0.90625 C 1.703125 -0.8125 1.695312 -0.710938 1.6875 -0.609375 C 1.6875 -0.515625 1.679688 -0.421875 1.671875 -0.328125 C 1.671875 -0.242188 1.664062 -0.171875 1.65625 -0.109375 C 1.65625 -0.046875 1.648438 -0.0078125 1.640625 0 L 0.703125 0 C 0.710938 -0.03125 0.71875 -0.0820312 0.71875 -0.15625 C 0.71875 -0.238281 0.71875 -0.332031 0.71875 -0.4375 C 0.726562 -0.550781 0.734375 -0.671875 0.734375 -0.796875 C 0.734375 -0.921875 0.734375 -1.054688 0.734375 -1.203125 L 0.734375 -7.96875 L 1.703125 -7.96875 L 1.703125 -5.703125 C 1.703125 -5.585938 1.703125 -5.484375 1.703125 -5.390625 C 1.703125 -5.296875 1.703125 -5.207031 1.703125 -5.125 C 1.691406 -5.039062 1.6875 -4.957031 1.6875 -4.875 L 1.703125 -4.875 C 1.890625 -5.25 2.128906 -5.515625 2.421875 -5.671875 C 2.710938 -5.835938 3.078125 -5.921875 3.515625 -5.921875 C 4.253906 -5.921875 4.796875 -5.671875 5.140625 -5.171875 C 5.484375 -4.679688 5.65625 -3.9375 5.65625 -2.9375 Z M 4.640625 -2.90625 C 4.640625 -3.300781 4.613281 -3.640625 4.5625 -3.921875 C 4.507812 -4.210938 4.425781 -4.453125 4.3125 -4.640625 C 4.207031 -4.828125 4.066406 -4.960938 3.890625 -5.046875 C 3.722656 -5.128906 3.515625 -5.171875 3.265625 -5.171875 C 3.015625 -5.171875 2.789062 -5.128906 2.59375 -5.046875 C 2.394531 -4.960938 2.226562 -4.828125 2.09375 -4.640625 C 1.96875 -4.460938 1.867188 -4.222656 1.796875 -3.921875 C 1.734375 -3.628906 1.703125 -3.269531 1.703125 -2.84375 C 1.703125 -2.425781 1.734375 -2.078125 1.796875 -1.796875 C 1.867188 -1.515625 1.96875 -1.285156 2.09375 -1.109375 C 2.226562 -0.929688 2.394531 -0.800781 2.59375 -0.71875 C 2.789062 -0.644531 3.015625 -0.609375 3.265625 -0.609375 C 3.492188 -0.609375 3.691406 -0.648438 3.859375 -0.734375 C 4.035156 -0.816406 4.179688 -0.945312 4.296875 -1.125 C 4.410156 -1.3125 4.492188 -1.550781 4.546875 -1.84375 C 4.609375 -2.132812 4.640625 -2.488281 4.640625 -2.90625 Z M 4.640625 -2.90625 \"/>\n",
       "</symbol>\n",
       "<symbol overflow=\"visible\" id=\"glyph1-7\">\n",
       "<path style=\"stroke:none;\" d=\"M 5.65625 -2.90625 C 5.65625 -1.894531 5.429688 -1.140625 4.984375 -0.640625 C 4.535156 -0.140625 3.882812 0.109375 3.03125 0.109375 C 2.625 0.109375 2.257812 0.046875 1.9375 -0.078125 C 1.625 -0.203125 1.359375 -0.390625 1.140625 -0.640625 C 0.921875 -0.890625 0.753906 -1.203125 0.640625 -1.578125 C 0.523438 -1.953125 0.46875 -2.394531 0.46875 -2.90625 C 0.46875 -4.914062 1.332031 -5.921875 3.0625 -5.921875 C 3.519531 -5.921875 3.910156 -5.859375 4.234375 -5.734375 C 4.566406 -5.609375 4.835938 -5.421875 5.046875 -5.171875 C 5.253906 -4.921875 5.40625 -4.601562 5.5 -4.21875 C 5.601562 -3.84375 5.65625 -3.40625 5.65625 -2.90625 Z M 4.640625 -2.90625 C 4.640625 -3.363281 4.601562 -3.738281 4.53125 -4.03125 C 4.46875 -4.320312 4.367188 -4.554688 4.234375 -4.734375 C 4.097656 -4.910156 3.929688 -5.03125 3.734375 -5.09375 C 3.546875 -5.164062 3.328125 -5.203125 3.078125 -5.203125 C 2.835938 -5.203125 2.613281 -5.164062 2.40625 -5.09375 C 2.207031 -5.019531 2.039062 -4.894531 1.90625 -4.71875 C 1.769531 -4.539062 1.664062 -4.304688 1.59375 -4.015625 C 1.519531 -3.722656 1.484375 -3.351562 1.484375 -2.90625 C 1.484375 -2.457031 1.519531 -2.082031 1.59375 -1.78125 C 1.675781 -1.488281 1.785156 -1.253906 1.921875 -1.078125 C 2.054688 -0.910156 2.21875 -0.789062 2.40625 -0.71875 C 2.59375 -0.644531 2.800781 -0.609375 3.03125 -0.609375 C 3.269531 -0.609375 3.488281 -0.640625 3.6875 -0.703125 C 3.894531 -0.773438 4.066406 -0.898438 4.203125 -1.078125 C 4.347656 -1.253906 4.457031 -1.488281 4.53125 -1.78125 C 4.601562 -2.082031 4.640625 -2.457031 4.640625 -2.90625 Z M 4.640625 -2.90625 \"/>\n",
       "</symbol>\n",
       "<symbol overflow=\"visible\" id=\"glyph1-8\">\n",
       "<path style=\"stroke:none;\" d=\"M 1.6875 -5.8125 L 1.6875 -2.125 C 1.6875 -1.84375 1.707031 -1.609375 1.75 -1.421875 C 1.789062 -1.234375 1.859375 -1.078125 1.953125 -0.953125 C 2.046875 -0.835938 2.164062 -0.753906 2.3125 -0.703125 C 2.46875 -0.660156 2.660156 -0.640625 2.890625 -0.640625 C 3.117188 -0.640625 3.320312 -0.675781 3.5 -0.75 C 3.6875 -0.832031 3.84375 -0.953125 3.96875 -1.109375 C 4.101562 -1.265625 4.207031 -1.453125 4.28125 -1.671875 C 4.351562 -1.898438 4.390625 -2.15625 4.390625 -2.4375 L 4.390625 -5.8125 L 5.359375 -5.8125 L 5.359375 -1.234375 C 5.359375 -1.117188 5.359375 -0.992188 5.359375 -0.859375 C 5.359375 -0.722656 5.359375 -0.59375 5.359375 -0.46875 C 5.367188 -0.351562 5.375 -0.25 5.375 -0.15625 C 5.375 -0.0703125 5.378906 -0.0195312 5.390625 0 L 4.46875 0 C 4.46875 -0.0195312 4.460938 -0.0664062 4.453125 -0.140625 C 4.453125 -0.222656 4.445312 -0.3125 4.4375 -0.40625 C 4.4375 -0.507812 4.4375 -0.613281 4.4375 -0.71875 C 4.4375 -0.832031 4.4375 -0.925781 4.4375 -1 L 4.421875 -1 C 4.328125 -0.820312 4.222656 -0.664062 4.109375 -0.53125 C 3.992188 -0.394531 3.863281 -0.28125 3.71875 -0.1875 C 3.570312 -0.09375 3.40625 -0.0195312 3.21875 0.03125 C 3.03125 0.0820312 2.8125 0.109375 2.5625 0.109375 C 2.238281 0.109375 1.957031 0.0703125 1.71875 0 C 1.488281 -0.0820312 1.296875 -0.207031 1.140625 -0.375 C 0.992188 -0.539062 0.882812 -0.75 0.8125 -1 C 0.75 -1.257812 0.71875 -1.570312 0.71875 -1.9375 L 0.71875 -5.8125 Z M 1.6875 -5.8125 \"/>\n",
       "</symbol>\n",
       "<symbol overflow=\"visible\" id=\"glyph1-9\">\n",
       "<path style=\"stroke:none;\" d=\"M 0.765625 0 L 0.765625 -4.453125 C 0.765625 -4.578125 0.757812 -4.703125 0.75 -4.828125 C 0.75 -4.953125 0.75 -5.070312 0.75 -5.1875 C 0.75 -5.3125 0.742188 -5.425781 0.734375 -5.53125 C 0.734375 -5.632812 0.734375 -5.726562 0.734375 -5.8125 L 1.640625 -5.8125 C 1.648438 -5.726562 1.65625 -5.632812 1.65625 -5.53125 C 1.664062 -5.425781 1.671875 -5.316406 1.671875 -5.203125 C 1.679688 -5.085938 1.6875 -4.976562 1.6875 -4.875 C 1.6875 -4.78125 1.6875 -4.695312 1.6875 -4.625 L 1.703125 -4.625 C 1.773438 -4.84375 1.847656 -5.035156 1.921875 -5.203125 C 2.003906 -5.367188 2.097656 -5.503906 2.203125 -5.609375 C 2.304688 -5.710938 2.425781 -5.789062 2.5625 -5.84375 C 2.707031 -5.894531 2.882812 -5.921875 3.09375 -5.921875 C 3.164062 -5.921875 3.238281 -5.910156 3.3125 -5.890625 C 3.382812 -5.878906 3.441406 -5.867188 3.484375 -5.859375 L 3.484375 -4.984375 C 3.421875 -4.992188 3.34375 -5.003906 3.25 -5.015625 C 3.164062 -5.023438 3.070312 -5.03125 2.96875 -5.03125 C 2.738281 -5.03125 2.546875 -4.976562 2.390625 -4.875 C 2.242188 -4.78125 2.117188 -4.644531 2.015625 -4.46875 C 1.921875 -4.289062 1.847656 -4.078125 1.796875 -3.828125 C 1.753906 -3.585938 1.734375 -3.320312 1.734375 -3.03125 L 1.734375 0 Z M 0.765625 0 \"/>\n",
       "</symbol>\n",
       "<symbol overflow=\"visible\" id=\"glyph1-10\">\n",
       "<path style=\"stroke:none;\" d=\"M 4.40625 -0.9375 C 4.226562 -0.5625 3.988281 -0.289062 3.6875 -0.125 C 3.394531 0.03125 3.03125 0.109375 2.59375 0.109375 C 1.863281 0.109375 1.328125 -0.132812 0.984375 -0.625 C 0.640625 -1.125 0.46875 -1.875 0.46875 -2.875 C 0.46875 -4.90625 1.175781 -5.921875 2.59375 -5.921875 C 3.039062 -5.921875 3.410156 -5.835938 3.703125 -5.671875 C 3.992188 -5.515625 4.226562 -5.257812 4.40625 -4.90625 L 4.421875 -4.90625 C 4.421875 -4.945312 4.421875 -5.003906 4.421875 -5.078125 C 4.421875 -5.148438 4.414062 -5.226562 4.40625 -5.3125 C 4.40625 -5.40625 4.40625 -5.488281 4.40625 -5.5625 C 4.40625 -5.632812 4.40625 -5.6875 4.40625 -5.71875 L 4.40625 -7.96875 L 5.375 -7.96875 L 5.375 -1.203125 C 5.375 -1.054688 5.375 -0.921875 5.375 -0.796875 C 5.375 -0.671875 5.375 -0.550781 5.375 -0.4375 C 5.382812 -0.332031 5.390625 -0.238281 5.390625 -0.15625 C 5.398438 -0.0820312 5.40625 -0.03125 5.40625 0 L 4.484375 0 C 4.472656 -0.03125 4.460938 -0.078125 4.453125 -0.140625 C 4.453125 -0.210938 4.445312 -0.289062 4.4375 -0.375 C 4.4375 -0.46875 4.4375 -0.5625 4.4375 -0.65625 C 4.4375 -0.75 4.4375 -0.84375 4.4375 -0.9375 Z M 1.484375 -2.90625 C 1.484375 -2.507812 1.503906 -2.164062 1.546875 -1.875 C 1.597656 -1.59375 1.675781 -1.359375 1.78125 -1.171875 C 1.894531 -0.984375 2.035156 -0.847656 2.203125 -0.765625 C 2.378906 -0.679688 2.59375 -0.640625 2.84375 -0.640625 C 3.101562 -0.640625 3.328125 -0.679688 3.515625 -0.765625 C 3.710938 -0.847656 3.875 -0.976562 4 -1.15625 C 4.132812 -1.34375 4.234375 -1.582031 4.296875 -1.875 C 4.367188 -2.175781 4.40625 -2.539062 4.40625 -2.96875 C 4.40625 -3.382812 4.367188 -3.734375 4.296875 -4.015625 C 4.234375 -4.304688 4.132812 -4.535156 4 -4.703125 C 3.875 -4.878906 3.710938 -5.003906 3.515625 -5.078125 C 3.328125 -5.160156 3.109375 -5.203125 2.859375 -5.203125 C 2.617188 -5.203125 2.410156 -5.160156 2.234375 -5.078125 C 2.066406 -4.992188 1.925781 -4.859375 1.8125 -4.671875 C 1.695312 -4.492188 1.613281 -4.257812 1.5625 -3.96875 C 1.507812 -3.675781 1.484375 -3.320312 1.484375 -2.90625 Z M 1.484375 -2.90625 \"/>\n",
       "</symbol>\n",
       "<symbol overflow=\"visible\" id=\"glyph1-11\">\n",
       "<path style=\"stroke:none;\" d=\"M 3.875 -6.734375 L 3.875 0 L 2.84375 0 L 2.84375 -6.734375 L 0.25 -6.734375 L 0.25 -7.5625 L 6.46875 -7.5625 L 6.46875 -6.734375 Z M 3.875 -6.734375 \"/>\n",
       "</symbol>\n",
       "<symbol overflow=\"visible\" id=\"glyph1-12\">\n",
       "<path style=\"stroke:none;\" d=\"M 3.25 0 C 3.113281 0.351562 2.972656 0.671875 2.828125 0.953125 C 2.679688 1.234375 2.519531 1.472656 2.34375 1.671875 C 2.175781 1.867188 1.984375 2.019531 1.765625 2.125 C 1.546875 2.226562 1.300781 2.28125 1.03125 2.28125 C 0.90625 2.28125 0.789062 2.273438 0.6875 2.265625 C 0.582031 2.265625 0.472656 2.25 0.359375 2.21875 L 0.359375 1.5 C 0.429688 1.507812 0.507812 1.515625 0.59375 1.515625 C 0.675781 1.523438 0.75 1.53125 0.8125 1.53125 C 1.09375 1.53125 1.351562 1.421875 1.59375 1.203125 C 1.84375 0.992188 2.054688 0.660156 2.234375 0.203125 L 2.328125 -0.03125 L 0.03125 -5.8125 L 1.0625 -5.8125 L 2.28125 -2.59375 C 2.320312 -2.5 2.367188 -2.367188 2.421875 -2.203125 C 2.472656 -2.046875 2.523438 -1.882812 2.578125 -1.71875 C 2.640625 -1.5625 2.691406 -1.414062 2.734375 -1.28125 C 2.773438 -1.15625 2.800781 -1.078125 2.8125 -1.046875 C 2.820312 -1.085938 2.847656 -1.164062 2.890625 -1.28125 C 2.929688 -1.40625 2.976562 -1.535156 3.03125 -1.671875 C 3.082031 -1.816406 3.132812 -1.960938 3.1875 -2.109375 C 3.238281 -2.253906 3.28125 -2.382812 3.3125 -2.5 L 4.453125 -5.8125 L 5.484375 -5.8125 Z M 3.25 0 \"/>\n",
       "</symbol>\n",
       "<symbol overflow=\"visible\" id=\"glyph1-13\">\n",
       "<path style=\"stroke:none;\" d=\"M 5.65625 -2.9375 C 5.65625 -2.488281 5.617188 -2.078125 5.546875 -1.703125 C 5.472656 -1.335938 5.351562 -1.019531 5.1875 -0.75 C 5.019531 -0.476562 4.800781 -0.265625 4.53125 -0.109375 C 4.257812 0.0351562 3.921875 0.109375 3.515625 0.109375 C 3.097656 0.109375 2.734375 0.03125 2.421875 -0.125 C 2.109375 -0.28125 1.875 -0.539062 1.71875 -0.90625 L 1.6875 -0.90625 C 1.6875 -0.894531 1.6875 -0.859375 1.6875 -0.796875 C 1.695312 -0.742188 1.703125 -0.675781 1.703125 -0.59375 C 1.703125 -0.507812 1.703125 -0.410156 1.703125 -0.296875 C 1.703125 -0.191406 1.703125 -0.0859375 1.703125 0.015625 L 1.703125 2.28125 L 0.734375 2.28125 L 0.734375 -4.625 C 0.734375 -4.757812 0.734375 -4.890625 0.734375 -5.015625 C 0.734375 -5.148438 0.726562 -5.269531 0.71875 -5.375 C 0.71875 -5.476562 0.71875 -5.566406 0.71875 -5.640625 C 0.71875 -5.722656 0.710938 -5.78125 0.703125 -5.8125 L 1.640625 -5.8125 C 1.648438 -5.800781 1.65625 -5.765625 1.65625 -5.703125 C 1.664062 -5.640625 1.671875 -5.5625 1.671875 -5.46875 C 1.679688 -5.375 1.6875 -5.273438 1.6875 -5.171875 C 1.695312 -5.066406 1.703125 -4.96875 1.703125 -4.875 L 1.71875 -4.875 C 1.8125 -5.0625 1.914062 -5.21875 2.03125 -5.34375 C 2.144531 -5.476562 2.273438 -5.585938 2.421875 -5.671875 C 2.566406 -5.753906 2.726562 -5.8125 2.90625 -5.84375 C 3.09375 -5.882812 3.296875 -5.90625 3.515625 -5.90625 C 3.921875 -5.90625 4.257812 -5.832031 4.53125 -5.6875 C 4.800781 -5.550781 5.019531 -5.351562 5.1875 -5.09375 C 5.351562 -4.832031 5.472656 -4.519531 5.546875 -4.15625 C 5.617188 -3.789062 5.65625 -3.382812 5.65625 -2.9375 Z M 4.640625 -2.90625 C 4.640625 -3.269531 4.617188 -3.585938 4.578125 -3.859375 C 4.535156 -4.140625 4.457031 -4.375 4.34375 -4.5625 C 4.238281 -4.757812 4.097656 -4.910156 3.921875 -5.015625 C 3.753906 -5.117188 3.535156 -5.171875 3.265625 -5.171875 C 3.054688 -5.171875 2.851562 -5.140625 2.65625 -5.078125 C 2.46875 -5.015625 2.300781 -4.894531 2.15625 -4.71875 C 2.019531 -4.550781 1.910156 -4.316406 1.828125 -4.015625 C 1.742188 -3.710938 1.703125 -3.320312 1.703125 -2.84375 C 1.703125 -2.425781 1.734375 -2.070312 1.796875 -1.78125 C 1.867188 -1.5 1.96875 -1.269531 2.09375 -1.09375 C 2.226562 -0.925781 2.394531 -0.800781 2.59375 -0.71875 C 2.789062 -0.644531 3.015625 -0.609375 3.265625 -0.609375 C 3.523438 -0.609375 3.742188 -0.660156 3.921875 -0.765625 C 4.097656 -0.867188 4.238281 -1.019531 4.34375 -1.21875 C 4.457031 -1.414062 4.535156 -1.65625 4.578125 -1.9375 C 4.617188 -2.21875 4.640625 -2.539062 4.640625 -2.90625 Z M 4.640625 -2.90625 \"/>\n",
       "</symbol>\n",
       "<symbol overflow=\"visible\" id=\"glyph1-14\">\n",
       "<path style=\"stroke:none;\" d=\"\"/>\n",
       "</symbol>\n",
       "<symbol overflow=\"visible\" id=\"glyph1-15\">\n",
       "<path style=\"stroke:none;\" d=\"M 1.9375 -5.109375 L 1.9375 0 L 0.96875 0 L 0.96875 -5.109375 L 0.15625 -5.109375 L 0.15625 -5.8125 L 0.96875 -5.8125 L 0.96875 -6.46875 C 0.96875 -6.675781 0.988281 -6.867188 1.03125 -7.046875 C 1.070312 -7.234375 1.144531 -7.394531 1.25 -7.53125 C 1.351562 -7.664062 1.492188 -7.769531 1.671875 -7.84375 C 1.859375 -7.914062 2.097656 -7.953125 2.390625 -7.953125 C 2.503906 -7.953125 2.625 -7.945312 2.75 -7.9375 C 2.875 -7.925781 2.984375 -7.910156 3.078125 -7.890625 L 3.078125 -7.15625 C 3.015625 -7.164062 2.941406 -7.175781 2.859375 -7.1875 C 2.773438 -7.195312 2.703125 -7.203125 2.640625 -7.203125 C 2.492188 -7.203125 2.375 -7.179688 2.28125 -7.140625 C 2.195312 -7.097656 2.128906 -7.039062 2.078125 -6.96875 C 2.023438 -6.894531 1.988281 -6.804688 1.96875 -6.703125 C 1.945312 -6.597656 1.9375 -6.472656 1.9375 -6.328125 L 1.9375 -5.8125 L 3.078125 -5.8125 L 3.078125 -5.109375 Z M 1.9375 -5.109375 \"/>\n",
       "</symbol>\n",
       "<symbol overflow=\"visible\" id=\"glyph1-16\">\n",
       "<path style=\"stroke:none;\" d=\"M 4.25 -6.84375 C 3.820312 -6.84375 3.441406 -6.769531 3.109375 -6.625 C 2.773438 -6.476562 2.492188 -6.273438 2.265625 -6.015625 C 2.046875 -5.753906 1.878906 -5.4375 1.765625 -5.0625 C 1.648438 -4.6875 1.59375 -4.269531 1.59375 -3.8125 C 1.59375 -3.363281 1.65625 -2.945312 1.78125 -2.5625 C 1.90625 -2.1875 2.082031 -1.863281 2.3125 -1.59375 C 2.550781 -1.320312 2.835938 -1.109375 3.171875 -0.953125 C 3.503906 -0.804688 3.878906 -0.734375 4.296875 -0.734375 C 4.585938 -0.734375 4.851562 -0.769531 5.09375 -0.84375 C 5.34375 -0.925781 5.5625 -1.035156 5.75 -1.171875 C 5.945312 -1.316406 6.125 -1.484375 6.28125 -1.671875 C 6.4375 -1.859375 6.570312 -2.070312 6.6875 -2.3125 L 7.53125 -1.890625 C 7.394531 -1.609375 7.222656 -1.34375 7.015625 -1.09375 C 6.816406 -0.851562 6.582031 -0.644531 6.3125 -0.46875 C 6.039062 -0.289062 5.734375 -0.148438 5.390625 -0.046875 C 5.046875 0.0546875 4.664062 0.109375 4.25 0.109375 C 3.632812 0.109375 3.097656 0.0078125 2.640625 -0.1875 C 2.179688 -0.382812 1.796875 -0.65625 1.484375 -1 C 1.171875 -1.351562 0.9375 -1.769531 0.78125 -2.25 C 0.632812 -2.726562 0.5625 -3.25 0.5625 -3.8125 C 0.5625 -4.40625 0.640625 -4.941406 0.796875 -5.421875 C 0.960938 -5.898438 1.203125 -6.304688 1.515625 -6.640625 C 1.828125 -6.972656 2.210938 -7.226562 2.671875 -7.40625 C 3.128906 -7.59375 3.65625 -7.6875 4.25 -7.6875 C 5.050781 -7.6875 5.722656 -7.523438 6.265625 -7.203125 C 6.804688 -6.890625 7.203125 -6.425781 7.453125 -5.8125 L 6.484375 -5.484375 C 6.410156 -5.660156 6.3125 -5.828125 6.1875 -5.984375 C 6.070312 -6.148438 5.921875 -6.296875 5.734375 -6.421875 C 5.554688 -6.554688 5.34375 -6.660156 5.09375 -6.734375 C 4.851562 -6.804688 4.570312 -6.84375 4.25 -6.84375 Z M 4.25 -6.84375 \"/>\n",
       "</symbol>\n",
       "<symbol overflow=\"visible\" id=\"glyph1-17\">\n",
       "<path style=\"stroke:none;\" d=\"M 4.125 0 L 4.125 -3.6875 C 4.125 -3.96875 4.101562 -4.203125 4.0625 -4.390625 C 4.03125 -4.578125 3.972656 -4.726562 3.890625 -4.84375 C 3.804688 -4.96875 3.695312 -5.050781 3.5625 -5.09375 C 3.425781 -5.144531 3.257812 -5.171875 3.0625 -5.171875 C 2.851562 -5.171875 2.664062 -5.128906 2.5 -5.046875 C 2.34375 -4.972656 2.203125 -4.859375 2.078125 -4.703125 C 1.960938 -4.546875 1.875 -4.351562 1.8125 -4.125 C 1.75 -3.90625 1.71875 -3.65625 1.71875 -3.375 L 1.71875 0 L 0.765625 0 L 0.765625 -4.578125 C 0.765625 -4.691406 0.757812 -4.816406 0.75 -4.953125 C 0.75 -5.085938 0.75 -5.210938 0.75 -5.328125 C 0.75 -5.453125 0.742188 -5.554688 0.734375 -5.640625 C 0.734375 -5.734375 0.734375 -5.789062 0.734375 -5.8125 L 1.640625 -5.8125 C 1.648438 -5.789062 1.65625 -5.738281 1.65625 -5.65625 C 1.65625 -5.582031 1.65625 -5.492188 1.65625 -5.390625 C 1.664062 -5.296875 1.671875 -5.191406 1.671875 -5.078125 C 1.679688 -4.972656 1.6875 -4.882812 1.6875 -4.8125 L 1.703125 -4.8125 C 1.785156 -4.988281 1.875 -5.144531 1.96875 -5.28125 C 2.070312 -5.414062 2.191406 -5.53125 2.328125 -5.625 C 2.460938 -5.71875 2.617188 -5.789062 2.796875 -5.84375 C 2.972656 -5.894531 3.175781 -5.921875 3.40625 -5.921875 C 3.84375 -5.921875 4.1875 -5.832031 4.4375 -5.65625 C 4.695312 -5.476562 4.878906 -5.195312 4.984375 -4.8125 L 5 -4.8125 C 5.082031 -4.988281 5.175781 -5.144531 5.28125 -5.28125 C 5.394531 -5.414062 5.519531 -5.53125 5.65625 -5.625 C 5.800781 -5.71875 5.960938 -5.789062 6.140625 -5.84375 C 6.316406 -5.894531 6.519531 -5.921875 6.75 -5.921875 C 7.050781 -5.921875 7.304688 -5.878906 7.515625 -5.796875 C 7.734375 -5.722656 7.910156 -5.601562 8.046875 -5.4375 C 8.179688 -5.269531 8.28125 -5.054688 8.34375 -4.796875 C 8.40625 -4.535156 8.4375 -4.226562 8.4375 -3.875 L 8.4375 0 L 7.484375 0 L 7.484375 -3.6875 C 7.484375 -3.96875 7.460938 -4.203125 7.421875 -4.390625 C 7.390625 -4.578125 7.332031 -4.726562 7.25 -4.84375 C 7.164062 -4.96875 7.054688 -5.050781 6.921875 -5.09375 C 6.785156 -5.144531 6.617188 -5.171875 6.421875 -5.171875 C 6.210938 -5.171875 6.023438 -5.128906 5.859375 -5.046875 C 5.703125 -4.972656 5.5625 -4.859375 5.4375 -4.703125 C 5.320312 -4.554688 5.234375 -4.367188 5.171875 -4.140625 C 5.109375 -3.921875 5.078125 -3.664062 5.078125 -3.375 L 5.078125 0 Z M 4.125 0 \"/>\n",
       "</symbol>\n",
       "<symbol overflow=\"visible\" id=\"glyph2-0\">\n",
       "<path style=\"stroke:none;\" d=\"M 0 -0.359375 L -7.328125 -0.359375 L -7.328125 -3.28125 L 0 -3.28125 Z M -0.359375 -0.734375 L -0.359375 -2.921875 L -6.96875 -2.921875 L -6.96875 -0.734375 Z M -0.359375 -0.734375 \"/>\n",
       "</symbol>\n",
       "<symbol overflow=\"visible\" id=\"glyph2-1\">\n",
       "<path style=\"stroke:none;\" d=\"M -6.84375 -4.25 C -6.84375 -3.820312 -6.769531 -3.441406 -6.625 -3.109375 C -6.476562 -2.773438 -6.273438 -2.492188 -6.015625 -2.265625 C -5.753906 -2.046875 -5.4375 -1.878906 -5.0625 -1.765625 C -4.6875 -1.648438 -4.269531 -1.59375 -3.8125 -1.59375 C -3.363281 -1.59375 -2.945312 -1.65625 -2.5625 -1.78125 C -2.1875 -1.90625 -1.863281 -2.082031 -1.59375 -2.3125 C -1.320312 -2.550781 -1.109375 -2.835938 -0.953125 -3.171875 C -0.804688 -3.503906 -0.734375 -3.878906 -0.734375 -4.296875 C -0.734375 -4.585938 -0.769531 -4.851562 -0.84375 -5.09375 C -0.925781 -5.34375 -1.035156 -5.5625 -1.171875 -5.75 C -1.316406 -5.945312 -1.484375 -6.125 -1.671875 -6.28125 C -1.859375 -6.4375 -2.070312 -6.570312 -2.3125 -6.6875 L -1.890625 -7.53125 C -1.609375 -7.394531 -1.34375 -7.222656 -1.09375 -7.015625 C -0.851562 -6.816406 -0.644531 -6.582031 -0.46875 -6.3125 C -0.289062 -6.039062 -0.148438 -5.734375 -0.046875 -5.390625 C 0.0546875 -5.046875 0.109375 -4.664062 0.109375 -4.25 C 0.109375 -3.632812 0.0078125 -3.097656 -0.1875 -2.640625 C -0.382812 -2.179688 -0.65625 -1.796875 -1 -1.484375 C -1.351562 -1.171875 -1.769531 -0.9375 -2.25 -0.78125 C -2.726562 -0.632812 -3.25 -0.5625 -3.8125 -0.5625 C -4.40625 -0.5625 -4.941406 -0.640625 -5.421875 -0.796875 C -5.898438 -0.960938 -6.304688 -1.203125 -6.640625 -1.515625 C -6.972656 -1.828125 -7.226562 -2.210938 -7.40625 -2.671875 C -7.59375 -3.128906 -7.6875 -3.65625 -7.6875 -4.25 C -7.6875 -5.050781 -7.523438 -5.722656 -7.203125 -6.265625 C -6.890625 -6.804688 -6.425781 -7.203125 -5.8125 -7.453125 L -5.484375 -6.484375 C -5.660156 -6.410156 -5.828125 -6.3125 -5.984375 -6.1875 C -6.148438 -6.070312 -6.296875 -5.921875 -6.421875 -5.734375 C -6.554688 -5.554688 -6.660156 -5.34375 -6.734375 -5.09375 C -6.804688 -4.851562 -6.84375 -4.570312 -6.84375 -4.25 Z M -6.84375 -4.25 \"/>\n",
       "</symbol>\n",
       "<symbol overflow=\"visible\" id=\"glyph2-2\">\n",
       "<path style=\"stroke:none;\" d=\"M -2.90625 -5.65625 C -1.894531 -5.65625 -1.140625 -5.429688 -0.640625 -4.984375 C -0.140625 -4.535156 0.109375 -3.882812 0.109375 -3.03125 C 0.109375 -2.625 0.046875 -2.257812 -0.078125 -1.9375 C -0.203125 -1.625 -0.390625 -1.359375 -0.640625 -1.140625 C -0.890625 -0.921875 -1.203125 -0.753906 -1.578125 -0.640625 C -1.953125 -0.523438 -2.394531 -0.46875 -2.90625 -0.46875 C -4.914062 -0.46875 -5.921875 -1.332031 -5.921875 -3.0625 C -5.921875 -3.519531 -5.859375 -3.910156 -5.734375 -4.234375 C -5.609375 -4.566406 -5.421875 -4.835938 -5.171875 -5.046875 C -4.921875 -5.253906 -4.601562 -5.40625 -4.21875 -5.5 C -3.84375 -5.601562 -3.40625 -5.65625 -2.90625 -5.65625 Z M -2.90625 -4.640625 C -3.363281 -4.640625 -3.738281 -4.601562 -4.03125 -4.53125 C -4.320312 -4.46875 -4.554688 -4.367188 -4.734375 -4.234375 C -4.910156 -4.097656 -5.03125 -3.929688 -5.09375 -3.734375 C -5.164062 -3.546875 -5.203125 -3.328125 -5.203125 -3.078125 C -5.203125 -2.835938 -5.164062 -2.613281 -5.09375 -2.40625 C -5.019531 -2.207031 -4.894531 -2.039062 -4.71875 -1.90625 C -4.539062 -1.769531 -4.304688 -1.664062 -4.015625 -1.59375 C -3.722656 -1.519531 -3.351562 -1.484375 -2.90625 -1.484375 C -2.457031 -1.484375 -2.082031 -1.519531 -1.78125 -1.59375 C -1.488281 -1.675781 -1.253906 -1.785156 -1.078125 -1.921875 C -0.910156 -2.054688 -0.789062 -2.21875 -0.71875 -2.40625 C -0.644531 -2.59375 -0.609375 -2.800781 -0.609375 -3.03125 C -0.609375 -3.269531 -0.640625 -3.488281 -0.703125 -3.6875 C -0.773438 -3.894531 -0.898438 -4.066406 -1.078125 -4.203125 C -1.253906 -4.347656 -1.488281 -4.457031 -1.78125 -4.53125 C -2.082031 -4.601562 -2.457031 -4.640625 -2.90625 -4.640625 Z M -2.90625 -4.640625 \"/>\n",
       "</symbol>\n",
       "<symbol overflow=\"visible\" id=\"glyph2-3\">\n",
       "<path style=\"stroke:none;\" d=\"M -5.8125 -1.6875 L -2.125 -1.6875 C -1.84375 -1.6875 -1.609375 -1.707031 -1.421875 -1.75 C -1.234375 -1.789062 -1.078125 -1.859375 -0.953125 -1.953125 C -0.835938 -2.046875 -0.753906 -2.164062 -0.703125 -2.3125 C -0.660156 -2.46875 -0.640625 -2.660156 -0.640625 -2.890625 C -0.640625 -3.117188 -0.675781 -3.320312 -0.75 -3.5 C -0.832031 -3.6875 -0.953125 -3.84375 -1.109375 -3.96875 C -1.265625 -4.101562 -1.453125 -4.207031 -1.671875 -4.28125 C -1.898438 -4.351562 -2.15625 -4.390625 -2.4375 -4.390625 L -5.8125 -4.390625 L -5.8125 -5.359375 L -1.234375 -5.359375 C -1.117188 -5.359375 -0.992188 -5.359375 -0.859375 -5.359375 C -0.722656 -5.359375 -0.59375 -5.359375 -0.46875 -5.359375 C -0.351562 -5.367188 -0.25 -5.375 -0.15625 -5.375 C -0.0703125 -5.375 -0.0195312 -5.378906 0 -5.390625 L 0 -4.46875 C -0.0195312 -4.46875 -0.0664062 -4.460938 -0.140625 -4.453125 C -0.222656 -4.453125 -0.3125 -4.445312 -0.40625 -4.4375 C -0.507812 -4.4375 -0.613281 -4.4375 -0.71875 -4.4375 C -0.832031 -4.4375 -0.925781 -4.4375 -1 -4.4375 L -1 -4.421875 C -0.820312 -4.328125 -0.664062 -4.222656 -0.53125 -4.109375 C -0.394531 -3.992188 -0.28125 -3.863281 -0.1875 -3.71875 C -0.09375 -3.570312 -0.0195312 -3.40625 0.03125 -3.21875 C 0.0820312 -3.03125 0.109375 -2.8125 0.109375 -2.5625 C 0.109375 -2.238281 0.0703125 -1.957031 0 -1.71875 C -0.0820312 -1.488281 -0.207031 -1.296875 -0.375 -1.140625 C -0.539062 -0.992188 -0.75 -0.882812 -1 -0.8125 C -1.257812 -0.75 -1.570312 -0.71875 -1.9375 -0.71875 L -5.8125 -0.71875 Z M -5.8125 -1.6875 \"/>\n",
       "</symbol>\n",
       "<symbol overflow=\"visible\" id=\"glyph2-4\">\n",
       "<path style=\"stroke:none;\" d=\"M 0 -4.4375 L -3.6875 -4.4375 C -3.96875 -4.4375 -4.203125 -4.414062 -4.390625 -4.375 C -4.578125 -4.332031 -4.726562 -4.265625 -4.84375 -4.171875 C -4.96875 -4.078125 -5.050781 -3.953125 -5.09375 -3.796875 C -5.144531 -3.648438 -5.171875 -3.460938 -5.171875 -3.234375 C -5.171875 -3.003906 -5.128906 -2.796875 -5.046875 -2.609375 C -4.972656 -2.429688 -4.859375 -2.273438 -4.703125 -2.140625 C -4.546875 -2.003906 -4.351562 -1.898438 -4.125 -1.828125 C -3.90625 -1.765625 -3.65625 -1.734375 -3.375 -1.734375 L 0 -1.734375 L 0 -0.765625 L -4.578125 -0.765625 C -4.691406 -0.765625 -4.816406 -0.757812 -4.953125 -0.75 C -5.085938 -0.75 -5.210938 -0.75 -5.328125 -0.75 C -5.453125 -0.75 -5.554688 -0.742188 -5.640625 -0.734375 C -5.734375 -0.734375 -5.789062 -0.734375 -5.8125 -0.734375 L -5.8125 -1.640625 C -5.789062 -1.648438 -5.738281 -1.65625 -5.65625 -1.65625 C -5.582031 -1.65625 -5.492188 -1.65625 -5.390625 -1.65625 C -5.296875 -1.664062 -5.191406 -1.671875 -5.078125 -1.671875 C -4.972656 -1.679688 -4.882812 -1.6875 -4.8125 -1.6875 L -4.8125 -1.703125 C -4.988281 -1.796875 -5.144531 -1.894531 -5.28125 -2 C -5.414062 -2.113281 -5.53125 -2.242188 -5.625 -2.390625 C -5.71875 -2.535156 -5.789062 -2.703125 -5.84375 -2.890625 C -5.894531 -3.085938 -5.921875 -3.3125 -5.921875 -3.5625 C -5.921875 -3.882812 -5.878906 -4.160156 -5.796875 -4.390625 C -5.722656 -4.628906 -5.601562 -4.820312 -5.4375 -4.96875 C -5.269531 -5.113281 -5.054688 -5.222656 -4.796875 -5.296875 C -4.535156 -5.367188 -4.226562 -5.40625 -3.875 -5.40625 L 0 -5.40625 Z M 0 -4.4375 \"/>\n",
       "</symbol>\n",
       "<symbol overflow=\"visible\" id=\"glyph2-5\">\n",
       "<path style=\"stroke:none;\" d=\"M -0.046875 -2.96875 C -0.00390625 -2.820312 0.0234375 -2.671875 0.046875 -2.515625 C 0.078125 -2.367188 0.09375 -2.195312 0.09375 -2 C 0.09375 -1.226562 -0.347656 -0.84375 -1.234375 -0.84375 L -5.109375 -0.84375 L -5.109375 -0.171875 L -5.8125 -0.171875 L -5.8125 -0.875 L -7.109375 -1.15625 L -7.109375 -1.8125 L -5.8125 -1.8125 L -5.8125 -2.875 L -5.109375 -2.875 L -5.109375 -1.8125 L -1.4375 -1.8125 C -1.15625 -1.8125 -0.957031 -1.851562 -0.84375 -1.9375 C -0.738281 -2.03125 -0.6875 -2.191406 -0.6875 -2.421875 C -0.6875 -2.515625 -0.691406 -2.601562 -0.703125 -2.6875 C -0.710938 -2.769531 -0.726562 -2.863281 -0.75 -2.96875 Z M -0.046875 -2.96875 \"/>\n",
       "</symbol>\n",
       "</g>\n",
       "<clipPath id=\"clip1\">\n",
       "  <path d=\"M 43.152344 5.480469 L 624.605469 5.480469 L 624.605469 399.851562 L 43.152344 399.851562 Z M 43.152344 5.480469 \"/>\n",
       "</clipPath>\n",
       "<clipPath id=\"clip2\">\n",
       "  <path d=\"M 43.152344 340 L 624.605469 340 L 624.605469 341 L 43.152344 341 Z M 43.152344 340 \"/>\n",
       "</clipPath>\n",
       "<clipPath id=\"clip3\">\n",
       "  <path d=\"M 43.152344 257 L 624.605469 257 L 624.605469 258 L 43.152344 258 Z M 43.152344 257 \"/>\n",
       "</clipPath>\n",
       "<clipPath id=\"clip4\">\n",
       "  <path d=\"M 43.152344 174 L 624.605469 174 L 624.605469 176 L 43.152344 176 Z M 43.152344 174 \"/>\n",
       "</clipPath>\n",
       "<clipPath id=\"clip5\">\n",
       "  <path d=\"M 43.152344 91 L 624.605469 91 L 624.605469 93 L 43.152344 93 Z M 43.152344 91 \"/>\n",
       "</clipPath>\n",
       "<clipPath id=\"clip6\">\n",
       "  <path d=\"M 43.152344 9 L 624.605469 9 L 624.605469 10 L 43.152344 10 Z M 43.152344 9 \"/>\n",
       "</clipPath>\n",
       "<clipPath id=\"clip7\">\n",
       "  <path d=\"M 43.152344 381 L 624.605469 381 L 624.605469 383 L 43.152344 383 Z M 43.152344 381 \"/>\n",
       "</clipPath>\n",
       "<clipPath id=\"clip8\">\n",
       "  <path d=\"M 43.152344 298 L 624.605469 298 L 624.605469 300 L 43.152344 300 Z M 43.152344 298 \"/>\n",
       "</clipPath>\n",
       "<clipPath id=\"clip9\">\n",
       "  <path d=\"M 43.152344 215 L 624.605469 215 L 624.605469 217 L 43.152344 217 Z M 43.152344 215 \"/>\n",
       "</clipPath>\n",
       "<clipPath id=\"clip10\">\n",
       "  <path d=\"M 43.152344 132 L 624.605469 132 L 624.605469 135 L 43.152344 135 Z M 43.152344 132 \"/>\n",
       "</clipPath>\n",
       "<clipPath id=\"clip11\">\n",
       "  <path d=\"M 43.152344 50 L 624.605469 50 L 624.605469 52 L 43.152344 52 Z M 43.152344 50 \"/>\n",
       "</clipPath>\n",
       "<clipPath id=\"clip12\">\n",
       "  <path d=\"M 201 5.480469 L 203 5.480469 L 203 399.851562 L 201 399.851562 Z M 201 5.480469 \"/>\n",
       "</clipPath>\n",
       "<clipPath id=\"clip13\">\n",
       "  <path d=\"M 465 5.480469 L 467 5.480469 L 467 399.851562 L 465 399.851562 Z M 465 5.480469 \"/>\n",
       "</clipPath>\n",
       "</defs>\n",
       "<g id=\"surface738\">\n",
       "<rect x=\"0\" y=\"0\" width=\"720\" height=\"432\" style=\"fill:rgb(100%,100%,100%);fill-opacity:1;stroke:none;\"/>\n",
       "<rect x=\"0\" y=\"0\" width=\"720\" height=\"432\" style=\"fill:rgb(100%,100%,100%);fill-opacity:1;stroke:none;\"/>\n",
       "<path style=\"fill:none;stroke-width:1.066978;stroke-linecap:round;stroke-linejoin:round;stroke:rgb(100%,100%,100%);stroke-opacity:1;stroke-miterlimit:10;\" d=\"M 0 432 L 720 432 L 720 0 L 0 0 Z M 0 432 \"/>\n",
       "<g clip-path=\"url(#clip1)\" clip-rule=\"nonzero\">\n",
       "<path style=\" stroke:none;fill-rule:nonzero;fill:rgb(92.156863%,92.156863%,92.156863%);fill-opacity:1;\" d=\"M 43.152344 399.847656 L 624.605469 399.847656 L 624.605469 5.476562 L 43.152344 5.476562 Z M 43.152344 399.847656 \"/>\n",
       "</g>\n",
       "<g clip-path=\"url(#clip2)\" clip-rule=\"nonzero\">\n",
       "<path style=\"fill:none;stroke-width:0.533489;stroke-linecap:butt;stroke-linejoin:round;stroke:rgb(100%,100%,100%);stroke-opacity:1;stroke-miterlimit:10;\" d=\"M 43.152344 340.523438 L 624.601562 340.523438 \"/>\n",
       "</g>\n",
       "<g clip-path=\"url(#clip3)\" clip-rule=\"nonzero\">\n",
       "<path style=\"fill:none;stroke-width:0.533489;stroke-linecap:butt;stroke-linejoin:round;stroke:rgb(100%,100%,100%);stroke-opacity:1;stroke-miterlimit:10;\" d=\"M 43.152344 257.726562 L 624.601562 257.726562 \"/>\n",
       "</g>\n",
       "<g clip-path=\"url(#clip4)\" clip-rule=\"nonzero\">\n",
       "<path style=\"fill:none;stroke-width:0.533489;stroke-linecap:butt;stroke-linejoin:round;stroke:rgb(100%,100%,100%);stroke-opacity:1;stroke-miterlimit:10;\" d=\"M 43.152344 174.925781 L 624.601562 174.925781 \"/>\n",
       "</g>\n",
       "<g clip-path=\"url(#clip5)\" clip-rule=\"nonzero\">\n",
       "<path style=\"fill:none;stroke-width:0.533489;stroke-linecap:butt;stroke-linejoin:round;stroke:rgb(100%,100%,100%);stroke-opacity:1;stroke-miterlimit:10;\" d=\"M 43.152344 92.128906 L 624.601562 92.128906 \"/>\n",
       "</g>\n",
       "<g clip-path=\"url(#clip6)\" clip-rule=\"nonzero\">\n",
       "<path style=\"fill:none;stroke-width:0.533489;stroke-linecap:butt;stroke-linejoin:round;stroke:rgb(100%,100%,100%);stroke-opacity:1;stroke-miterlimit:10;\" d=\"M 43.152344 9.328125 L 624.601562 9.328125 \"/>\n",
       "</g>\n",
       "<g clip-path=\"url(#clip7)\" clip-rule=\"nonzero\">\n",
       "<path style=\"fill:none;stroke-width:1.066978;stroke-linecap:butt;stroke-linejoin:round;stroke:rgb(100%,100%,100%);stroke-opacity:1;stroke-miterlimit:10;\" d=\"M 43.152344 381.921875 L 624.601562 381.921875 \"/>\n",
       "</g>\n",
       "<g clip-path=\"url(#clip8)\" clip-rule=\"nonzero\">\n",
       "<path style=\"fill:none;stroke-width:1.066978;stroke-linecap:butt;stroke-linejoin:round;stroke:rgb(100%,100%,100%);stroke-opacity:1;stroke-miterlimit:10;\" d=\"M 43.152344 299.125 L 624.601562 299.125 \"/>\n",
       "</g>\n",
       "<g clip-path=\"url(#clip9)\" clip-rule=\"nonzero\">\n",
       "<path style=\"fill:none;stroke-width:1.066978;stroke-linecap:butt;stroke-linejoin:round;stroke:rgb(100%,100%,100%);stroke-opacity:1;stroke-miterlimit:10;\" d=\"M 43.152344 216.324219 L 624.601562 216.324219 \"/>\n",
       "</g>\n",
       "<g clip-path=\"url(#clip10)\" clip-rule=\"nonzero\">\n",
       "<path style=\"fill:none;stroke-width:1.066978;stroke-linecap:butt;stroke-linejoin:round;stroke:rgb(100%,100%,100%);stroke-opacity:1;stroke-miterlimit:10;\" d=\"M 43.152344 133.527344 L 624.601562 133.527344 \"/>\n",
       "</g>\n",
       "<g clip-path=\"url(#clip11)\" clip-rule=\"nonzero\">\n",
       "<path style=\"fill:none;stroke-width:1.066978;stroke-linecap:butt;stroke-linejoin:round;stroke:rgb(100%,100%,100%);stroke-opacity:1;stroke-miterlimit:10;\" d=\"M 43.152344 50.730469 L 624.601562 50.730469 \"/>\n",
       "</g>\n",
       "<g clip-path=\"url(#clip12)\" clip-rule=\"nonzero\">\n",
       "<path style=\"fill:none;stroke-width:1.066978;stroke-linecap:butt;stroke-linejoin:round;stroke:rgb(100%,100%,100%);stroke-opacity:1;stroke-miterlimit:10;\" d=\"M 201.730469 399.847656 L 201.730469 5.480469 \"/>\n",
       "</g>\n",
       "<g clip-path=\"url(#clip13)\" clip-rule=\"nonzero\">\n",
       "<path style=\"fill:none;stroke-width:1.066978;stroke-linecap:butt;stroke-linejoin:round;stroke:rgb(100%,100%,100%);stroke-opacity:1;stroke-miterlimit:10;\" d=\"M 466.023438 399.847656 L 466.023438 5.480469 \"/>\n",
       "</g>\n",
       "<path style=\" stroke:none;fill-rule:nonzero;fill:rgb(97.254902%,46.27451%,42.745098%);fill-opacity:1;\" d=\"M 82.796875 174.925781 L 320.664062 174.925781 L 320.664062 23.402344 L 82.796875 23.402344 Z M 82.796875 174.925781 \"/>\n",
       "<path style=\" stroke:none;fill-rule:nonzero;fill:rgb(0%,74.901961%,76.862745%);fill-opacity:1;\" d=\"M 82.796875 381.921875 L 320.664062 381.921875 L 320.664062 174.925781 L 82.796875 174.925781 Z M 82.796875 381.921875 \"/>\n",
       "<path style=\" stroke:none;fill-rule:nonzero;fill:rgb(97.254902%,46.27451%,42.745098%);fill-opacity:1;\" d=\"M 347.089844 194.46875 L 584.957031 194.46875 L 584.957031 61.824219 L 347.089844 61.824219 Z M 347.089844 194.46875 \"/>\n",
       "<path style=\" stroke:none;fill-rule:nonzero;fill:rgb(0%,74.901961%,76.862745%);fill-opacity:1;\" d=\"M 347.089844 381.921875 L 584.957031 381.921875 L 584.957031 194.464844 L 347.089844 194.464844 Z M 347.089844 381.921875 \"/>\n",
       "<g style=\"fill:rgb(30.196078%,30.196078%,30.196078%);fill-opacity:1;\">\n",
       "  <use xlink:href=\"#glyph0-1\" x=\"33.21875\" y=\"385.387695\"/>\n",
       "</g>\n",
       "<g style=\"fill:rgb(30.196078%,30.196078%,30.196078%);fill-opacity:1;\">\n",
       "  <use xlink:href=\"#glyph0-2\" x=\"23.21875\" y=\"302.59082\"/>\n",
       "  <use xlink:href=\"#glyph0-1\" x=\"28.21875\" y=\"302.59082\"/>\n",
       "  <use xlink:href=\"#glyph0-1\" x=\"33.21875\" y=\"302.59082\"/>\n",
       "</g>\n",
       "<g style=\"fill:rgb(30.196078%,30.196078%,30.196078%);fill-opacity:1;\">\n",
       "  <use xlink:href=\"#glyph0-3\" x=\"18.21875\" y=\"219.790039\"/>\n",
       "  <use xlink:href=\"#glyph0-1\" x=\"23.21875\" y=\"219.790039\"/>\n",
       "  <use xlink:href=\"#glyph0-1\" x=\"28.21875\" y=\"219.790039\"/>\n",
       "  <use xlink:href=\"#glyph0-1\" x=\"33.21875\" y=\"219.790039\"/>\n",
       "</g>\n",
       "<g style=\"fill:rgb(30.196078%,30.196078%,30.196078%);fill-opacity:1;\">\n",
       "  <use xlink:href=\"#glyph0-3\" x=\"18.21875\" y=\"136.993164\"/>\n",
       "  <use xlink:href=\"#glyph0-2\" x=\"23.21875\" y=\"136.993164\"/>\n",
       "  <use xlink:href=\"#glyph0-1\" x=\"28.21875\" y=\"136.993164\"/>\n",
       "  <use xlink:href=\"#glyph0-1\" x=\"33.21875\" y=\"136.993164\"/>\n",
       "</g>\n",
       "<g style=\"fill:rgb(30.196078%,30.196078%,30.196078%);fill-opacity:1;\">\n",
       "  <use xlink:href=\"#glyph0-4\" x=\"18.21875\" y=\"54.196289\"/>\n",
       "  <use xlink:href=\"#glyph0-1\" x=\"23.21875\" y=\"54.196289\"/>\n",
       "  <use xlink:href=\"#glyph0-1\" x=\"28.21875\" y=\"54.196289\"/>\n",
       "  <use xlink:href=\"#glyph0-1\" x=\"33.21875\" y=\"54.196289\"/>\n",
       "</g>\n",
       "<path style=\"fill:none;stroke-width:1.066978;stroke-linecap:butt;stroke-linejoin:round;stroke:rgb(20%,20%,20%);stroke-opacity:1;stroke-miterlimit:10;\" d=\"M 40.410156 381.921875 L 43.152344 381.921875 \"/>\n",
       "<path style=\"fill:none;stroke-width:1.066978;stroke-linecap:butt;stroke-linejoin:round;stroke:rgb(20%,20%,20%);stroke-opacity:1;stroke-miterlimit:10;\" d=\"M 40.410156 299.125 L 43.152344 299.125 \"/>\n",
       "<path style=\"fill:none;stroke-width:1.066978;stroke-linecap:butt;stroke-linejoin:round;stroke:rgb(20%,20%,20%);stroke-opacity:1;stroke-miterlimit:10;\" d=\"M 40.410156 216.324219 L 43.152344 216.324219 \"/>\n",
       "<path style=\"fill:none;stroke-width:1.066978;stroke-linecap:butt;stroke-linejoin:round;stroke:rgb(20%,20%,20%);stroke-opacity:1;stroke-miterlimit:10;\" d=\"M 40.410156 133.527344 L 43.152344 133.527344 \"/>\n",
       "<path style=\"fill:none;stroke-width:1.066978;stroke-linecap:butt;stroke-linejoin:round;stroke:rgb(20%,20%,20%);stroke-opacity:1;stroke-miterlimit:10;\" d=\"M 40.410156 50.730469 L 43.152344 50.730469 \"/>\n",
       "<path style=\"fill:none;stroke-width:1.066978;stroke-linecap:butt;stroke-linejoin:round;stroke:rgb(20%,20%,20%);stroke-opacity:1;stroke-miterlimit:10;\" d=\"M 201.730469 402.589844 L 201.730469 399.847656 \"/>\n",
       "<path style=\"fill:none;stroke-width:1.066978;stroke-linecap:butt;stroke-linejoin:round;stroke:rgb(20%,20%,20%);stroke-opacity:1;stroke-miterlimit:10;\" d=\"M 466.023438 402.589844 L 466.023438 399.847656 \"/>\n",
       "<g style=\"fill:rgb(30.196078%,30.196078%,30.196078%);fill-opacity:1;\">\n",
       "  <use xlink:href=\"#glyph0-5\" x=\"163.730469\" y=\"411.74707\"/>\n",
       "  <use xlink:href=\"#glyph0-6\" x=\"169.730469\" y=\"411.74707\"/>\n",
       "  <use xlink:href=\"#glyph0-7\" x=\"174.730469\" y=\"411.74707\"/>\n",
       "  <use xlink:href=\"#glyph0-8\" x=\"179.730469\" y=\"411.74707\"/>\n",
       "  <use xlink:href=\"#glyph0-9\" x=\"184.730469\" y=\"411.74707\"/>\n",
       "  <use xlink:href=\"#glyph0-10\" x=\"189.730469\" y=\"411.74707\"/>\n",
       "  <use xlink:href=\"#glyph0-11\" x=\"192.730469\" y=\"411.74707\"/>\n",
       "  <use xlink:href=\"#glyph0-12\" x=\"195.730469\" y=\"411.74707\"/>\n",
       "  <use xlink:href=\"#glyph0-13\" x=\"201.730469\" y=\"411.74707\"/>\n",
       "  <use xlink:href=\"#glyph0-6\" x=\"206.730469\" y=\"411.74707\"/>\n",
       "  <use xlink:href=\"#glyph0-14\" x=\"211.730469\" y=\"411.74707\"/>\n",
       "  <use xlink:href=\"#glyph0-15\" x=\"213.730469\" y=\"411.74707\"/>\n",
       "  <use xlink:href=\"#glyph0-16\" x=\"218.730469\" y=\"411.74707\"/>\n",
       "  <use xlink:href=\"#glyph0-9\" x=\"220.730469\" y=\"411.74707\"/>\n",
       "  <use xlink:href=\"#glyph0-7\" x=\"225.730469\" y=\"411.74707\"/>\n",
       "  <use xlink:href=\"#glyph0-17\" x=\"230.730469\" y=\"411.74707\"/>\n",
       "  <use xlink:href=\"#glyph0-18\" x=\"235.730469\" y=\"411.74707\"/>\n",
       "</g>\n",
       "<g style=\"fill:rgb(30.196078%,30.196078%,30.196078%);fill-opacity:1;\">\n",
       "  <use xlink:href=\"#glyph0-19\" x=\"435.023438\" y=\"411.74707\"/>\n",
       "  <use xlink:href=\"#glyph0-20\" x=\"443.023438\" y=\"411.74707\"/>\n",
       "  <use xlink:href=\"#glyph0-18\" x=\"448.023438\" y=\"411.74707\"/>\n",
       "  <use xlink:href=\"#glyph0-14\" x=\"452.023438\" y=\"411.74707\"/>\n",
       "  <use xlink:href=\"#glyph0-21\" x=\"454.023438\" y=\"411.74707\"/>\n",
       "  <use xlink:href=\"#glyph0-22\" x=\"456.023438\" y=\"411.74707\"/>\n",
       "  <use xlink:href=\"#glyph0-13\" x=\"462.023438\" y=\"411.74707\"/>\n",
       "  <use xlink:href=\"#glyph0-23\" x=\"467.023438\" y=\"411.74707\"/>\n",
       "  <use xlink:href=\"#glyph0-7\" x=\"469.023438\" y=\"411.74707\"/>\n",
       "  <use xlink:href=\"#glyph0-14\" x=\"474.023438\" y=\"411.74707\"/>\n",
       "  <use xlink:href=\"#glyph0-21\" x=\"476.023438\" y=\"411.74707\"/>\n",
       "  <use xlink:href=\"#glyph0-24\" x=\"478.023438\" y=\"411.74707\"/>\n",
       "  <use xlink:href=\"#glyph0-10\" x=\"485.023438\" y=\"411.74707\"/>\n",
       "  <use xlink:href=\"#glyph0-20\" x=\"488.023438\" y=\"411.74707\"/>\n",
       "  <use xlink:href=\"#glyph0-25\" x=\"493.023438\" y=\"411.74707\"/>\n",
       "</g>\n",
       "<g style=\"fill:rgb(0%,0%,0%);fill-opacity:1;\">\n",
       "  <use xlink:href=\"#glyph1-1\" x=\"296.875\" y=\"424.477539\"/>\n",
       "  <use xlink:href=\"#glyph1-2\" x=\"304.875\" y=\"424.477539\"/>\n",
       "  <use xlink:href=\"#glyph1-3\" x=\"310.875\" y=\"424.477539\"/>\n",
       "  <use xlink:href=\"#glyph1-4\" x=\"312.875\" y=\"424.477539\"/>\n",
       "  <use xlink:href=\"#glyph1-5\" x=\"318.875\" y=\"424.477539\"/>\n",
       "  <use xlink:href=\"#glyph1-6\" x=\"324.875\" y=\"424.477539\"/>\n",
       "  <use xlink:href=\"#glyph1-7\" x=\"330.875\" y=\"424.477539\"/>\n",
       "  <use xlink:href=\"#glyph1-8\" x=\"336.875\" y=\"424.477539\"/>\n",
       "  <use xlink:href=\"#glyph1-9\" x=\"342.875\" y=\"424.477539\"/>\n",
       "  <use xlink:href=\"#glyph1-5\" x=\"346.875\" y=\"424.477539\"/>\n",
       "  <use xlink:href=\"#glyph1-7\" x=\"352.875\" y=\"424.477539\"/>\n",
       "  <use xlink:href=\"#glyph1-7\" x=\"358.875\" y=\"424.477539\"/>\n",
       "  <use xlink:href=\"#glyph1-10\" x=\"364.875\" y=\"424.477539\"/>\n",
       "</g>\n",
       "<g style=\"fill:rgb(0%,0%,0%);fill-opacity:1;\">\n",
       "  <use xlink:href=\"#glyph2-1\" x=\"13.438477\" y=\"217.164062\"/>\n",
       "  <use xlink:href=\"#glyph2-2\" x=\"13.438477\" y=\"209.164062\"/>\n",
       "  <use xlink:href=\"#glyph2-3\" x=\"13.438477\" y=\"203.164062\"/>\n",
       "  <use xlink:href=\"#glyph2-4\" x=\"13.438477\" y=\"197.164062\"/>\n",
       "  <use xlink:href=\"#glyph2-5\" x=\"13.438477\" y=\"191.164062\"/>\n",
       "</g>\n",
       "<path style=\" stroke:none;fill-rule:nonzero;fill:rgb(100%,100%,100%);fill-opacity:1;\" d=\"M 635.5625 233.164062 L 714.519531 233.164062 L 714.519531 172.164062 L 635.5625 172.164062 Z M 635.5625 233.164062 \"/>\n",
       "<g style=\"fill:rgb(0%,0%,0%);fill-opacity:1;\">\n",
       "  <use xlink:href=\"#glyph1-11\" x=\"641.042969\" y=\"186.602539\"/>\n",
       "  <use xlink:href=\"#glyph1-12\" x=\"647.042969\" y=\"186.602539\"/>\n",
       "  <use xlink:href=\"#glyph1-13\" x=\"653.042969\" y=\"186.602539\"/>\n",
       "  <use xlink:href=\"#glyph1-2\" x=\"659.042969\" y=\"186.602539\"/>\n",
       "  <use xlink:href=\"#glyph1-14\" x=\"665.042969\" y=\"186.602539\"/>\n",
       "  <use xlink:href=\"#glyph1-7\" x=\"668.042969\" y=\"186.602539\"/>\n",
       "  <use xlink:href=\"#glyph1-15\" x=\"674.042969\" y=\"186.602539\"/>\n",
       "  <use xlink:href=\"#glyph1-14\" x=\"677.042969\" y=\"186.602539\"/>\n",
       "  <use xlink:href=\"#glyph1-16\" x=\"680.042969\" y=\"186.602539\"/>\n",
       "  <use xlink:href=\"#glyph1-9\" x=\"688.042969\" y=\"186.602539\"/>\n",
       "  <use xlink:href=\"#glyph1-3\" x=\"692.042969\" y=\"186.602539\"/>\n",
       "  <use xlink:href=\"#glyph1-17\" x=\"694.042969\" y=\"186.602539\"/>\n",
       "  <use xlink:href=\"#glyph1-2\" x=\"703.042969\" y=\"186.602539\"/>\n",
       "</g>\n",
       "<path style=\" stroke:none;fill-rule:nonzero;fill:rgb(94.901961%,94.901961%,94.901961%);fill-opacity:1;\" d=\"M 641.042969 210.402344 L 658.324219 210.402344 L 658.324219 193.121094 L 641.042969 193.121094 Z M 641.042969 210.402344 \"/>\n",
       "<path style=\" stroke:none;fill-rule:nonzero;fill:rgb(97.254902%,46.27451%,42.745098%);fill-opacity:1;\" d=\"M 641.75 209.695312 L 657.613281 209.695312 L 657.613281 193.832031 L 641.75 193.832031 Z M 641.75 209.695312 \"/>\n",
       "<path style=\" stroke:none;fill-rule:nonzero;fill:rgb(94.901961%,94.901961%,94.901961%);fill-opacity:1;\" d=\"M 641.042969 227.683594 L 658.324219 227.683594 L 658.324219 210.402344 L 641.042969 210.402344 Z M 641.042969 227.683594 \"/>\n",
       "<path style=\" stroke:none;fill-rule:nonzero;fill:rgb(0%,74.901961%,76.862745%);fill-opacity:1;\" d=\"M 641.75 226.976562 L 657.613281 226.976562 L 657.613281 211.113281 L 641.75 211.113281 Z M 641.75 226.976562 \"/>\n",
       "<g style=\"fill:rgb(0%,0%,0%);fill-opacity:1;\">\n",
       "  <use xlink:href=\"#glyph0-26\" x=\"663.800781\" y=\"205.231445\"/>\n",
       "  <use xlink:href=\"#glyph0-13\" x=\"669.800781\" y=\"205.231445\"/>\n",
       "  <use xlink:href=\"#glyph0-14\" x=\"674.800781\" y=\"205.231445\"/>\n",
       "  <use xlink:href=\"#glyph0-21\" x=\"676.800781\" y=\"205.231445\"/>\n",
       "  <use xlink:href=\"#glyph0-27\" x=\"678.800781\" y=\"205.231445\"/>\n",
       "  <use xlink:href=\"#glyph0-15\" x=\"683.800781\" y=\"205.231445\"/>\n",
       "  <use xlink:href=\"#glyph0-20\" x=\"688.800781\" y=\"205.231445\"/>\n",
       "  <use xlink:href=\"#glyph0-28\" x=\"693.800781\" y=\"205.231445\"/>\n",
       "  <use xlink:href=\"#glyph0-14\" x=\"695.800781\" y=\"205.231445\"/>\n",
       "</g>\n",
       "<g style=\"fill:rgb(0%,0%,0%);fill-opacity:1;\">\n",
       "  <use xlink:href=\"#glyph0-27\" x=\"663.800781\" y=\"222.508789\"/>\n",
       "  <use xlink:href=\"#glyph0-15\" x=\"668.800781\" y=\"222.508789\"/>\n",
       "  <use xlink:href=\"#glyph0-20\" x=\"673.800781\" y=\"222.508789\"/>\n",
       "  <use xlink:href=\"#glyph0-28\" x=\"678.800781\" y=\"222.508789\"/>\n",
       "  <use xlink:href=\"#glyph0-14\" x=\"680.800781\" y=\"222.508789\"/>\n",
       "</g>\n",
       "</g>\n",
       "</svg>\n"
      ],
      "text/plain": [
       "plot without title"
      ]
     },
     "metadata": {
      "application/pdf": {
       "height": 360,
       "width": 600
      },
      "image/jpeg": {
       "height": 360,
       "width": 600
      },
      "image/png": {
       "height": 360,
       "width": 600
      },
      "image/svg+xml": {
       "height": 360,
       "isolated": true,
       "width": 600
      }
     },
     "output_type": "display_data"
    }
   ],
   "source": [
    "ggplot(crime_transform, aes(x = neighbourhood, fill = type)) + \n",
    "    geom_bar() + \n",
    "    labs(x = \"Neighbourhood\", y = \"Count\", fill = \"Type of Crime\") + \n",
    "    scale_fill_discrete(labels = c('Not Theft', 'Theft'))"
   ]
  },
  {
   "cell_type": "markdown",
   "id": "ce30d774-9a76-476d-ad43-3730789bc7ae",
   "metadata": {},
   "source": [
    "From the plot and previous tables, we observe that the proportion of theft crime are similar for the two neighbourhoods but West Point Grey is slightly higher. We can also see that for both neighbourhood, theft is the majority type of crime. Recall that the observed test statistic of the difference in proportions is 0.008251004. From the plot, we canont easily conclude anything significant about the difference in proportions of theft in both neighbourhoods, meaning that we will have to make use of some statistical analysis."
   ]
  },
  {
   "cell_type": "code",
   "execution_count": 13,
   "id": "1b8914d8-810a-43ed-907a-96fe87955aee",
   "metadata": {
    "vscode": {
     "languageId": "r"
    }
   },
   "outputs": [],
   "source": [
    "# two_neighbourhoods_all_crime <- crime_recent_5_years %>%\n",
    "#     group_by(neighbourhood, type) %>%\n",
    "#     summarize(count = n(), .groups = 'drop') %>%\n",
    "#     ggplot(aes(x = neighbourhood, y = count, fill = type)) +\n",
    "#     geom_bar(stat = \"identity\") +\n",
    "#     labs(title = \"All Crime Count in the two Neighbourhoods\",\n",
    "#          x = \"Neighbourhood\",\n",
    "#          y = \"Number of Crime\",\n",
    "#          colour = \"Type of Crime\") +\n",
    "#     theme(text = element_text(size = 15)) +\n",
    "#     scale_fill_manual(values = palette)\n",
    "\n",
    "# two_neighbourhoods_all_crime"
   ]
  },
  {
   "cell_type": "code",
   "execution_count": null,
   "id": "acb2401c-a321-4943-90e7-eb6d7275c203",
   "metadata": {},
   "outputs": [],
   "source": [
    "# Next, we combine the major crime type into one: break and enter, theft, vehicle collision, and others."
   ]
  },
  {
   "cell_type": "code",
   "execution_count": 19,
   "id": "29a6f54a-c63f-44c0-9252-fbbcb50e9eca",
   "metadata": {
    "vscode": {
     "languageId": "r"
    }
   },
   "outputs": [],
   "source": [
    "# group_by_crime <- crime_recent_5_years %>%\n",
    "#     group_by(neighbourhood, type) %>%\n",
    "#     summarize(count = n()) %>%\n",
    "#     ggplot(aes(x = neighbourhood, y = count, fill = type)) +\n",
    "#     geom_bar(stat = \"identity\") +\n",
    "#     labs(title = \"All Large Crime Type Combined\",\n",
    "#          x = \"Neighbourhood\",\n",
    "#          y = \"Number of Crime\",\n",
    "#         colour = \"Type of Crime\") +\n",
    "#     theme(text = element_text(size = 15)) +\n",
    "#     scale_fill_manual(labels = c(\"Break and Enter Commercial\", \"Break and Enter Residential/Other\", \"Homicide\", \"Mischief\", \n",
    "#                                   \"Offence Against a Person\", \"Other Theft\", \"Theft from Vehicle\", \"Theft of Bicycle\", \n",
    "#                                   \"Theft of Vehicle\", \"Vehicle Collision or Pedestrian Struck (with Fatality)\", \n",
    "#                                   \"Vehicle Collision or Pedestrian Struck (with Injury)\"), \n",
    "#                        values = c(\"#E69F00\", \"#E69F00\", \"#56B4E9\", \"#56B4E9\", \"#56B4E9\", \"#009E73\", \"#009E73\", \"#009E73\", \n",
    "#                                   \"#009E73\", \"#CC79A7\", \"#CC79A7\"))\n",
    "# group_by_crime"
   ]
  },
  {
   "cell_type": "code",
   "execution_count": null,
   "id": "603222e9-8cfb-4207-b068-a51b5f3a10a2",
   "metadata": {},
   "outputs": [],
   "source": [
    "# From this plot, we can see that theft is indeed the most common type of crime as it has the greatest areas on the graph."
   ]
  },
  {
   "cell_type": "code",
   "execution_count": null,
   "id": "8b9610a0-a783-4148-89d4-3c059f92796f",
   "metadata": {
    "vscode": {
     "languageId": "r"
    }
   },
   "outputs": [],
   "source": [
    "# estimate_proportion_plot <- ggplot(crime_summary, aes(x = NEIGHBOURHOOD, y = prop, fill = NEIGHBOURHOOD)) +\n",
    "#     geom_bar(stat = \"identity\") +\n",
    "#     labs(title = \"Proportion of Theft in Two Neighbourhoods\",\n",
    "#        x = \"Neighbourhoods\",\n",
    "#        y = \"Proportion of Theft\") +\n",
    "#     theme(text = element_text(size = 15)) +\n",
    "#     scale_fill_manual(values= c(\"#D55E00\", \"#CC79A7\"))\n",
    "# estimate_proportion_plot"
   ]
  },
  {
   "cell_type": "code",
   "execution_count": null,
   "id": "ea48e7e1-038d-427d-b6c3-e55afff2e8c0",
   "metadata": {},
   "outputs": [],
   "source": [
    "# We can see that the proportion of theft crime are similar for the two neighbourhoods but West Point Grey is slightly higher. We can also see that for both neighbourhood, theft is the majority type of crime."
   ]
  },
  {
   "cell_type": "markdown",
   "id": "e60630b5-e005-46c7-87fd-73cc15eedccf",
   "metadata": {},
   "source": [
    "Now that We have completed the exploratory data analysis (EDA), we will move onto the actual analysis."
   ]
  },
  {
   "cell_type": "markdown",
   "id": "b8941b6c-4425-42e9-bb3a-a1b0ea4332f6",
   "metadata": {
    "jp-MarkdownHeadingCollapsed": true,
    "tags": []
   },
   "source": [
    "### Using Asymptotics\n",
    "\n",
    "We can conduct a two-sample z-test to calculate the proportion differences. Recall that we have already stored the results of the counts of crime in both neighbourhoods, along with the proportion of thefts in both neighbourhoods in the data frame `crime_estimates`.\n",
    "\n"
   ]
  },
  {
   "cell_type": "code",
   "execution_count": 31,
   "id": "79ecd78f-ed13-4ae2-be9c-44347a87cec7",
   "metadata": {},
   "outputs": [
    {
     "data": {
      "text/html": [
       "<table class=\"dataframe\">\n",
       "<caption>A tibble: 1 × 5</caption>\n",
       "<thead>\n",
       "\t<tr><th scope=col>n_ds</th><th scope=col>n_wpg</th><th scope=col>p_ds</th><th scope=col>p_wpg</th><th scope=col>prop_diff</th></tr>\n",
       "\t<tr><th scope=col>&lt;int&gt;</th><th scope=col>&lt;int&gt;</th><th scope=col>&lt;dbl&gt;</th><th scope=col>&lt;dbl&gt;</th><th scope=col>&lt;dbl&gt;</th></tr>\n",
       "</thead>\n",
       "<tbody>\n",
       "\t<tr><td>2165</td><td>1933</td><td>0.5773672</td><td>0.5856182</td><td>0.008251004</td></tr>\n",
       "</tbody>\n",
       "</table>\n"
      ],
      "text/latex": [
       "A tibble: 1 × 5\n",
       "\\begin{tabular}{lllll}\n",
       " n\\_ds & n\\_wpg & p\\_ds & p\\_wpg & prop\\_diff\\\\\n",
       " <int> & <int> & <dbl> & <dbl> & <dbl>\\\\\n",
       "\\hline\n",
       "\t 2165 & 1933 & 0.5773672 & 0.5856182 & 0.008251004\\\\\n",
       "\\end{tabular}\n"
      ],
      "text/markdown": [
       "\n",
       "A tibble: 1 × 5\n",
       "\n",
       "| n_ds &lt;int&gt; | n_wpg &lt;int&gt; | p_ds &lt;dbl&gt; | p_wpg &lt;dbl&gt; | prop_diff &lt;dbl&gt; |\n",
       "|---|---|---|---|---|\n",
       "| 2165 | 1933 | 0.5773672 | 0.5856182 | 0.008251004 |\n",
       "\n"
      ],
      "text/plain": [
       "  n_ds n_wpg p_ds      p_wpg     prop_diff  \n",
       "1 2165 1933  0.5773672 0.5856182 0.008251004"
      ]
     },
     "metadata": {},
     "output_type": "display_data"
    }
   ],
   "source": [
    "crime_estimates"
   ]
  },
  {
   "cell_type": "markdown",
   "id": "4a5ae5c2-187e-451c-a5d5-0eb881abe012",
   "metadata": {},
   "source": [
    "Since we are using theory-based methods, we have to make sure that \n",
    "`np >= 10` and `n(1-p) >= 10` for both neighbourhoods. We have that $2165*0.5773672 \\approx 1250 \\geq 10$ and $2165*(1-0.0.5773672) \\approx 915 \\geq 10$ for Dunbar-Southlands. Likewise for West Point Grey, $1933*0.5856182 \\approx 1130 \\geq 10$ and \n",
    "$1933*0.5856182 \\approx 800 \\geq 10$. Nice! Since we satisfy the 'success-failure' condition for a large enough sample size, and we are assuming that the sample dataset was random and the samples were independent of each other, we can use the Central Limit Theorem. \n",
    "\n",
    "We proceed to calculate the null distribution standard error by first calculating a pooled proportion. "
   ]
  },
  {
   "cell_type": "code",
   "execution_count": 35,
   "id": "8176e126-7c41-4ad0-8a2a-b2d2a744069f",
   "metadata": {},
   "outputs": [
    {
     "data": {
      "text/html": [
       "<table class=\"dataframe\">\n",
       "<caption>A tibble: 1 × 7</caption>\n",
       "<thead>\n",
       "\t<tr><th scope=col>n_ds</th><th scope=col>n_wpg</th><th scope=col>p_ds</th><th scope=col>p_wpg</th><th scope=col>prop_diff</th><th scope=col>pooled_proportion</th><th scope=col>null_std_error</th></tr>\n",
       "\t<tr><th scope=col>&lt;int&gt;</th><th scope=col>&lt;int&gt;</th><th scope=col>&lt;dbl&gt;</th><th scope=col>&lt;dbl&gt;</th><th scope=col>&lt;dbl&gt;</th><th scope=col>&lt;dbl&gt;</th><th scope=col>&lt;dbl&gt;</th></tr>\n",
       "</thead>\n",
       "<tbody>\n",
       "\t<tr><td>2165</td><td>1933</td><td>0.5773672</td><td>0.5856182</td><td>0.008251004</td><td>0.5812592</td><td>0.01543827</td></tr>\n",
       "</tbody>\n",
       "</table>\n"
      ],
      "text/latex": [
       "A tibble: 1 × 7\n",
       "\\begin{tabular}{lllllll}\n",
       " n\\_ds & n\\_wpg & p\\_ds & p\\_wpg & prop\\_diff & pooled\\_proportion & null\\_std\\_error\\\\\n",
       " <int> & <int> & <dbl> & <dbl> & <dbl> & <dbl> & <dbl>\\\\\n",
       "\\hline\n",
       "\t 2165 & 1933 & 0.5773672 & 0.5856182 & 0.008251004 & 0.5812592 & 0.01543827\\\\\n",
       "\\end{tabular}\n"
      ],
      "text/markdown": [
       "\n",
       "A tibble: 1 × 7\n",
       "\n",
       "| n_ds &lt;int&gt; | n_wpg &lt;int&gt; | p_ds &lt;dbl&gt; | p_wpg &lt;dbl&gt; | prop_diff &lt;dbl&gt; | pooled_proportion &lt;dbl&gt; | null_std_error &lt;dbl&gt; |\n",
       "|---|---|---|---|---|---|---|\n",
       "| 2165 | 1933 | 0.5773672 | 0.5856182 | 0.008251004 | 0.5812592 | 0.01543827 |\n",
       "\n"
      ],
      "text/plain": [
       "  n_ds n_wpg p_ds      p_wpg     prop_diff   pooled_proportion null_std_error\n",
       "1 2165 1933  0.5773672 0.5856182 0.008251004 0.5812592         0.01543827    "
      ]
     },
     "metadata": {},
     "output_type": "display_data"
    }
   ],
   "source": [
    "crime_asymptotics <- crime_estimates |>\n",
    "    mutate(pooled_proportion = (n_ds*p_ds + n_wpg*p_wpg)/(n_ds + n_wpg),\n",
    "           null_std_error = sqrt(pooled_proportion * (1-pooled_proportion) * (1/n_ds + 1/n_wpg)))\n",
    "\n",
    "crime_asymptotics"
   ]
  },
  {
   "cell_type": "markdown",
   "id": "87f7dc59-0df6-41ef-9c48-26ae2e735424",
   "metadata": {},
   "source": [
    "We can now easily find a 95% confidence interval using asymptotics."
   ]
  },
  {
   "cell_type": "code",
   "execution_count": 39,
   "id": "84bba57f-3364-4165-9903-a7d24fce708b",
   "metadata": {},
   "outputs": [
    {
     "data": {
      "text/html": [
       "<table class=\"dataframe\">\n",
       "<caption>A tibble: 1 × 2</caption>\n",
       "<thead>\n",
       "\t<tr><th scope=col>lower_ci</th><th scope=col>upper_ci</th></tr>\n",
       "\t<tr><th scope=col>&lt;dbl&gt;</th><th scope=col>&lt;dbl&gt;</th></tr>\n",
       "</thead>\n",
       "<tbody>\n",
       "\t<tr><td>-0.02200745</td><td>0.03850946</td></tr>\n",
       "</tbody>\n",
       "</table>\n"
      ],
      "text/latex": [
       "A tibble: 1 × 2\n",
       "\\begin{tabular}{ll}\n",
       " lower\\_ci & upper\\_ci\\\\\n",
       " <dbl> & <dbl>\\\\\n",
       "\\hline\n",
       "\t -0.02200745 & 0.03850946\\\\\n",
       "\\end{tabular}\n"
      ],
      "text/markdown": [
       "\n",
       "A tibble: 1 × 2\n",
       "\n",
       "| lower_ci &lt;dbl&gt; | upper_ci &lt;dbl&gt; |\n",
       "|---|---|\n",
       "| -0.02200745 | 0.03850946 |\n",
       "\n"
      ],
      "text/plain": [
       "  lower_ci    upper_ci  \n",
       "1 -0.02200745 0.03850946"
      ]
     },
     "metadata": {},
     "output_type": "display_data"
    }
   ],
   "source": [
    "obs_prop_diff_asymptotics <- crime_asymptotics$prop_diff\n",
    "null_std_error <- crime_asymptotics$null_std_error\n",
    "\n",
    "prop_ci_asymptotics <- tibble(\n",
    "    lower_ci = qnorm(0.025, obs_prop_diff_asymptotics, null_std_error),\n",
    "    upper_ci = qnorm(0.975, obs_prop_diff_asymptotics, null_std_error))\n",
    "\n",
    "prop_ci_asymptotics"
   ]
  },
  {
   "cell_type": "markdown",
   "id": "ff7d0a9e-d422-4cb4-8b23-b2e0cafb8d57",
   "metadata": {},
   "source": [
    "We note that 0 is included in the interval, meaning that is is likely that we may fail to reject the null hypothesis"
   ]
  },
  {
   "cell_type": "markdown",
   "id": "3a445011-837a-48e5-b2d2-7cf5802750c3",
   "metadata": {},
   "source": [
    "Finally, we will obtain the p-value."
   ]
  },
  {
   "cell_type": "code",
   "execution_count": 42,
   "id": "38df2fa4-74b7-4dd6-91ca-959ba7d68179",
   "metadata": {},
   "outputs": [
    {
     "data": {
      "text/html": [
       "0.296514658808924"
      ],
      "text/latex": [
       "0.296514658808924"
      ],
      "text/markdown": [
       "0.296514658808924"
      ],
      "text/plain": [
       "[1] 0.2965147"
      ]
     },
     "metadata": {},
     "output_type": "display_data"
    }
   ],
   "source": [
    "p_value_asymptotics <- pnorm(obs_prop_diff_asymptotics, 0, null_std_error, lower.tail=F)\n",
    "p_value_asymptotics"
   ]
  },
  {
   "cell_type": "markdown",
   "id": "ebb6108a-92ed-4ece-ad59-7ef5333f6d26",
   "metadata": {},
   "source": [
    "Clearly, the p-value above is greater than the significance level we set at 0.05, indicating that we fail to reject the null hypothesis."
   ]
  },
  {
   "cell_type": "markdown",
   "id": "47d3d8a5-7299-4838-92a1-e8bd0a7f0d50",
   "metadata": {},
   "source": [
    "In addition, we can use `prop.test` to do the same thing for us and check our answer."
   ]
  },
  {
   "cell_type": "code",
   "execution_count": 64,
   "id": "e3ff8d87",
   "metadata": {
    "vscode": {
     "languageId": "r"
    }
   },
   "outputs": [
    {
     "data": {
      "text/html": [
       "<table class=\"dataframe\">\n",
       "<caption>A tibble: 1 × 9</caption>\n",
       "<thead>\n",
       "\t<tr><th scope=col>estimate1</th><th scope=col>estimate2</th><th scope=col>statistic</th><th scope=col>p.value</th><th scope=col>parameter</th><th scope=col>conf.low</th><th scope=col>conf.high</th><th scope=col>method</th><th scope=col>alternative</th></tr>\n",
       "\t<tr><th scope=col>&lt;dbl&gt;</th><th scope=col>&lt;dbl&gt;</th><th scope=col>&lt;dbl&gt;</th><th scope=col>&lt;dbl&gt;</th><th scope=col>&lt;dbl&gt;</th><th scope=col>&lt;dbl&gt;</th><th scope=col>&lt;dbl&gt;</th><th scope=col>&lt;chr&gt;</th><th scope=col>&lt;chr&gt;</th></tr>\n",
       "</thead>\n",
       "<tbody>\n",
       "\t<tr><td>0.5856182</td><td>0.5773672</td><td>0.2856382</td><td>0.2965147</td><td>1</td><td>-0.01713783</td><td>1</td><td>2-sample test for equality of proportions without continuity correction</td><td>greater</td></tr>\n",
       "</tbody>\n",
       "</table>\n"
      ],
      "text/latex": [
       "A tibble: 1 × 9\n",
       "\\begin{tabular}{lllllllll}\n",
       " estimate1 & estimate2 & statistic & p.value & parameter & conf.low & conf.high & method & alternative\\\\\n",
       " <dbl> & <dbl> & <dbl> & <dbl> & <dbl> & <dbl> & <dbl> & <chr> & <chr>\\\\\n",
       "\\hline\n",
       "\t 0.5856182 & 0.5773672 & 0.2856382 & 0.2965147 & 1 & -0.01713783 & 1 & 2-sample test for equality of proportions without continuity correction & greater\\\\\n",
       "\\end{tabular}\n"
      ],
      "text/markdown": [
       "\n",
       "A tibble: 1 × 9\n",
       "\n",
       "| estimate1 &lt;dbl&gt; | estimate2 &lt;dbl&gt; | statistic &lt;dbl&gt; | p.value &lt;dbl&gt; | parameter &lt;dbl&gt; | conf.low &lt;dbl&gt; | conf.high &lt;dbl&gt; | method &lt;chr&gt; | alternative &lt;chr&gt; |\n",
       "|---|---|---|---|---|---|---|---|---|\n",
       "| 0.5856182 | 0.5773672 | 0.2856382 | 0.2965147 | 1 | -0.01713783 | 1 | 2-sample test for equality of proportions without continuity correction | greater |\n",
       "\n"
      ],
      "text/plain": [
       "  estimate1 estimate2 statistic p.value   parameter conf.low    conf.high\n",
       "1 0.5856182 0.5773672 0.2856382 0.2965147 1         -0.01713783 1        \n",
       "  method                                                                 \n",
       "1 2-sample test for equality of proportions without continuity correction\n",
       "  alternative\n",
       "1 greater    "
      ]
     },
     "metadata": {},
     "output_type": "display_data"
    }
   ],
   "source": [
    "c_wpg <- crime_estimates$n_wpg * crime_estimates$p_wpg\n",
    "c_ds <- crime_estimates$n_ds * crime_estimates$p_ds\n",
    "\n",
    "prop_test <- tidy(\n",
    "    prop.test(x = c(c_wpg, c_ds),\n",
    "              n = c(crime_estimates$n_wpg, crime_estimates$n_ds),\n",
    "              correct = FALSE,\n",
    "              alternative = \"greater\"))\n",
    "prop_test"
   ]
  },
  {
   "cell_type": "markdown",
   "id": "5a18a52d-ce05-4f93-90de-91b9d40c3b0e",
   "metadata": {},
   "source": [
    "As we can see, the p-value using asymptotics and prop.test gives us the same result, yet it is slightly different from what we got using the infer package."
   ]
  },
  {
   "cell_type": "markdown",
   "id": "529d9121",
   "metadata": {},
   "source": [
    "### Using the Infer Package"
   ]
  },
  {
   "cell_type": "markdown",
   "id": "e13c1dcb-cc59-4832-a732-a90a6035af92",
   "metadata": {},
   "source": [
    "We will first obtain the null hypothesis using the infer package after setting the seed to make the analysis reproducible."
   ]
  },
  {
   "cell_type": "code",
   "execution_count": null,
   "id": "0fd5d436",
   "metadata": {
    "vscode": {
     "languageId": "r"
    }
   },
   "outputs": [],
   "source": [
    "set.seed(1)\n",
    "\n",
    "null_model <- crime_transform %>%\n",
    "    specify(TYPE ~ NEIGHBOURHOOD, success = \"Theft\") %>%\n",
    "    hypothesise(null = \"independence\") %>%\n",
    "    generate(reps = 1000, type = \"permute\") %>%\n",
    "    calculate(stat = \"diff in props\", order = c(\"West Point Grey\", \"Dunbar-Southlands\"))\n",
    "head(null_model)"
   ]
  },
  {
   "cell_type": "markdown",
   "id": "226e0f0b-3adc-45d0-98dc-70c89a218fad",
   "metadata": {},
   "source": [
    "We will generate the boostrap distribution again using the infer package."
   ]
  },
  {
   "cell_type": "code",
   "execution_count": null,
   "id": "604a3e70",
   "metadata": {
    "vscode": {
     "languageId": "r"
    }
   },
   "outputs": [],
   "source": [
    "set.seed(1)\n",
    "\n",
    "boot_dist <- crime_transform %>%\n",
    "    specify(formula = type ~ neighbourhood, success = \"theft\")%>%\n",
    "    generate(reps = 1000, type = \"bootstrap\")%>%\n",
    "    calculate(stat = \"diff in props\", order = c(\"West Point Grey\", \"Dunbar-Southlands\"))\n",
    "head(boot_dist)"
   ]
  },
  {
   "cell_type": "markdown",
   "id": "e6c331fb-a736-4192-95c0-4841b552e0ac",
   "metadata": {},
   "source": [
    "Then, we will obtain a 95% confidence interval using the percentile method using `get_confidence_interval`."
   ]
  },
  {
   "cell_type": "code",
   "execution_count": null,
   "id": "6687ced8",
   "metadata": {
    "vscode": {
     "languageId": "r"
    }
   },
   "outputs": [],
   "source": [
    "percentile_ci_infer <- boot_dist %>%\n",
    "    get_confidence_interval(level = 0.95, type = \"percentile\")\n",
    "percentile_ci_infer"
   ]
  },
  {
   "cell_type": "markdown",
   "id": "133af555-ac4d-4064-b75b-169dc6895fd8",
   "metadata": {},
   "source": [
    "We will visualize the confidence interval using `visualize`"
   ]
  },
  {
   "cell_type": "code",
   "execution_count": null,
   "id": "79ed06ab",
   "metadata": {
    "vscode": {
     "languageId": "r"
    }
   },
   "outputs": [],
   "source": [
    "confidence_interval_infer <- visualize(boot_dist) +\n",
    "    shade_confidence_interval(endpoints = percentile_ci_infer)\n",
    "confidence_interval_infer"
   ]
  },
  {
   "cell_type": "markdown",
   "id": "a0c1b9f2-ae80-4ee4-b44a-c4a1f2303aaf",
   "metadata": {},
   "source": [
    "Then, we will calculate the observed proportion differences."
   ]
  },
  {
   "cell_type": "code",
   "execution_count": null,
   "id": "c3175971",
   "metadata": {
    "vscode": {
     "languageId": "r"
    }
   },
   "outputs": [],
   "source": [
    "obs_prop_diff_infer <- crime_transform %>%\n",
    "    group_by(NEIGHBOURHOOD)%>%\n",
    "    summarise(prop = mean(TYPE == \"Theft\"))%>%\n",
    "    pivot_wider(names_from = NEIGHBOURHOOD, values_from = prop) %>%\n",
    "    transmute(diff = `West Point Grey` - `Dunbar-Southlands`) %>%\n",
    "    pull(diff)\n",
    "obs_prop_diff_infer"
   ]
  },
  {
   "cell_type": "markdown",
   "id": "dd0cbd68-a201-43dc-8267-3209e0ddda71",
   "metadata": {},
   "source": [
    "We visualize the observed proportion differences along with the null model."
   ]
  },
  {
   "cell_type": "code",
   "execution_count": null,
   "id": "8f099c05",
   "metadata": {
    "vscode": {
     "languageId": "r"
    }
   },
   "outputs": [],
   "source": [
    "theft_result_plot <- \n",
    "   null_model %>%\n",
    "   visualize() + \n",
    "   shade_p_value(obs_stat = obs_prop_diff_infer, direction = \"right\")+\n",
    "   xlab(\"prop diff\")\n",
    "theft_result_plot"
   ]
  },
  {
   "cell_type": "markdown",
   "id": "3bfd53be-a488-4799-b71d-e9a1464b86fd",
   "metadata": {},
   "source": [
    "Lastly, we obtain the p_value using `get_p_value`."
   ]
  },
  {
   "cell_type": "code",
   "execution_count": null,
   "id": "998ad7d5",
   "metadata": {
    "vscode": {
     "languageId": "r"
    }
   },
   "outputs": [],
   "source": [
    "p_value_infer <- null_model %>%\n",
    "    get_p_value(obs_stat = obs_prop_diff_infer, direction = \"right\")\n",
    "p_value_infer "
   ]
  },
  {
   "cell_type": "markdown",
   "id": "b9835cb6-a830-4957-b3b9-cf997d0b701f",
   "metadata": {},
   "source": [
    "# Discussion\n",
    "In this section, you’ll interpret the results you obtained in the previous section with respect to the main question/goal of your project.\n",
    "\n",
    "* Summarize what you found, and the implications/impact of your findings.\n",
    "* If relevant, discuss whether your results were what you expected to find.\n",
    "* Discuss future questions/research this study could lead to.\n",
    "\n",
    "We expect that West Point Grey will have a statistically significant higher proportion of theft compared to Dunbar Southlands, because it is closer to the UBC campus, which likely has a higher population density and floating population.\n",
    "\n",
    "One drawback of our study is while big data may explain differences in the danger of theft and support governmental measures, it cannot explain individual cases or provide detailed plan of how to minimize the risks. Furthermore, a challenge we face is how to extrapolate our analysis to predict future crime rates, as that is the only important information for reducing crimes.\n",
    "\n",
    "Our findings could impact residents living in either neighbourhoods if not both to be more aware of theft in their area and enforce relevant safety measures. It can also help individuals, especially UBC students living off-campus to decide which neighbourhood they would rather live in should that have related items such as bicycles or vehicles.\n",
    "\n",
    "\n",
    "Should we find a statistical significance between the proportion of theft in both areas, it may raise further questions in determining the underlying motivations behind such thefts and what features cause an increase in theft in one area compared to another."
   ]
  },
  {
   "cell_type": "markdown",
   "id": "8c238a14-3b0b-43af-847c-8abe722ca278",
   "metadata": {},
   "source": [
    "# References\n",
    "Branch, Legislative Services. “Consolidated Federal Laws of Canada, Criminal Code.” Criminal Code, 27 July 2023, [laws-lois.justice.gc.ca/eng/acts/c-46/section-322.html](laws-lois.justice.gc.ca/eng/acts/c-46/section-322.html). \n",
    "\n",
    "Crime Statistics. “Crime Statistics.” Vancouver Police Department, 19 July 2023, [vpd.ca/crime-statistics/](vpd.ca/crime-statistics/). \n",
    "\n",
    "Government of Canada, Department of Justice. “State of the Criminal Justice System - 2019 Report.” Results by Outcome, 7 July 2021, [www.justice.gc.ca/eng/cj-jp/state-etat/2019rpt-rap2019/p7.html](www.justice.gc.ca/eng/cj-jp/state-etat/2019rpt-rap2019/p7.html). \n",
    "\n",
    "UBC. “Your Guide to Neighborhoods in Vancouver: UBC Vantage College.” Your Guide to Neighborhoods in Vancouver | UBC Vantage College, [vantagecollege.ubc.ca/blog/your-guide-neighborhoods-vancouver](vantagecollege.ubc.ca/blog/your-guide-neighborhoods-vancouver). Accessed 30 July 2023. \n",
    "\n",
    "Vancouver Police Department. “Vancouver Police Department Crime Data.” Accessed 30 July 2023. "
   ]
  }
 ],
 "metadata": {
  "kernelspec": {
   "display_name": "R",
   "language": "R",
   "name": "ir"
  },
  "language_info": {
   "codemirror_mode": "r",
   "file_extension": ".r",
   "mimetype": "text/x-r-source",
   "name": "R",
   "pygments_lexer": "r",
   "version": "4.1.3"
  }
 },
 "nbformat": 4,
 "nbformat_minor": 5
}
