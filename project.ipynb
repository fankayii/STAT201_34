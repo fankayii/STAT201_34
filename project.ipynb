{
 "cells": [
  {
   "cell_type": "markdown",
   "id": "46d96128-f7e7-41c7-a503-5aec67e81951",
   "metadata": {},
   "source": [
    "# **Statistical Inference - TITLE**"
   ]
  },
  {
   "cell_type": "markdown",
   "id": "12adca33-e3d1-4d18-974e-f8d9a2ebc60e",
   "metadata": {},
   "source": [
    "Group Members: Andy Hu, Wendi Ke, CC Liang, Mridul Manas"
   ]
  },
  {
   "cell_type": "markdown",
   "id": "860a04a1-4d6c-4e05-9ae8-57e4206a61a2",
   "metadata": {},
   "source": [
    "## Introduction\n",
    "- Relevant background information on the topic so that someone unfamiliar with it will be prepared to understand the rest of your proposal.\n",
    "- Clearly state the question you will try to answer with your project. Your question should involve one or more random variables of interest, spread across two or more categories that are interesting to compare. For example, you could consider the annual maxima river flow at two different locations along a river, or perhaps gender diversity at different universities. Of the response variable, identify one location parameter (mean, median, quantile, etc.) and one scale parameter (standard deviation, inter-quartile range, etc.) that would be useful in answering your question. Justify your choices.\n",
    "\n",
    "# Introduction\n",
    "### Background information \n",
    "- with at least two scientific publications and stat infer question\n",
    "\n",
    "### Variables\n",
    "- random variable of interest spread across two or more categories that are interesting to compare\n",
    "- Of the response variable, identify one location parameter (mean, median, quantile, etc.) and one scale parameter (standard deviation, inter-quartile range, etc.) that would be useful in answering your question. Justify your choices.\n",
    "\n",
    "### Hypotheses\n",
    "- Null Hypothesis $H_0$:\n",
    "- Alternative Hypothesis $H_A$:\n",
    "\n",
    "### Dataset Description\n",
    "- Identify and describe the dataset that will be used to answer the question."
   ]
  },
  {
   "cell_type": "markdown",
   "id": "eb2a214c-d47a-4afe-a231-48dff8e6d45f",
   "metadata": {},
   "source": [
    "## Preliminary Results\n",
    "- Demonstrate that the dataset can be read from the web into R.\n",
    "- Clean and wrangle your data into a tidy format.\n",
    "- Plot the relevant raw data, tailoring your plot in a way that addresses your question.\n",
    "- Compute estimates of the parameter you identified across your groups. Present this in a table. If relevant, include these estimates in your plot.\n",
    "- Be sure to not print output that takes up a lot of screen space."
   ]
  },
  {
   "cell_type": "markdown",
   "id": "99d69c64-d761-4f70-ba0e-a8f43e4c0895",
   "metadata": {},
   "source": [
    "### Loading Packages and Seed Setting\n",
    "The `tideverse` and `infer` packages allow us to clean and wrangle data, create visualizations, and make statistical inferences. We set the seed to be 1 and will keep it for the entire data analysis. We also set the options to ensure that graphs will display properly."
   ]
  },
  {
   "cell_type": "code",
   "execution_count": 1,
   "id": "c2f643ec-8e8e-4f9d-9376-25b31671513b",
   "metadata": {},
   "outputs": [
    {
     "name": "stderr",
     "output_type": "stream",
     "text": [
      "── \u001b[1mAttaching packages\u001b[22m ─────────────────────────────────────── tidyverse 1.3.2 ──\n",
      "\u001b[32m✔\u001b[39m \u001b[34mggplot2\u001b[39m 3.3.6      \u001b[32m✔\u001b[39m \u001b[34mpurrr  \u001b[39m 0.3.4 \n",
      "\u001b[32m✔\u001b[39m \u001b[34mtibble \u001b[39m 3.1.8      \u001b[32m✔\u001b[39m \u001b[34mdplyr  \u001b[39m 1.0.10\n",
      "\u001b[32m✔\u001b[39m \u001b[34mtidyr  \u001b[39m 1.2.1      \u001b[32m✔\u001b[39m \u001b[34mstringr\u001b[39m 1.4.1 \n",
      "\u001b[32m✔\u001b[39m \u001b[34mreadr  \u001b[39m 2.1.2      \u001b[32m✔\u001b[39m \u001b[34mforcats\u001b[39m 0.5.2 \n",
      "── \u001b[1mConflicts\u001b[22m ────────────────────────────────────────── tidyverse_conflicts() ──\n",
      "\u001b[31m✖\u001b[39m \u001b[34mdplyr\u001b[39m::\u001b[32mfilter()\u001b[39m masks \u001b[34mstats\u001b[39m::filter()\n",
      "\u001b[31m✖\u001b[39m \u001b[34mdplyr\u001b[39m::\u001b[32mlag()\u001b[39m    masks \u001b[34mstats\u001b[39m::lag()\n"
     ]
    }
   ],
   "source": [
    "library(tidyverse)\n",
    "library(infer)\n",
    "options(repr.plot.width = 15, repr.plot.height = 8)\n",
    "set.seed(1)"
   ]
  },
  {
   "cell_type": "markdown",
   "id": "b97de2d7-4fdd-4314-9bdc-c83049ff4f3c",
   "metadata": {},
   "source": [
    "### Reading the Dataset\n",
    "The file is a .csv file with headers so we can use `read_csv`. We uploaded the dataset to our remote GitHub repository so we can read it directly from web."
   ]
  },
  {
   "cell_type": "markdown",
   "id": "75e7f29a-8c99-4dec-99d7-3f778d425fc1",
   "metadata": {},
   "source": [
    "### Cleaning and Wrangling Data\n",
    "The goal of this step is to remove unnecessary columns and NA rows."
   ]
  },
  {
   "cell_type": "markdown",
   "id": "1e108712-895e-4e73-ae1b-e803540cfa7c",
   "metadata": {},
   "source": [
    "### Visualizing Raw Data"
   ]
  },
  {
   "cell_type": "markdown",
   "id": "85688b5c-90b1-4437-9850-aa9d510a58e1",
   "metadata": {},
   "source": [
    "### Computing Estimates of the Parameter\n",
    "- present this in a table. if relevant, include these estimates in your plot."
   ]
  },
  {
   "cell_type": "markdown",
   "id": "2e2872cc-1846-439f-b371-800f9a120a6c",
   "metadata": {},
   "source": [
    "## Methods: Plan\n",
    "Methods: Plan\n",
    "- Description of “the good things” about this report – specifically, in what ways is this report trustworthy?\n",
    "- Continue by explaining why the plot(s) and estimates that you produced are not enough to give to a stakeholder, and what you should provide in addition to address this gap. Make sure your plans include at least one hypothesis test and one confidence interval. If possible, compare both the bootstrapping and asymptotics methods.\n",
    "- What do you expect to find?\n",
    "- What impact could such findings have?\n",
    "- What future questions could this lead to?"
   ]
  },
  {
   "cell_type": "markdown",
   "id": "e00df603-f55c-4c7c-9644-4eae41b6ab9f",
   "metadata": {},
   "source": [
    "## References\n",
    "- At least two citations of literature relevant to the project. The citation format is your choice – just be consistent. Make sure to cite the source of your data as well."
   ]
  },
  {
   "cell_type": "code",
   "execution_count": null,
   "id": "bf629398-4b12-42f0-96a1-24272278a80c",
   "metadata": {},
   "outputs": [],
   "source": []
  }
 ],
 "metadata": {
  "kernelspec": {
   "display_name": "R",
   "language": "R",
   "name": "ir"
  },
  "language_info": {
   "codemirror_mode": "r",
   "file_extension": ".r",
   "mimetype": "text/x-r-source",
   "name": "R",
   "pygments_lexer": "r",
   "version": "4.1.3"
  }
 },
 "nbformat": 4,
 "nbformat_minor": 5
}
