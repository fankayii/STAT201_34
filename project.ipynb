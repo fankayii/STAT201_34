{
 "cells": [
  {
   "cell_type": "markdown",
   "id": "46d96128-f7e7-41c7-a503-5aec67e81951",
   "metadata": {},
   "source": [
    "# **Statistical Inference - TITLE**"
   ]
  },
  {
   "cell_type": "markdown",
   "id": "12adca33-e3d1-4d18-974e-f8d9a2ebc60e",
   "metadata": {},
   "source": [
    "Group Members: Andy Hu, Wendi Ke, CC Liang, Mridul Manas"
   ]
  },
  {
   "cell_type": "markdown",
   "id": "860a04a1-4d6c-4e05-9ae8-57e4206a61a2",
   "metadata": {},
   "source": [
    "## Introduction\n",
    "- Relevant background information on the topic so that someone unfamiliar with it will be prepared to understand the rest of your proposal.\n",
    "- Clearly state the question you will try to answer with your project. Your question should involve one or more random variables of interest, spread across two or more categories that are interesting to compare. For example, you could consider the annual maxima river flow at two different locations along a river, or perhaps gender diversity at different universities. Of the response variable, identify one location parameter (mean, median, quantile, etc.) and one scale parameter (standard deviation, inter-quartile range, etc.) that would be useful in answering your question. Justify your choices."
   ]
  },
  {
   "cell_type": "markdown",
   "id": "eb2a214c-d47a-4afe-a231-48dff8e6d45f",
   "metadata": {},
   "source": [
    "## Preliminary Results\n",
    "- Demonstrate that the dataset can be read from the web into R.\n",
    "- Clean and wrangle your data into a tidy format.\n",
    "- Plot the relevant raw data, tailoring your plot in a way that addresses your question.\n",
    "- Compute estimates of the parameter you identified across your groups. Present this in a table. If relevant, include these estimates in your plot.\n",
    "- Be sure to not print output that takes up a lot of screen space."
   ]
  },
  {
   "cell_type": "markdown",
   "id": "2e2872cc-1846-439f-b371-800f9a120a6c",
   "metadata": {},
   "source": [
    "## Methods: Plan\n",
    "Methods: Plan\n",
    "- Description of “the good things” about this report – specifically, in what ways is this report trustworthy?\n",
    "- Continue by explaining why the plot(s) and estimates that you produced are not enough to give to a stakeholder, and what you should provide in addition to address this gap. Make sure your plans include at least one hypothesis test and one confidence interval. If possible, compare both the bootstrapping and asymptotics methods.\n",
    "- What do you expect to find?\n",
    "- What impact could such findings have?\n",
    "- What future questions could this lead to?"
   ]
  },
  {
   "cell_type": "markdown",
   "id": "e00df603-f55c-4c7c-9644-4eae41b6ab9f",
   "metadata": {},
   "source": [
    "## References\n",
    "- At least two citations of literature relevant to the project. The citation format is your choice – just be consistent. Make sure to cite the source of your data as well."
   ]
  },
  {
   "cell_type": "code",
   "execution_count": null,
   "id": "bf629398-4b12-42f0-96a1-24272278a80c",
   "metadata": {},
   "outputs": [],
   "source": []
  }
 ],
 "metadata": {
  "kernelspec": {
   "display_name": "R",
   "language": "R",
   "name": "ir"
  },
  "language_info": {
   "codemirror_mode": "r",
   "file_extension": ".r",
   "mimetype": "text/x-r-source",
   "name": "R",
   "pygments_lexer": "r",
   "version": "4.1.3"
  }
 },
 "nbformat": 4,
 "nbformat_minor": 5
}
